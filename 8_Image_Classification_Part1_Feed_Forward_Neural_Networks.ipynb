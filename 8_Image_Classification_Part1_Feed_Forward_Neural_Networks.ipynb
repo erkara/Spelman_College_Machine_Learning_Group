{
 "cells": [
  {
   "cell_type": "markdown",
   "id": "4c610fcd",
   "metadata": {
    "toc": true
   },
   "source": [
    "<h1>Table of Contents<span class=\"tocSkip\"></span></h1>\n",
    "<div class=\"toc\"><ul class=\"toc-item\"><li><span><a href=\"#Preprocessing-and-Data-Loading\" data-toc-modified-id=\"Preprocessing-and-Data-Loading-1\"><span class=\"toc-item-num\">1&nbsp;&nbsp;</span>Preprocessing and Data Loading</a></span><ul class=\"toc-item\"><li><span><a href=\"#Import-necessary-modules\" data-toc-modified-id=\"Import-necessary-modules-1.1\"><span class=\"toc-item-num\">1.1&nbsp;&nbsp;</span>Import necessary modules</a></span></li><li><span><a href=\"#Some-Comments-on-Preprocessing\" data-toc-modified-id=\"Some-Comments-on-Preprocessing-1.2\"><span class=\"toc-item-num\">1.2&nbsp;&nbsp;</span>Some Comments on Preprocessing</a></span></li><li><span><a href=\"#Loading-the-Data-via-Pytorch-DataLoader\" data-toc-modified-id=\"Loading-the-Data-via-Pytorch-DataLoader-1.3\"><span class=\"toc-item-num\">1.3&nbsp;&nbsp;</span>Loading the Data via Pytorch DataLoader</a></span></li></ul></li><li><span><a href=\"#Build-the-Model\" data-toc-modified-id=\"Build-the-Model-2\"><span class=\"toc-item-num\">2&nbsp;&nbsp;</span>Build the Model</a></span></li><li><span><a href=\"#Train-and-Test\" data-toc-modified-id=\"Train-and-Test-3\"><span class=\"toc-item-num\">3&nbsp;&nbsp;</span>Train and Test</a></span></li><li><span><a href=\"#Post-Processing\" data-toc-modified-id=\"Post-Processing-4\"><span class=\"toc-item-num\">4&nbsp;&nbsp;</span>Post-Processing</a></span><ul class=\"toc-item\"><li><span><a href=\"#Display-The-Predictions-with-Ground-Truths\" data-toc-modified-id=\"Display-The-Predictions-with-Ground-Truths-4.1\"><span class=\"toc-item-num\">4.1&nbsp;&nbsp;</span>Display The Predictions with Ground Truths</a></span></li><li><span><a href=\"#Evaluate-the-Performance-Metrics\" data-toc-modified-id=\"Evaluate-the-Performance-Metrics-4.2\"><span class=\"toc-item-num\">4.2&nbsp;&nbsp;</span>Evaluate the Performance Metrics</a></span><ul class=\"toc-item\"><li><span><a href=\"#Confusion-Matrix\" data-toc-modified-id=\"Confusion-Matrix-4.2.1\"><span class=\"toc-item-num\">4.2.1&nbsp;&nbsp;</span>Confusion Matrix</a></span></li><li><span><a href=\"#Overall-Accuracy\" data-toc-modified-id=\"Overall-Accuracy-4.2.2\"><span class=\"toc-item-num\">4.2.2&nbsp;&nbsp;</span>Overall Accuracy</a></span></li><li><span><a href=\"#Recall\" data-toc-modified-id=\"Recall-4.2.3\"><span class=\"toc-item-num\">4.2.3&nbsp;&nbsp;</span>Recall</a></span></li><li><span><a href=\"#Precision\" data-toc-modified-id=\"Precision-4.2.4\"><span class=\"toc-item-num\">4.2.4&nbsp;&nbsp;</span>Precision</a></span></li><li><span><a href=\"#F1-Score\" data-toc-modified-id=\"F1-Score-4.2.5\"><span class=\"toc-item-num\">4.2.5&nbsp;&nbsp;</span>F1-Score</a></span></li></ul></li></ul></li></ul></div>"
   ]
  },
  {
   "cell_type": "markdown",
   "id": "841c16ed",
   "metadata": {},
   "source": [
    "## Preprocessing and Data Loading"
   ]
  },
  {
   "cell_type": "markdown",
   "id": "235d1bb3",
   "metadata": {},
   "source": [
    "### Import necessary modules"
   ]
  },
  {
   "cell_type": "code",
   "execution_count": 1,
   "id": "0b91070d",
   "metadata": {},
   "outputs": [],
   "source": [
    "colab = False\n",
    "if colab:\n",
    "    from google.colab import drive\n",
    "    drive.mount('/content/drive')\n",
    "\n",
    "    #import modules here if necessary\n",
    "    !pip install torchinfo\n",
    "\n",
    "    #make-dirs\n",
    "    !mkdir -p '/content/House_Rooms_Dataset/train'\n",
    "    !mkdir -p '/content/House_Rooms_Dataset/test'\n",
    "    !mkdir -p '/content/results/House_Rooms'\n",
    "    \n",
    "    #define test-train-ext dirs\n",
    "    train_dir = '/content/House_Rooms_Dataset/train'\n",
    "    test_dir = '/content/House_Rooms_Dataset/test'\n",
    "    ext_dir = '/content/results/House_Rooms'\n",
    "\n",
    "    #modify here\n",
    "    !unzip -u '/content/drive/MyDrive/ColabNotebooks/SpelmanResearch/datasets/House_Rooms_Resized/train.zip' -d '/content/House_Rooms_Dataset'\n",
    "    !unzip -u '/content/drive/MyDrive/ColabNotebooks/SpelmanResearch/datasets/House_Rooms_Resized/test.zip' -d '/content/House_Rooms_Dataset'\n",
    "else:\n",
    "    #change this to your own local directories if you dont work on Colab\n",
    "    train_dir = 'datasets/House_Room_Dataset_Resized/train/'\n",
    "    test_dir = 'datasets/House_Room_Dataset_Resized/test/'\n",
    "    ext_dir =  'results/House_Rooms/'"
   ]
  },
  {
   "cell_type": "code",
   "execution_count": 2,
   "id": "7e1cede7",
   "metadata": {},
   "outputs": [
    {
     "name": "stdout",
     "output_type": "stream",
     "text": [
      "NVIDIA GeForce RTX 2070 Super\n"
     ]
    }
   ],
   "source": [
    "#==============================#\n",
    "import numpy as np \n",
    "import pandas as pd\n",
    "import matplotlib.pyplot as plt\n",
    "from PIL import Image\n",
    "import seaborn as sns\n",
    "#===========================#\n",
    "import torch\n",
    "import torch.nn as nn\n",
    "from torch.utils.data import DataLoader\n",
    "from torchvision import transforms\n",
    "from torchvision import datasets\n",
    "import torch.nn.functional as F\n",
    "#============================#\n",
    "import os\n",
    "import random\n",
    "import sys\n",
    "from torchinfo import summary\n",
    "from sklearn.metrics import confusion_matrix\n",
    "from tqdm.notebook import tqdm\n",
    "import warnings\n",
    "warnings.filterwarnings('ignore') \n",
    "#==============================#\n",
    "%matplotlib inline\n",
    "device = torch.device(\"cuda\" if torch.cuda.is_available() else \"cpu\")\n",
    "print(torch.cuda.get_device_name(0))"
   ]
  },
  {
   "cell_type": "markdown",
   "id": "4985ccbc",
   "metadata": {},
   "source": [
    "### Some Comments on Preprocessing "
   ]
  },
  {
   "cell_type": "markdown",
   "id": "f83247b2",
   "metadata": {},
   "source": [
    "-  We will be working on House_Room dataset [here](https://www.kaggle.com/robinreni/house-rooms-image-dataset). Task is to classify five room types of houses. \n",
    "-  Original dataset has around 5000 images of size 224x224 RGB and does not have train-test folders. It is composed of just root directory and class folders in it. We would like to create subset of it.\n",
    "- Perform train-test split via *CreateTrainTest*. This function will scan the images in each class, mark as training and testing and copy them 'train' and 'test' folders in the same directory.\n",
    "- Resize all the images to 60x60 via *ResizeSave*. In order to speep-up the training, resizing was performed before training, not as part of augmentation. This step is usually overlooked in many application. However, resizing is a big bottlenect significantly increasing the training time.  \n",
    "\n",
    "-  After these steps, we have a folder called 'House_Room_Dataset_Resized'. This will be our root directory from now on. Let's keep these functions in a seperate directory python file \"HelperFunctions.py\". We can import and use them whenever we want."
   ]
  },
  {
   "cell_type": "markdown",
   "id": "089ff5da",
   "metadata": {},
   "source": [
    "### Loading the Data via Pytorch DataLoader"
   ]
  },
  {
   "cell_type": "markdown",
   "id": "3ac547af",
   "metadata": {},
   "source": [
    "- Pytorch provides several classes which make the data loading easy and fast.\n",
    "- It is essential to perform data augmentation on the training data. Core idea is to feed different batch of modified images to the model. Please carefully read the section 'Improving Neural Networks' in the report in our repository. \n",
    "- We have just one data augmentation here which is to 'Shuffle' the images in each batch. In the second part of this notebook, we will introduce more augmentation with convolutional neural networks.Thus, consider this part as the experimental stage."
   ]
  },
  {
   "cell_type": "code",
   "execution_count": 3,
   "id": "bc28668f",
   "metadata": {
    "code_folding": [],
    "run_control": {
     "marked": false
    }
   },
   "outputs": [],
   "source": [
    "#reading and loading the data\n",
    "training_transforms = transforms.Compose([transforms.ToTensor()])\n",
    "test_transforms = transforms.Compose([transforms.ToTensor()])\n",
    "\n",
    "\n",
    "train_set = datasets.ImageFolder(train_dir, transform = training_transforms)\n",
    "test_set  = datasets.ImageFolder(test_dir, transform = test_transforms)\n",
    "\n",
    "batch_size = 10\n",
    "train_loader = DataLoader(train_set,batch_size = batch_size,drop_last=True,shuffle=True)\n",
    "test_loader = DataLoader(test_set,batch_size = batch_size)"
   ]
  },
  {
   "cell_type": "code",
   "execution_count": 4,
   "id": "29718de3",
   "metadata": {
    "code_folding": []
   },
   "outputs": [
    {
     "name": "stdout",
     "output_type": "stream",
     "text": [
      "class_list: ['Bathroom', 'Bedroom', 'Dinning', 'Kitchen', 'Livingroom']\n"
     ]
    }
   ],
   "source": [
    "#let's see what we got from dataset class\n",
    "class_list = train_set.classes\n",
    "class_to_idx = train_set.class_to_idx\n",
    "idx_to_class = {i:j for i, j in enumerate(class_list)}\n",
    "num_classes = len(class_list)\n",
    "\n",
    "print('class_list:', class_list)\n",
    "# print('class_to_idx: ',class_to_idx)\n",
    "# print('num_classes: ', num_classes)"
   ]
  },
  {
   "cell_type": "markdown",
   "id": "2dfeda50",
   "metadata": {},
   "source": [
    "The following output is important. Since we set batch_size = 10, we have 10 images in each 'load' and 10 labels corresponding to each of these images."
   ]
  },
  {
   "cell_type": "code",
   "execution_count": 5,
   "id": "a2f12f6a",
   "metadata": {},
   "outputs": [
    {
     "name": "stdout",
     "output_type": "stream",
     "text": [
      "torch.Size([10, 3, 60, 60])\n",
      "tensor([0, 2, 2, 4, 1, 1, 3, 4, 3, 0])\n"
     ]
    }
   ],
   "source": [
    "images, labels = iter(train_loader).next()\n",
    "print(images.shape)\n",
    "print(labels)"
   ]
  },
  {
   "cell_type": "code",
   "execution_count": 6,
   "id": "dfb37fdd",
   "metadata": {},
   "outputs": [
    {
     "name": "stdout",
     "output_type": "stream",
     "text": [
      "train_set has 4198 images\n",
      "testing_set has 1052 images\n"
     ]
    }
   ],
   "source": [
    "#80%-20%\n",
    "print(f'train_set has {len(train_set)} images')\n",
    "print(f'testing_set has {len(test_set)} images')"
   ]
  },
  {
   "cell_type": "code",
   "execution_count": 7,
   "id": "20ce05c8",
   "metadata": {
    "code_folding": [
     0
    ]
   },
   "outputs": [],
   "source": [
    "def GetDataPaths(train_dir,test_dir):\n",
    "    train_image_paths = []\n",
    "    test_image_paths = []\n",
    "    for (dirpath, dirnames, filenames) in os.walk(train_dir):\n",
    "        for names in filenames:\n",
    "            train_image_paths.append(os.path.join(dirpath,names))\n",
    "    for (dirpath, dirnames, filenames) in os.walk(test_dir):\n",
    "        for names in filenames:\n",
    "            test_image_paths.append(os.path.join(dirpath,names))\n",
    "\n",
    "    random.shuffle(train_image_paths)\n",
    "    random.shuffle(test_image_paths)\n",
    "    \n",
    "    return train_image_paths,test_image_paths\n",
    "\n",
    "train_image_paths,test_image_paths = GetDataPaths(train_dir, test_dir)"
   ]
  },
  {
   "cell_type": "code",
   "execution_count": 8,
   "id": "3bb73c08",
   "metadata": {
    "code_folding": []
   },
   "outputs": [],
   "source": [
    "#let's look at some images\n",
    "def ViewSamples(n,parentdir):\n",
    "    # show nxn random samples from parentdir\n",
    "    f,ax = plt.subplots(n,n) \n",
    "    f.subplots_adjust(0,0,3,3)#(left,bottom,vertical_distance b/w columns)\n",
    "    for i in range(0,n,1):\n",
    "        for j in range(0,n,1):\n",
    "            rnd_number = random.randint(0,len(test_image_paths))\n",
    "            img_path = test_image_paths[rnd_number]\n",
    "            img_label = img_path.split('/')[-2]\n",
    "            image = Image.open(img_path).convert(\"RGB\")\n",
    "            ax[i,j].imshow(image)\n",
    "            ax[i,j].set_title(img_label)\n",
    "            ax[i,j].axis('off')\n",
    "\n",
    "#ViewSamples(4,test_image_paths)"
   ]
  },
  {
   "cell_type": "markdown",
   "id": "007fd672",
   "metadata": {},
   "source": [
    "- A common practice is to check the class distributions. It is important to have almost the same number of images from each class type. Otherwise, the model will struggle to learn the minority class, in this case 'Kitchen'\n",
    "- There are very well established methods(oversampling, use class weights etc) to deal with this issue but we will reserve them for another lecture."
   ]
  },
  {
   "cell_type": "code",
   "execution_count": 9,
   "id": "2c8d595e",
   "metadata": {},
   "outputs": [],
   "source": [
    "#class_list: ['Bathroom', 'Bedroom', 'Dinning', 'Kitchen', 'Livingroom']"
   ]
  },
  {
   "cell_type": "code",
   "execution_count": 10,
   "id": "ba3a585c",
   "metadata": {
    "code_folding": []
   },
   "outputs": [],
   "source": [
    "#If we just use the original data, this is quite skew... Later..\n",
    "def ShowClassDist(train_dir):\n",
    "    class_counts = []\n",
    "    for (dirpath, dirnames, filenames) in os.walk(train_dir):\n",
    "        if len(dirnames)!=0:\n",
    "            class_list = dirnames\n",
    "        \n",
    "        if len(filenames)>0:\n",
    "            class_counts.append(len(filenames))\n",
    "    fig, ax = plt.subplots(figsize=(10,6))\n",
    "    ax.bar(class_list, class_counts)\n",
    "    plt.xticks(fontsize=10, rotation=90)\n",
    "    plt.show()\n",
    "#ShowClassDist(train_dir)"
   ]
  },
  {
   "cell_type": "code",
   "execution_count": null,
   "id": "0479031e",
   "metadata": {},
   "outputs": [],
   "source": []
  },
  {
   "cell_type": "markdown",
   "id": "fa9a7925",
   "metadata": {},
   "source": [
    "## Build the Model "
   ]
  },
  {
   "cell_type": "markdown",
   "id": "aebf48c0",
   "metadata": {},
   "source": [
    "As the first step, let's build a fully connected network with 3 hidden layers having 100,50,20 neurons, respectively."
   ]
  },
  {
   "cell_type": "code",
   "execution_count": 11,
   "id": "e846aa14",
   "metadata": {},
   "outputs": [],
   "source": [
    "# Extent nn.Module to create a custom FCN\n",
    "class HouseModel(nn.Module):\n",
    "    def __init__(self):\n",
    "        super(HouseModel,self).__init__()\n",
    "        \n",
    "        self.fc1 = nn.Linear(3*60*60, 100)\n",
    "        self.relu1 = nn.ReLU()\n",
    "        \n",
    "        self.fc2 = nn.Linear(100, 50)\n",
    "        self.relu2 = nn.ReLU()\n",
    "        \n",
    "        self.fc3 = nn.Linear(50, 20)\n",
    "        self.relu3 = nn.ReLU()\n",
    "        \n",
    "        self.out = nn.Linear(20, num_classes)\n",
    "            \n",
    "    def forward(self, t):\n",
    "\n",
    "        t = torch.flatten(t,1)\n",
    "        t = self.relu1(self.fc1(t))\n",
    "        t = self.relu2(self.fc2(t))\n",
    "        t = self.relu3(self.fc3(t))\n",
    "                \n",
    "        t = self.out(t)\n",
    "        \n",
    "        return t"
   ]
  },
  {
   "cell_type": "code",
   "execution_count": 12,
   "id": "b00970b6",
   "metadata": {},
   "outputs": [],
   "source": [
    "model = HouseModel1()"
   ]
  },
  {
   "cell_type": "code",
   "execution_count": 38,
   "id": "a90d2689",
   "metadata": {},
   "outputs": [
    {
     "data": {
      "text/plain": [
       "==========================================================================================\n",
       "Layer (type:depth-idx)                   Output Shape              Param #\n",
       "==========================================================================================\n",
       "HouseModel                               --                        --\n",
       "├─Linear: 1-1                            [10, 100]                 1,080,100\n",
       "├─ReLU: 1-2                              [10, 100]                 --\n",
       "├─Linear: 1-3                            [10, 50]                  5,050\n",
       "├─ReLU: 1-4                              [10, 50]                  --\n",
       "├─Linear: 1-5                            [10, 20]                  1,020\n",
       "├─ReLU: 1-6                              [10, 20]                  --\n",
       "├─Linear: 1-7                            [10, 5]                   105\n",
       "==========================================================================================\n",
       "Total params: 1,086,275\n",
       "Trainable params: 1,086,275\n",
       "Non-trainable params: 0\n",
       "Total mult-adds (M): 10.86\n",
       "==========================================================================================\n",
       "Input size (MB): 0.43\n",
       "Forward/backward pass size (MB): 0.01\n",
       "Params size (MB): 4.35\n",
       "Estimated Total Size (MB): 4.79\n",
       "=========================================================================================="
      ]
     },
     "execution_count": 38,
     "metadata": {},
     "output_type": "execute_result"
    }
   ],
   "source": [
    "summary(model,input_size=(batch_size,3,60,60))"
   ]
  },
  {
   "cell_type": "markdown",
   "id": "97cf4641",
   "metadata": {},
   "source": [
    "Recall that forward pass works like \n",
    "\\begin{equation*}\n",
    "z^{i} = \\mathbf{W}^{i}a^{i-1}+b^{i} \\\\\n",
    "a^{i} = \\sigma(z^{i})\n",
    "\\end{equation*}\n",
    "\n",
    "where $i=1.2... L$ and $\\sigma$ is the predefined activation function. Dimension of the weight matrix $\\mathbf{W}^{i}$ is $MxN$ where\n",
    "M is the number of neurons in the $(i+1)$th layer and N is the number of neurons in the $i$th layer. The bias $b$ is $Nx1$.\n"
   ]
  },
  {
   "cell_type": "code",
   "execution_count": 14,
   "id": "49d85044",
   "metadata": {
    "code_folding": [],
    "hide_input": false
   },
   "outputs": [],
   "source": [
    "#carefully examine what we have here\n",
    "# print(f'W_1: {model.fc1.weight.shape}    b_1: {model.fc1.bias.shape} ')\n",
    "# print(f'W_2: {model.fc2.weight.shape}    b_2: {model.fc2.bias.shape} ')\n",
    "# #print(f'W_3: {model.fc3.weight.shape}    b_3: {model.fc3.bias.shape} ')\n",
    "# print(f'W_4: {model.out.weight.shape}    b_4: {model.out.bias.shape} ')"
   ]
  },
  {
   "cell_type": "code",
   "execution_count": 15,
   "id": "4bdef306",
   "metadata": {
    "code_folding": []
   },
   "outputs": [],
   "source": [
    "#let's take a batch from dataloader and interpreate the output\n",
    "# model  = HouseModel1()\n",
    "# imgs,labels = iter(train_loader).next()\n",
    "# outputs = model(imgs)\n",
    "# print(f'labels\\n {labels}')\n",
    "# print(f'outputs\\n {outputs}')"
   ]
  },
  {
   "cell_type": "markdown",
   "id": "a33a5145",
   "metadata": {},
   "source": [
    "## Train and Test\n"
   ]
  },
  {
   "cell_type": "markdown",
   "id": "2320440c",
   "metadata": {},
   "source": [
    "- In a typical supervised learning task, we have training and testing functions. We then call this functions in order to monitor the progress of our model. More precisely, train and test the model in each epoch.\n",
    "- It is always a good practice to save the 'best performing model'. This means, we will keep track of the 'best accuracy' in each epoch and save the model achieving that best accuracy. This is important because we can then load this model and start training from where we left off. We will use SaveModel and LoadModel functions for this purpose.\n",
    "- It is not reasonable to expect a good performance from a fully connected neural network on RGB images. Moreover, we will not spend any time to improve the model. Thus, just focus on the concepts for now. We will discuss about potential improvement techniques in the later sections such as **\"hyperparameter optimization\", \"data augmentation\"**.\n"
   ]
  },
  {
   "cell_type": "code",
   "execution_count": 16,
   "id": "9049e021",
   "metadata": {
    "code_folding": [
     0
    ]
   },
   "outputs": [],
   "source": [
    "def TrainHouseModel(model, train_loader, optimizer,epoch,log_int):\n",
    "   \n",
    "    # set to train mode\n",
    "    model.train()\n",
    "    \n",
    "    #send to cuda/GPU\n",
    "    model.to(device)\n",
    "    \n",
    "    #loss function\n",
    "    criterion = nn.CrossEntropyLoss()\n",
    "\n",
    "    # compute the train loss and correct predictions per epoch\n",
    "    train_loss = 0.0\n",
    "    total_train_correct = 0\n",
    "    \n",
    "    \n",
    "    for i,(images, labels) in enumerate(train_loader):\n",
    "        #clear the cuda cache\n",
    "        torch.cuda.empty_cache()\n",
    "        \n",
    "        #send to cuda\n",
    "        images = images.to(device)\n",
    "        labels = labels.to(device)\n",
    "        \n",
    "        # FORWARD PASS\n",
    "        #compute the prediction for the batch\n",
    "        outputs = model(images)\n",
    "\n",
    "        # compute the loss\n",
    "        loss = criterion(outputs, labels)\n",
    "\n",
    "        \n",
    "        #BACK-PROPOGATION\n",
    "        # compute the gradient\n",
    "        loss.backward()\n",
    "\n",
    "        # update the weights and biases/ gradient decent\n",
    "        optimizer.step()\n",
    "\n",
    "        #GET SOME METRICS\n",
    "        # compute the total loss for the batch and add it to train_loss\n",
    "        train_loss += loss.item() * images.size(0)\n",
    "\n",
    "        # compute the predictions for each class\n",
    "        predictions = outputs.argmax(dim=1)\n",
    "\n",
    "        # boolen compare the predictions vs targets and create the correct count tensor\n",
    "        correct_counts = predictions.eq(labels)\n",
    "        \n",
    "        # accumulate the total test correct and update over the batches.\n",
    "        total_train_correct += correct_counts.sum().item()\n",
    "\n",
    "        #zero out before each backpropagation.\n",
    "        optimizer.zero_grad()\n",
    "\n",
    "    # training loss and training accuracy for the epoch/one complete cycle\n",
    "    avg_train_loss = train_loss/len(train_loader.dataset) \n",
    "    avg_train_acc = total_train_correct/float(len(train_loader.dataset))\n",
    "    \n",
    "    #print in every 'log_int' steps. \n",
    "    if epoch%log_int==0:\n",
    "        print(f'train_loss: {avg_train_loss:0.5f} train_acc: {avg_train_acc:0.2f}')\n",
    "    \n",
    "    return avg_train_acc,avg_train_loss"
   ]
  },
  {
   "cell_type": "code",
   "execution_count": 17,
   "id": "41a79bdc",
   "metadata": {
    "code_folding": [
     0
    ]
   },
   "outputs": [],
   "source": [
    "def TestHouseModel(model, test_loader,epoch,log_int):\n",
    "    # For testing, no need to track gradients. \n",
    "    model.eval()\n",
    "    model.to(device)\n",
    "    criterion = nn.CrossEntropyLoss()\n",
    "    test_loss = 0.\n",
    "    total_test_correct = 0\n",
    "    with torch.no_grad():\n",
    "        for j,(images, labels) in enumerate(test_loader):\n",
    "            torch.cuda.empty_cache()\n",
    "            images = images.to(device)\n",
    "            labels = labels.to(device)\n",
    "\n",
    "            # FORWARD PASS\n",
    "            outputs = model(images)\n",
    "\n",
    "            # compute the loss\n",
    "            loss = criterion(outputs, labels)\n",
    "\n",
    "            #GET SOME METRICS\n",
    "            # compute the loss for the batch and add it to total test_loss\n",
    "            test_loss += loss.item() * images.size(0)\n",
    "\n",
    "            # compute the predictions\n",
    "            predictions = outputs.argmax(dim=1)\n",
    "\n",
    "            # boolen compare the predictions vs labels and create the correct count tensor\n",
    "            correct_counts = predictions.eq(labels)\n",
    "\n",
    "            # accumulate the total test correct and update over the batches.\n",
    "            total_test_correct += correct_counts.sum().item()\n",
    "\n",
    "    # test loss and test accuracy for the epoch/one complete cycle\n",
    "    \n",
    "    avg_test_loss = test_loss/len(test_loader.dataset) \n",
    "    avg_test_acc = total_test_correct/float(len(test_loader.dataset))\n",
    "    \n",
    "    #print in every 'log_int' steps. \n",
    "    if epoch%log_int==0:\n",
    "        print(f'test_loss: {avg_test_loss:0.4f} test_acc: {avg_test_acc:0.2f}\\n')\n",
    "\n",
    "    return avg_test_acc, avg_test_loss"
   ]
  },
  {
   "cell_type": "code",
   "execution_count": 18,
   "id": "2c20b344",
   "metadata": {
    "code_folding": [
     0,
     8
    ]
   },
   "outputs": [],
   "source": [
    "def SaveModel(model,optimizer, name,beststats):\n",
    "    checkpoint = { 'state_dict':  model.state_dict(),\n",
    "                   'optim_state': optimizer.state_dict(),\n",
    "                   'best_stats':  beststats\n",
    "                 }\n",
    "    path = ext_dir + \"/\" + name +\".pth\"\n",
    "    torch.save(checkpoint, path )\n",
    "\n",
    "def LoadModel(model,filepath):\n",
    "    #load the model and assign the pre-trained weights\n",
    "    checkpoint = torch.load(filepath)\n",
    "    model.load_state_dict(checkpoint['state_dict'])\n",
    "    model.best_scores = checkpoint['best_stats']\n",
    "    \n",
    "    return model"
   ]
  },
  {
   "cell_type": "markdown",
   "id": "2e2c1c98",
   "metadata": {},
   "source": [
    "This is the driver function to train our model. There are couple of things we should pay attention\n",
    "- We train the model on training set get accuracy and loss and then immediately test the accuracy and loss on testing data. We are mostly interested in the second part. Even though, the loss is going down and the accuracy is going up(even 99%) on training data, the model is useless unless it equally performs on *testing* data as well.\n",
    "- For example, the following situation is a perfect example of 'overfitting'. The model memorizes the training set but fails to generalize to unseen testing data. Notice how the loss in training set is going down but going up in the testing set.\n",
    "- Again, there are tons of things we can do to remedy this issue but let's learn the necessary tools for now."
   ]
  },
  {
   "cell_type": "code",
   "execution_count": 19,
   "id": "6066d74b",
   "metadata": {
    "code_folding": []
   },
   "outputs": [],
   "source": [
    "def StartTraining(model,lr,num_epochs,log_int):    \n",
    "    optimizer = torch.optim.Adam(model.parameters(), lr=lr)\n",
    "    max_acc = 0.\n",
    "    train_loss_list = []\n",
    "    test_loss_list = []\n",
    "    for epoch in range(num_epochs):\n",
    "        avg_train_acc, avg_train_loss =TrainHouseModel(model, train_loader, optimizer,epoch,log_int)\n",
    "        avg_test_acc, avg_test_loss = TestHouseModel(model,test_loader,epoch,log_int)\n",
    "\n",
    "        if avg_test_acc > max_acc:\n",
    "            max_acc = avg_test_acc\n",
    "            beststats = {'BestTestAcc':     max_acc ,  \n",
    "                         'lr':              lr,\n",
    "                        'batch_size':       batch_size,\n",
    "                        }\n",
    "\n",
    "            SaveModel(model,optimizer,'HouseModel',beststats)\n",
    "        train_loss_list.append(avg_train_loss)\n",
    "        test_loss_list.append(avg_test_loss)\n",
    "    torch.cuda.empty_cache()\n",
    "    return train_loss_list,test_loss_list"
   ]
  },
  {
   "cell_type": "code",
   "execution_count": 20,
   "id": "e1c24957",
   "metadata": {},
   "outputs": [
    {
     "name": "stdout",
     "output_type": "stream",
     "text": [
      "train_loss: 1.59280 train_acc: 0.23\n",
      "test_loss: 1.5822 test_acc: 0.26\n",
      "\n",
      "train_loss: 1.50988 train_acc: 0.33\n",
      "test_loss: 1.5300 test_acc: 0.32\n",
      "\n",
      "train_loss: 1.47248 train_acc: 0.36\n",
      "test_loss: 1.5119 test_acc: 0.33\n",
      "\n",
      "train_loss: 1.44486 train_acc: 0.39\n",
      "test_loss: 1.5097 test_acc: 0.31\n",
      "\n",
      "train_loss: 1.42112 train_acc: 0.40\n",
      "test_loss: 1.4981 test_acc: 0.35\n",
      "\n",
      "train_loss: 1.39703 train_acc: 0.42\n",
      "test_loss: 1.4977 test_acc: 0.34\n",
      "\n",
      "train_loss: 1.37317 train_acc: 0.44\n",
      "test_loss: 1.4964 test_acc: 0.34\n",
      "\n",
      "train_loss: 1.34945 train_acc: 0.45\n",
      "test_loss: 1.4972 test_acc: 0.35\n",
      "\n",
      "train_loss: 1.32198 train_acc: 0.47\n",
      "test_loss: 1.5009 test_acc: 0.34\n",
      "\n",
      "train_loss: 1.29548 train_acc: 0.49\n",
      "test_loss: 1.5033 test_acc: 0.35\n",
      "\n"
     ]
    }
   ],
   "source": [
    "#train_loss_list,test_loss_list =  StartTraining(model = HouseModel(),lr = 1e-5,num_epochs = 100,log_int=10)"
   ]
  },
  {
   "cell_type": "code",
   "execution_count": 39,
   "id": "d2861b7e",
   "metadata": {},
   "outputs": [
    {
     "data": {
      "image/png": "[encoded data removed]",
      "text/plain": [
       "<Figure size 432x288 with 1 Axes>"
      ]
     },
     "metadata": {
      "needs_background": "light"
     },
     "output_type": "display_data"
    }
   ],
   "source": [
    "#what we see here is called \"overfitting\".\n",
    "num_epochs = 100\n",
    "eps = np.linspace(0,num_epochs-1,num_epochs)\n",
    "plt.plot(eps,train_loss_list,'b-',eps,test_loss_list,'r-')\n",
    "plt.legend(['train_loss','test_loss'])\n",
    "plt.show()"
   ]
  },
  {
   "cell_type": "markdown",
   "id": "a53b4cbc",
   "metadata": {
    "heading_collapsed": true
   },
   "source": [
    "## Post-Processing"
   ]
  },
  {
   "cell_type": "markdown",
   "id": "6a504935",
   "metadata": {
    "hidden": true
   },
   "source": [
    "First let's load the saved model and use it to evaluate our model performance"
   ]
  },
  {
   "cell_type": "code",
   "execution_count": 23,
   "id": "5dc99262",
   "metadata": {
    "hidden": true
   },
   "outputs": [
    {
     "data": {
      "text/plain": [
       "{'BestTestAcc': 0.3593155893536122, 'lr': 1e-05, 'batch_size': 10}"
      ]
     },
     "execution_count": 23,
     "metadata": {},
     "output_type": "execute_result"
    }
   ],
   "source": [
    "#this will reload the model with 'learned parameters'\n",
    "model = LoadModel(HouseModel(),'results/House_Rooms/HouseModel.pth')\n",
    "model.best_scores"
   ]
  },
  {
   "cell_type": "markdown",
   "id": "65633aa5",
   "metadata": {
    "hidden": true
   },
   "source": [
    "### Display The Predictions with Ground Truths"
   ]
  },
  {
   "cell_type": "code",
   "execution_count": 24,
   "id": "5f3c872a",
   "metadata": {
    "code_folding": [],
    "hidden": true
   },
   "outputs": [],
   "source": [
    "@torch.no_grad()\n",
    "def GetClassProbs(model,image_path, topk=3):\n",
    "    model.to(device)\n",
    "    model.eval()\n",
    "    img = Image.open(image_path).convert(\"RGB\")\n",
    "    label = image_path.split('/')[-2]\n",
    "    #mean = [0.485, 0.456, 0.406]\n",
    "    #std =  [0.229, 0.224, 0.225]\n",
    "    #tfm = transforms.Compose([transforms.Normalize(mean,std),transforms.ToTensor()])\n",
    "    tfm = transforms.Compose([transforms.ToTensor()])\n",
    "    img = tfm(img)\n",
    "    img = img.unsqueeze(0).to(device)\n",
    "    output = model(img)\n",
    "    #get probabilities\n",
    "    probs = F.softmax(output) \n",
    "    top_probabilities, top_indices = probs.topk(topk)\n",
    "    top_probabilities = top_probabilities.detach().type(torch.FloatTensor).numpy().tolist()[0] \n",
    "    top_indices = top_indices.detach().type(torch.FloatTensor).numpy().tolist()[0] \n",
    "    top_classes = [idx_to_class[index] for index in top_indices]\n",
    "    \n",
    "    return top_probabilities, top_classes"
   ]
  },
  {
   "cell_type": "code",
   "execution_count": 25,
   "id": "8f1ef880",
   "metadata": {
    "code_folding": [],
    "hidden": true,
    "run_control": {
     "marked": true
    }
   },
   "outputs": [],
   "source": [
    "def ShowPredictions(n):\n",
    "    plt.subplots(n,2,figsize=(12, 4*n)) \n",
    "    plt.subplots_adjust(0,0,3,3,wspace = 0.5)\n",
    "    for i in range(1,n+1):\n",
    "        rnd_number = random.randint(0,len(test_image_paths))\n",
    "        img_path = test_image_paths[rnd_number]\n",
    "        label = img_path.split('/')[-2]\n",
    "        #windows\n",
    "        #label = (img_path.split('/')[-1]).split('\\\\')[-2]\n",
    "        image = Image.open(img_path).convert(\"RGB\")\n",
    "        plt.subplot(n,2,2*i-1)\n",
    "        plt.title(label)\n",
    "        plt.imshow(image)\n",
    "        probs, classes = GetClassProbs(model,img_path, topk=3)\n",
    "        plt.subplot(n,2,2*i)\n",
    "        plt.barh(classes, probs,align='center')\n",
    "        plt.tight_layout()\n",
    "    plt.show()"
   ]
  },
  {
   "cell_type": "code",
   "execution_count": 26,
   "id": "75fd790b",
   "metadata": {
    "code_folding": [],
    "hidden": true
   },
   "outputs": [
    {
     "data": {
      "image/png": "[encoded data removed]",
      "text/plain": [
       "<Figure size 864x864 with 6 Axes>"
      ]
     },
     "metadata": {
      "needs_background": "light"
     },
     "output_type": "display_data"
    }
   ],
   "source": [
    "ShowPredictions(3)"
   ]
  },
  {
   "cell_type": "code",
   "execution_count": null,
   "id": "ef4005aa",
   "metadata": {
    "hidden": true
   },
   "outputs": [],
   "source": [
    "#ShowPredictions(3)"
   ]
  },
  {
   "cell_type": "markdown",
   "id": "d0d151d4",
   "metadata": {
    "hidden": true
   },
   "source": [
    "### Evaluate the Performance Metrics"
   ]
  },
  {
   "cell_type": "markdown",
   "id": "d9893861",
   "metadata": {
    "hidden": true
   },
   "source": [
    "- For more details, consult to our lecture notes resources folder in this repo"
   ]
  },
  {
   "cell_type": "markdown",
   "id": "05bd553a",
   "metadata": {
    "hidden": true
   },
   "source": [
    "#### Confusion Matrix"
   ]
  },
  {
   "cell_type": "markdown",
   "id": "680497d7",
   "metadata": {
    "hidden": true
   },
   "source": [
    "- The most important outcome of a classification problem is the confusion matrix. Each **row** of the matrix represents the instances **actual class** while each **column** represents the instances in a **predicted class**. \n",
    "-  Confusion matrix allows us to determine all the necessary metrics to evaluate the performance of an image classification model. First of all, let's see how we interpret confusion matrix for a simple scenario."
   ]
  },
  {
   "cell_type": "code",
   "execution_count": 27,
   "id": "298b537f",
   "metadata": {
    "code_folding": [],
    "hidden": true,
    "scrolled": true
   },
   "outputs": [],
   "source": [
    "def GetConfusionMatrix(model, test_loader):\n",
    "    with torch.no_grad():\n",
    "        model.eval()\n",
    "        model.to(device)\n",
    "        all_preds  = torch.FloatTensor([]).to(device)\n",
    "        all_labels = torch.LongTensor([]).to(device)\n",
    "        #compute all predictions\n",
    "        for images, labels in iter(test_loader):\n",
    "            images,labels = images.to(device),labels.to(device)\n",
    "            preds = model(images)\n",
    "            all_preds = torch.cat(\n",
    "                (all_preds,preds),\n",
    "                dim=0\n",
    "            )\n",
    "            all_labels = torch.cat((all_labels,labels),dim=0)\n",
    "        \n",
    "        #get the predicted labels\n",
    "        preds = all_preds.argmax(dim=1)\n",
    "        #create confusion matrix\n",
    "        cm = confusion_matrix(all_labels.cpu().numpy(), preds.cpu().numpy())\n",
    "        return cm\n",
    "cm = GetConfusionMatrix(model,test_loader)"
   ]
  },
  {
   "cell_type": "code",
   "execution_count": 43,
   "id": "1baf4b26",
   "metadata": {
    "code_folding": [],
    "hidden": true,
    "scrolled": true
   },
   "outputs": [
    {
     "data": {
      "image/png": "[encoded data removed]",
      "text/plain": [
       "<Figure size 864x360 with 2 Axes>"
      ]
     },
     "metadata": {
      "needs_background": "light"
     },
     "output_type": "display_data"
    }
   ],
   "source": [
    "#display confusion matrix. truth:x_axis(rows), preds:y_axis(cols)\n",
    "df_cm = pd.DataFrame(cm, index = [i for i in class_list], columns = [i for i in class_list])\n",
    "plt.figure(figsize=(12,5))\n",
    "sns.heatmap(df_cm,annot=True,cmap=\"YlGnBu\",fmt='g')\n",
    "plt.xlabel('predictions')\n",
    "plt.ylabel('ground truth')\n",
    "plt.show()"
   ]
  },
  {
   "cell_type": "markdown",
   "id": "cd3bc4b6",
   "metadata": {
    "hidden": true
   },
   "source": [
    "- Rows are the ground-truths and the coloumsn are are predictions\n",
    "- For example, first row tells us, there are 122 'Bathroom' images in the testset and 27 are predicted as 'Bathroom', 40 as 'Bedroom', 16 as Dining, 15 as 'Kitchen', 24 'Livingroom.\n",
    "- This matrix includes the following;\n",
    "\\begin{bmatrix}\n",
    "\\text{  TruePositives} & \\text{FalseNegatives}  \\\\\n",
    "\\text{FalsePositives}  & \\text{TrueNegatives}  \n",
    "\\end{bmatrix}\n",
    "- Important formulas we will discuss are the followings;\n",
    "\n",
    "$$\\text{Overall Accuracy} =  \\dfrac{TP+TN}{TP+TN+FP+FN}$$\n",
    "\n",
    "$$\\text{Recall} = \\dfrac{TP}{TP+FN}$$\n",
    "\n",
    "$$\\text{Precision} = \\dfrac{TP}{TP+FP}$$\n",
    "\n",
    "$$\\text{F1-Score} = \\dfrac{1}{\\frac{1}{Recall}+\\frac{1}{Precision}}$$\n",
    "\n",
    "- For more info, please read the Wikipedia article [here](https://en.wikipedia.org/wiki/Confusion_matrix) about the confusion matrix."
   ]
  },
  {
   "cell_type": "markdown",
   "id": "94215a89",
   "metadata": {
    "hidden": true
   },
   "source": [
    "#### Overall Accuracy"
   ]
  },
  {
   "cell_type": "markdown",
   "id": "eb7efacf",
   "metadata": {
    "hidden": true
   },
   "source": [
    "Overal accuracy is important but it should be taken in caution as a high overal accuracy can be misleading."
   ]
  },
  {
   "cell_type": "code",
   "execution_count": 44,
   "id": "c44bb7d8",
   "metadata": {
    "hidden": true
   },
   "outputs": [],
   "source": [
    "def DisplayScores(class_list,scores,score_type = ''):\n",
    "    fig, ax = plt.subplots(figsize=(9,4))\n",
    "    ax.bar(class_list, scores)\n",
    "    ax.bar_label(ax.containers[0],fmt='%.2f')\n",
    "    ax.set_xticklabels(class_list, rotation=90)\n",
    "    ax.set_title('mean_' + score_type +':'+ str(round(scores.mean(),ndigits=2)))\n",
    "    plt.show()"
   ]
  },
  {
   "cell_type": "code",
   "execution_count": 45,
   "id": "23ab8c23",
   "metadata": {
    "hidden": true
   },
   "outputs": [
    {
     "name": "stdout",
     "output_type": "stream",
     "text": [
      "OverallAccuracy 0.3593155893536122\n"
     ]
    }
   ],
   "source": [
    "# Be cautius, not always the best way\n",
    "OveralAcc = np.sum(np.diag(cm))/np.sum(cm)\n",
    "print('OverallAccuracy', OveralAcc)"
   ]
  },
  {
   "cell_type": "markdown",
   "id": "1b8e7c48",
   "metadata": {
    "hidden": true
   },
   "source": [
    "#### Recall"
   ]
  },
  {
   "cell_type": "markdown",
   "id": "8ba2456d",
   "metadata": {
    "hidden": true
   },
   "source": [
    "- Recall tells us the ability of algoritm to classify a particular class. \n",
    "- For example, first row tells us, there are 122 'Bathroom' images in the testset and 27 are predicted as 'Bathroom' This means 27 out of 122 is correct. Thus the recall is 27/122 = 0.22 for Bathroom'.\n",
    "- Remember **recall is truth-based**. 22% recall for Bathroom means \"out of 100 Bathroom images, we are capable of getting 22 right predictions\"..."
   ]
  },
  {
   "cell_type": "code",
   "execution_count": 46,
   "id": "bdd06ad6",
   "metadata": {
    "hidden": true
   },
   "outputs": [
    {
     "data": {
      "image/png": "[encoded data removed]",
      "text/plain": [
       "<Figure size 648x288 with 1 Axes>"
      ]
     },
     "metadata": {
      "needs_background": "light"
     },
     "output_type": "display_data"
    }
   ],
   "source": [
    "recalls = np.diag(cm)/np.sum(cm,axis = 1)\n",
    "DisplayScores(class_list,recalls,'recall')"
   ]
  },
  {
   "cell_type": "markdown",
   "id": "2d2b114c",
   "metadata": {
    "hidden": true
   },
   "source": [
    "#### Precision"
   ]
  },
  {
   "cell_type": "markdown",
   "id": "146388bc",
   "metadata": {
    "hidden": true
   },
   "source": [
    "- Precision for a class tells us the ability of an alg **not to label anything as that class**. \n",
    "- First coloumn tells us 27 images are classified as 'Bathroom' and only 27 is correct. Thus precision for 'Bathroom' is 27/77 = 37%, very low.\n",
    "- Remember, **precision is prediction based**. Thus, 37% precision means, out of 100 Bathroom predictions, only 37 is correct. "
   ]
  },
  {
   "cell_type": "code",
   "execution_count": 47,
   "id": "d885991e",
   "metadata": {
    "hidden": true
   },
   "outputs": [
    {
     "data": {
      "image/png": "[encoded data removed]",
      "text/plain": [
       "<Figure size 648x288 with 1 Axes>"
      ]
     },
     "metadata": {
      "needs_background": "light"
     },
     "output_type": "display_data"
    }
   ],
   "source": [
    "precisions = np.diag(cm)/np.sum(cm,axis = 0)\n",
    "DisplayScores(class_list,precisions,'precision')"
   ]
  },
  {
   "cell_type": "markdown",
   "id": "0bbb274b",
   "metadata": {
    "hidden": true
   },
   "source": [
    "#### F1-Score"
   ]
  },
  {
   "cell_type": "markdown",
   "id": "d73906e3",
   "metadata": {
    "hidden": true
   },
   "source": [
    "This is the harmonic average of recall recall and precision. It is a realiable measure putting equal weigths on precison and recall. It sits somewhere between precision and recall. "
   ]
  },
  {
   "cell_type": "code",
   "execution_count": 48,
   "id": "11a2dbee",
   "metadata": {
    "hidden": true
   },
   "outputs": [
    {
     "data": {
      "image/png": "[encoded data removed]",
      "text/plain": [
       "<Figure size 648x288 with 1 Axes>"
      ]
     },
     "metadata": {
      "needs_background": "light"
     },
     "output_type": "display_data"
    }
   ],
   "source": [
    "f1 = 2/(1/recalls + 1/precisions)\n",
    "DisplayScores(class_list,f1,'f1')"
   ]
  },
  {
   "cell_type": "code",
   "execution_count": null,
   "id": "c62db131",
   "metadata": {
    "hidden": true
   },
   "outputs": [],
   "source": []
  },
  {
   "cell_type": "code",
   "execution_count": null,
   "id": "09bd27a3",
   "metadata": {
    "hidden": true
   },
   "outputs": [],
   "source": []
  },
  {
   "cell_type": "code",
   "execution_count": null,
   "id": "a580e78b",
   "metadata": {
    "hidden": true
   },
   "outputs": [],
   "source": []
  }
 ],
 "metadata": {
  "hide_input": false,
  "kernelspec": {
   "display_name": "Python 3 (ipykernel)",
   "language": "python",
   "name": "python3"
  },
  "language_info": {
   "codemirror_mode": {
    "name": "ipython",
    "version": 3
   },
   "file_extension": ".py",
   "mimetype": "text/x-python",
   "name": "python",
   "nbconvert_exporter": "python",
   "pygments_lexer": "ipython3",
   "version": "3.9.7"
  },
  "latex_envs": {
   "LaTeX_envs_menu_present": true,
   "autoclose": true,
   "autocomplete": true,
   "bibliofile": "biblio.bib",
   "cite_by": "apalike",
   "current_citInitial": 1,
   "eqLabelWithNumbers": true,
   "eqNumInitial": 1,
   "hotkeys": {
    "equation": "Ctrl-E",
    "itemize": "Ctrl-I"
   },
   "labels_anchors": false,
   "latex_user_defs": false,
   "report_style_numbering": false,
   "user_envs_cfg": false
  },
  "toc": {
   "base_numbering": 1,
   "nav_menu": {},
   "number_sections": true,
   "sideBar": true,
   "skip_h1_title": false,
   "title_cell": "Table of Contents",
   "title_sidebar": "Contents",
   "toc_cell": true,
   "toc_position": {
    "height": "calc(100% - 180px)",
    "left": "10px",
    "top": "150px",
    "width": "352px"
   },
   "toc_section_display": true,
   "toc_window_display": true
  },
  "varInspector": {
   "cols": {
    "lenName": 16,
    "lenType": 16,
    "lenVar": 40
   },
   "kernels_config": {
    "python": {
     "delete_cmd_postfix": "",
     "delete_cmd_prefix": "del ",
     "library": "var_list.py",
     "varRefreshCmd": "print(var_dic_list())"
    },
    "r": {
     "delete_cmd_postfix": ") ",
     "delete_cmd_prefix": "rm(",
     "library": "var_list.r",
     "varRefreshCmd": "cat(var_dic_list()) "
    }
   },
   "types_to_exclude": [
    "module",
    "function",
    "builtin_function_or_method",
    "instance",
    "_Feature"
   ],
   "window_display": false
  }
 },
 "nbformat": 4,
 "nbformat_minor": 5
}

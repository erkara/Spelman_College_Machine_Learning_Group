{
 "cells": [
  {
   "cell_type": "markdown",
   "id": "8c410121",
   "metadata": {},
   "source": [
    "\\begin{enumerate}\n",
    "\\item \\textbf{Introduction and General Motivation}\n",
    "\\item \\textbf{Gradient Descent(GD) Algorithm}\n",
    "\\item \\textbf{Project-1: Advertisement strategy}\n",
    "\\item \\textbf{Project-2: Analyzing insurance charges}  \n",
    "\\item \\textbf{From Linear Regression to Neural Networks}\n",
    "\\item \\textbf{Basics of Image Processing}\n",
    "\\item \\textbf{Introduction to Pytorch}\n",
    "\\item \\textbf{Image Classification: Part1 - Feed Forward Neural Networks}\n",
    "\\item \\textbf{Image Classification: Part2- Convolutional Neural Networks}\n",
    "\\item \\textbf{Additional Topics}\n",
    "\\end{enumerate}\n"
   ]
  },
  {
   "cell_type": "code",
   "execution_count": null,
   "id": "ecc07b68",
   "metadata": {},
   "outputs": [],
   "source": []
  },
  {
   "cell_type": "markdown",
   "id": "ae747be7",
   "metadata": {},
   "source": [
    "# 1- Introduction, General Motivation"
   ]
  },
  {
   "cell_type": "markdown",
   "id": "89864542",
   "metadata": {},
   "source": [
    "\\begin{enumerate}\n",
    "\\item Above is the general outline in this research project. Our ultimate goal is to write a model in Pytorch which can classify images. We will start from scratch (whatever this means..)\n",
    "\n",
    "\\item Since our project is about how machines learn, please watch fun Youtube videos to learn more about what we mean by \"learning\". Check this video [here](https://www.youtube.com/watch?v=ukzFI9rgwfU) and also have a look at my simple presentation in our GIT folder.\n",
    "\n",
    "\\item We will be working with Jupyter notebooks. On windows, simply use [Anaconda](https://www.anaconda.com/products/individual) platform to start. Most of the necessary packages will come with it. Once you are comfortable with the general structure of Python, you can switch to \"pip\". \n",
    "\n",
    "\\item A good understanding of Python is essential for our research. Following resources are great whenever you need to learn more about a Python concept.\n",
    "\n",
    "[Pyhton Tutorials](https://www.tutorialspoint.com/python3/python_tutorial.pdf)\n",
    "\n",
    "[Corey Scehafer Youtube](https://youtube.com/playlist?list=PL-osiE80TeTt2d9bfVyTiXJA-UTHn6WwU)\n",
    "\n",
    "\\item For now, it alright to minimally interact with Jupyter. However, you can customize it by using [nbextensions](https://jupyter-contrib-nbextensions.readthedocs.io/en/latest/install.html). You will love it once you are used to it! \n",
    "\n",
    "\\item Every \"blue\" font stuff is a hyperlink to the corresponding website. Just click on it! \n",
    "\n",
    "\\end{enumerate}\n",
    "\n"
   ]
  },
  {
   "cell_type": "code",
   "execution_count": null,
   "id": "e32074d1",
   "metadata": {},
   "outputs": [],
   "source": []
  }
 ],
 "metadata": {
  "kernelspec": {
   "display_name": "Python 3 (ipykernel)",
   "language": "python",
   "name": "python3"
  },
  "language_info": {
   "codemirror_mode": {
    "name": "ipython",
    "version": 3
   },
   "file_extension": ".py",
   "mimetype": "text/x-python",
   "name": "python",
   "nbconvert_exporter": "python",
   "pygments_lexer": "ipython3",
   "version": "3.8.10"
  },
  "latex_envs": {
   "LaTeX_envs_menu_present": true,
   "autoclose": true,
   "autocomplete": true,
   "bibliofile": "biblio.bib",
   "cite_by": "apalike",
   "current_citInitial": 1,
   "eqLabelWithNumbers": true,
   "eqNumInitial": 1,
   "hotkeys": {
    "equation": "Ctrl-E",
    "itemize": "Ctrl-I"
   },
   "labels_anchors": false,
   "latex_user_defs": false,
   "report_style_numbering": false,
   "user_envs_cfg": false
  }
 },
 "nbformat": 4,
 "nbformat_minor": 5
}

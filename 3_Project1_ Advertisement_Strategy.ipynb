{
 "cells": [
  {
   "cell_type": "markdown",
   "id": "5ab3d6c0",
   "metadata": {},
   "source": [
    "Must-Watch Lectures\n",
    "\n",
    "1. [Correlation and Coveriance](https://www.youtube.com/watch?v=4EXNedimDMs)\n",
    "\n",
    "2. First 8 lectures:\n",
    "[Multiple Linear Regression](https://www.youtube.com/playlist?list=PLIeGtxpvyG-IqjoU8IiF0Yu1WtxNq_4z-)"
   ]
  },
  {
   "cell_type": "markdown",
   "id": "4124f4bc",
   "metadata": {},
   "source": [
    "## 1. Explanatory Data Analysis\n",
    "General Insight, Data Cleaning, Scatter Plots\n",
    "##  2. Validation of Model Assumptions\n",
    "Correlation, Multicolinearity\n",
    "##  3. Model Training and Testing\n",
    "Training with *statmodels*, Training with *skilearn*, Residual Analysis(optional), Cross Validation, Linear Regression with Gradient Decent"
   ]
  },
  {
   "cell_type": "code",
   "execution_count": 1,
   "id": "fe1cb790",
   "metadata": {},
   "outputs": [],
   "source": [
    "import numpy as np\n",
    "import pandas as pd\n",
    "import seaborn as sn # advanced visulization\n",
    "import matplotlib.pyplot as plt\n",
    "from itertools import permutations\n",
    "from sklearn.model_selection import train_test_split # machine learning library\n",
    "from sklearn.linear_model import LinearRegression\n",
    "import sklearn.metrics as metrics\n",
    "import statsmodels.api as sm #stat-heavy library\n",
    "from statsmodels.stats.outliers_influence import variance_inflation_factor\n",
    "from itertools import combinations"
   ]
  },
  {
   "cell_type": "markdown",
   "id": "b2229269",
   "metadata": {},
   "source": [
    "## 1. Explanatory Data Analysis\n",
    "We will analyse a dataset which concerns the advertisement invesment of a company on different types of investment and the percantage increase in sales. As seen below, company utulized TV, Radio and Newspaper to advertise its products. We would like to predict the percantage sales given the others using a multiple linear regression model. Thus, our features(predictors, indipendent variables) are TV, Radio and Newspaper and our target is Sales. \n",
    "\n",
    "Before jumping into the model traing, it is essential to gain some understanding of the data. This step is called \"Exploratory Data Analysis\". This step allows us to detect some patters as well as anomolies present in the data."
   ]
  },
  {
   "cell_type": "code",
   "execution_count": 2,
   "id": "3e969533",
   "metadata": {},
   "outputs": [
    {
     "data": {
      "text/html": [
       "<div>\n",
       "<style scoped>\n",
       "    .dataframe tbody tr th:only-of-type {\n",
       "        vertical-align: middle;\n",
       "    }\n",
       "\n",
       "    .dataframe tbody tr th {\n",
       "        vertical-align: top;\n",
       "    }\n",
       "\n",
       "    .dataframe thead th {\n",
       "        text-align: right;\n",
       "    }\n",
       "</style>\n",
       "<table border=\"1\" class=\"dataframe\">\n",
       "  <thead>\n",
       "    <tr style=\"text-align: right;\">\n",
       "      <th></th>\n",
       "      <th>TV</th>\n",
       "      <th>Radio</th>\n",
       "      <th>Newspaper</th>\n",
       "      <th>Sales</th>\n",
       "    </tr>\n",
       "  </thead>\n",
       "  <tbody>\n",
       "    <tr>\n",
       "      <th>0</th>\n",
       "      <td>44.5</td>\n",
       "      <td>39.3</td>\n",
       "      <td>45.1</td>\n",
       "      <td>10.4</td>\n",
       "    </tr>\n",
       "    <tr>\n",
       "      <th>1</th>\n",
       "      <td>230.1</td>\n",
       "      <td>37.8</td>\n",
       "      <td>69.2</td>\n",
       "      <td>22.1</td>\n",
       "    </tr>\n",
       "    <tr>\n",
       "      <th>2</th>\n",
       "      <td>17.2</td>\n",
       "      <td>45.9</td>\n",
       "      <td>69.3</td>\n",
       "      <td>12.0</td>\n",
       "    </tr>\n",
       "    <tr>\n",
       "      <th>3</th>\n",
       "      <td>151.5</td>\n",
       "      <td>41.3</td>\n",
       "      <td>58.5</td>\n",
       "      <td>16.5</td>\n",
       "    </tr>\n",
       "    <tr>\n",
       "      <th>4</th>\n",
       "      <td>180.8</td>\n",
       "      <td>10.8</td>\n",
       "      <td>58.4</td>\n",
       "      <td>17.9</td>\n",
       "    </tr>\n",
       "    <tr>\n",
       "      <th>...</th>\n",
       "      <td>...</td>\n",
       "      <td>...</td>\n",
       "      <td>...</td>\n",
       "      <td>...</td>\n",
       "    </tr>\n",
       "    <tr>\n",
       "      <th>195</th>\n",
       "      <td>38.2</td>\n",
       "      <td>3.7</td>\n",
       "      <td>13.8</td>\n",
       "      <td>7.6</td>\n",
       "    </tr>\n",
       "    <tr>\n",
       "      <th>196</th>\n",
       "      <td>94.2</td>\n",
       "      <td>4.9</td>\n",
       "      <td>8.1</td>\n",
       "      <td>14.0</td>\n",
       "    </tr>\n",
       "    <tr>\n",
       "      <th>197</th>\n",
       "      <td>177.0</td>\n",
       "      <td>9.3</td>\n",
       "      <td>6.4</td>\n",
       "      <td>14.8</td>\n",
       "    </tr>\n",
       "    <tr>\n",
       "      <th>198</th>\n",
       "      <td>283.6</td>\n",
       "      <td>42.0</td>\n",
       "      <td>66.2</td>\n",
       "      <td>25.5</td>\n",
       "    </tr>\n",
       "    <tr>\n",
       "      <th>199</th>\n",
       "      <td>232.1</td>\n",
       "      <td>8.6</td>\n",
       "      <td>8.7</td>\n",
       "      <td>18.4</td>\n",
       "    </tr>\n",
       "  </tbody>\n",
       "</table>\n",
       "<p>200 rows × 4 columns</p>\n",
       "</div>"
      ],
      "text/plain": [
       "        TV  Radio  Newspaper  Sales\n",
       "0     44.5   39.3       45.1   10.4\n",
       "1    230.1   37.8       69.2   22.1\n",
       "2     17.2   45.9       69.3   12.0\n",
       "3    151.5   41.3       58.5   16.5\n",
       "4    180.8   10.8       58.4   17.9\n",
       "..     ...    ...        ...    ...\n",
       "195   38.2    3.7       13.8    7.6\n",
       "196   94.2    4.9        8.1   14.0\n",
       "197  177.0    9.3        6.4   14.8\n",
       "198  283.6   42.0       66.2   25.5\n",
       "199  232.1    8.6        8.7   18.4\n",
       "\n",
       "[200 rows x 4 columns]"
      ]
     },
     "execution_count": 2,
     "metadata": {},
     "output_type": "execute_result"
    }
   ],
   "source": [
    "df = pd.read_csv('datasets/AdsData.csv') # load the data\n",
    "df"
   ]
  },
  {
   "cell_type": "code",
   "execution_count": 3,
   "id": "47c3ca28",
   "metadata": {
    "scrolled": true
   },
   "outputs": [
    {
     "name": "stdout",
     "output_type": "stream",
     "text": [
      "<class 'pandas.core.frame.DataFrame'>\n",
      "RangeIndex: 200 entries, 0 to 199\n",
      "Data columns (total 4 columns):\n",
      " #   Column     Non-Null Count  Dtype  \n",
      "---  ------     --------------  -----  \n",
      " 0   TV         200 non-null    float64\n",
      " 1   Radio      200 non-null    float64\n",
      " 2   Newspaper  200 non-null    float64\n",
      " 3   Sales      200 non-null    float64\n",
      "dtypes: float64(4)\n",
      "memory usage: 6.4 KB\n"
     ]
    }
   ],
   "source": [
    "df.info()"
   ]
  },
  {
   "cell_type": "markdown",
   "id": "f6cd46e6",
   "metadata": {},
   "source": [
    "Here are several insights from this output;\n",
    "\n",
    "1. There are 200 rows(number of data) in this data set.\n",
    "2. All variables are of float type, we have all numerical data. Handling categorical data requires carefull data preprocessing. But, we are safe in this data. \n",
    "3. \"non-null\" means there is no missing entry. If not, we would have to apply some methods to fill out or remove these entries. \n",
    "\n",
    "We should always keep in mind that we are constructing a linear model in this notebook. Thus, we assume that relationship between predictors and target can be explored via linear model. In other words, we have \n",
    "$$Y = w_0 + w_1 X_1 + w_2 X_2 + w_3X_3$$ \n",
    "\n",
    "where $X_1$: TV, $X_2$: Radio and $X_3$: Newspaper and $Y$: Sales. \n",
    "\n",
    "Assume that after the training, we found $Y = 27.3 + 98 X_1 + 12.5 X_2 + 2.5X_3$. We would interpret this results as \"If the other factors are held constant, each additional TV advertisement results in 98 units increase in sales \". "
   ]
  },
  {
   "cell_type": "code",
   "execution_count": 4,
   "id": "40c05b5d",
   "metadata": {},
   "outputs": [
    {
     "data": {
      "text/html": [
       "<div>\n",
       "<style scoped>\n",
       "    .dataframe tbody tr th:only-of-type {\n",
       "        vertical-align: middle;\n",
       "    }\n",
       "\n",
       "    .dataframe tbody tr th {\n",
       "        vertical-align: top;\n",
       "    }\n",
       "\n",
       "    .dataframe thead th {\n",
       "        text-align: right;\n",
       "    }\n",
       "</style>\n",
       "<table border=\"1\" class=\"dataframe\">\n",
       "  <thead>\n",
       "    <tr style=\"text-align: right;\">\n",
       "      <th></th>\n",
       "      <th>TV</th>\n",
       "      <th>Radio</th>\n",
       "      <th>Newspaper</th>\n",
       "      <th>Sales</th>\n",
       "    </tr>\n",
       "  </thead>\n",
       "  <tbody>\n",
       "    <tr>\n",
       "      <th>count</th>\n",
       "      <td>200.000000</td>\n",
       "      <td>200.000000</td>\n",
       "      <td>200.000000</td>\n",
       "      <td>200.000000</td>\n",
       "    </tr>\n",
       "    <tr>\n",
       "      <th>mean</th>\n",
       "      <td>147.042500</td>\n",
       "      <td>23.264000</td>\n",
       "      <td>30.554000</td>\n",
       "      <td>15.130500</td>\n",
       "    </tr>\n",
       "    <tr>\n",
       "      <th>std</th>\n",
       "      <td>85.854236</td>\n",
       "      <td>14.846809</td>\n",
       "      <td>21.778621</td>\n",
       "      <td>5.283892</td>\n",
       "    </tr>\n",
       "    <tr>\n",
       "      <th>min</th>\n",
       "      <td>0.700000</td>\n",
       "      <td>0.000000</td>\n",
       "      <td>0.300000</td>\n",
       "      <td>1.600000</td>\n",
       "    </tr>\n",
       "    <tr>\n",
       "      <th>25%</th>\n",
       "      <td>74.375000</td>\n",
       "      <td>9.975000</td>\n",
       "      <td>12.750000</td>\n",
       "      <td>11.000000</td>\n",
       "    </tr>\n",
       "    <tr>\n",
       "      <th>50%</th>\n",
       "      <td>149.750000</td>\n",
       "      <td>22.900000</td>\n",
       "      <td>25.750000</td>\n",
       "      <td>16.000000</td>\n",
       "    </tr>\n",
       "    <tr>\n",
       "      <th>75%</th>\n",
       "      <td>218.825000</td>\n",
       "      <td>36.525000</td>\n",
       "      <td>45.100000</td>\n",
       "      <td>19.050000</td>\n",
       "    </tr>\n",
       "    <tr>\n",
       "      <th>max</th>\n",
       "      <td>296.400000</td>\n",
       "      <td>49.600000</td>\n",
       "      <td>114.000000</td>\n",
       "      <td>27.000000</td>\n",
       "    </tr>\n",
       "  </tbody>\n",
       "</table>\n",
       "</div>"
      ],
      "text/plain": [
       "               TV       Radio   Newspaper       Sales\n",
       "count  200.000000  200.000000  200.000000  200.000000\n",
       "mean   147.042500   23.264000   30.554000   15.130500\n",
       "std     85.854236   14.846809   21.778621    5.283892\n",
       "min      0.700000    0.000000    0.300000    1.600000\n",
       "25%     74.375000    9.975000   12.750000   11.000000\n",
       "50%    149.750000   22.900000   25.750000   16.000000\n",
       "75%    218.825000   36.525000   45.100000   19.050000\n",
       "max    296.400000   49.600000  114.000000   27.000000"
      ]
     },
     "execution_count": 4,
     "metadata": {},
     "output_type": "execute_result"
    }
   ],
   "source": [
    "df.describe()"
   ]
  },
  {
   "cell_type": "markdown",
   "id": "fe002f2f",
   "metadata": {},
   "source": [
    "## Validation of  Model Assumptions\n",
    "However, in order to use linear regression as a prediction tool, we should initially check two assumptions(there are more but we will discuss them on the fly.)\n",
    "1. Independent variables must have be correlated to the target variable.\n",
    "2. Independent variable should not be correlated with each other(Multicolinearity).\n",
    "\n",
    "    <span class=\"burk\">Also always keep in mind, Linear Regression , as the name suggests, is all about if there is a linear relationship between features and targets. If there is no such relationship uncovered after the analysis, that DOES NOT mean no relationship. Maybe there is another type of more complicated association between features and targets. Our end goal, deep learning, is all about finding these hidden associations. Neither simple linear regression nor correlation answer questions of causality directly. </span>\n",
    "    \n",
    "    Please have a look at the video [here](https://www.youtube.com/watch?v=wHatBwHLrnA) to understand the difference between correlation and regression.\n",
    "\n",
    "Let's start from the first one. \n",
    "### Correlation\n",
    "In order to apply Linear Regression to our data, we have to check the correlation between each candidate predictors (TV, Radio and Newpaper) and the target variable(Sales). A variable will not be a good predictor if it doesn't significantly correlated with the target variable. Carefully note that a weak correlation does not mean there is no relationship at all, there may be some non-liner relationship but definetely not linear.\n",
    "\n",
    "Correlation is a statistical measure on how strong a linear relationship between two variables. The values ranged between -1.0 and 1.0, where:\n",
    "- Positive value = positive correlation, means one variable increases as the other variable increases, or vice versa. The closer to 1, the stronger the positive relationship.\n",
    "- Negative value = negative correlation, means one variable decreases as the other variable increases, or vice versa. The closer to -1, the stronger the negative relationship.\n",
    "- Zero = no correlation, means that a variable has nothing to do with the other variable.\n",
    "\n",
    "\n",
    "We will use two methods to inspect the correlation. First one is to scatter plot each variable vs target variable. Another one is to display the Correlation Coefficient which which measures the linear relationship between two quantitative variables."
   ]
  },
  {
   "cell_type": "code",
   "execution_count": 5,
   "id": "133a0cc0",
   "metadata": {},
   "outputs": [
    {
     "data": {
      "image/png": "[encoded data removed]",
      "text/plain": [
       "<Figure size 864x288 with 3 Axes>"
      ]
     },
     "metadata": {
      "needs_background": "light"
     },
     "output_type": "display_data"
    }
   ],
   "source": [
    "sn.pairplot(df, x_vars = ['TV', 'Radio','Newspaper'], \n",
    "             y_vars = 'Sales', height = 4, aspect = 1, kind = 'scatter')\n",
    "plt.show()"
   ]
  },
  {
   "cell_type": "markdown",
   "id": "e7640dca",
   "metadata": {},
   "source": [
    "As seen in the figures, it appears that TV has a strong correlation with Sales. Now, let's quantify this claim with corrrelation coefficent heatmap. As seen below, TV has a very strong correlation(0.9) to Sales but this is kind of weak for Newspaper(0.1)"
   ]
  },
  {
   "cell_type": "code",
   "execution_count": 6,
   "id": "3372b7b5",
   "metadata": {},
   "outputs": [
    {
     "data": {
      "text/html": [
       "<div>\n",
       "<style scoped>\n",
       "    .dataframe tbody tr th:only-of-type {\n",
       "        vertical-align: middle;\n",
       "    }\n",
       "\n",
       "    .dataframe tbody tr th {\n",
       "        vertical-align: top;\n",
       "    }\n",
       "\n",
       "    .dataframe thead th {\n",
       "        text-align: right;\n",
       "    }\n",
       "</style>\n",
       "<table border=\"1\" class=\"dataframe\">\n",
       "  <thead>\n",
       "    <tr style=\"text-align: right;\">\n",
       "      <th></th>\n",
       "      <th>TV</th>\n",
       "      <th>Radio</th>\n",
       "      <th>Newspaper</th>\n",
       "      <th>Sales</th>\n",
       "    </tr>\n",
       "  </thead>\n",
       "  <tbody>\n",
       "    <tr>\n",
       "      <th>TV</th>\n",
       "      <td>1.000000</td>\n",
       "      <td>0.054809</td>\n",
       "      <td>0.056648</td>\n",
       "      <td>0.901208</td>\n",
       "    </tr>\n",
       "    <tr>\n",
       "      <th>Radio</th>\n",
       "      <td>0.054809</td>\n",
       "      <td>1.000000</td>\n",
       "      <td>0.354104</td>\n",
       "      <td>0.349631</td>\n",
       "    </tr>\n",
       "    <tr>\n",
       "      <th>Newspaper</th>\n",
       "      <td>0.056648</td>\n",
       "      <td>0.354104</td>\n",
       "      <td>1.000000</td>\n",
       "      <td>0.157960</td>\n",
       "    </tr>\n",
       "    <tr>\n",
       "      <th>Sales</th>\n",
       "      <td>0.901208</td>\n",
       "      <td>0.349631</td>\n",
       "      <td>0.157960</td>\n",
       "      <td>1.000000</td>\n",
       "    </tr>\n",
       "  </tbody>\n",
       "</table>\n",
       "</div>"
      ],
      "text/plain": [
       "                 TV     Radio  Newspaper     Sales\n",
       "TV         1.000000  0.054809   0.056648  0.901208\n",
       "Radio      0.054809  1.000000   0.354104  0.349631\n",
       "Newspaper  0.056648  0.354104   1.000000  0.157960\n",
       "Sales      0.901208  0.349631   0.157960  1.000000"
      ]
     },
     "execution_count": 6,
     "metadata": {},
     "output_type": "execute_result"
    }
   ],
   "source": [
    "df.corr()"
   ]
  },
  {
   "cell_type": "code",
   "execution_count": 7,
   "id": "3697c20a",
   "metadata": {
    "scrolled": true
   },
   "outputs": [
    {
     "data": {
      "image/png": "[encoded data removed]",
      "text/plain": [
       "<Figure size 432x288 with 2 Axes>"
      ]
     },
     "metadata": {
      "needs_background": "light"
     },
     "output_type": "display_data"
    }
   ],
   "source": [
    "sn.heatmap(df.corr(), cmap=\"YlGnBu\", annot = True)\n",
    "plt.show()"
   ]
  },
  {
   "cell_type": "markdown",
   "id": "aab68d5a",
   "metadata": {},
   "source": [
    "- It appears from the last row that TV is strongly correlated with Sales. This confirms our statement above."
   ]
  },
  {
   "cell_type": "markdown",
   "id": "624f7d2d",
   "metadata": {},
   "source": [
    "### Multicolinearity"
   ]
  },
  {
   "cell_type": "markdown",
   "id": "1deaa2e4",
   "metadata": {},
   "source": [
    "As for the second item, we can use the heatmap above for an inspection. Darker the color, stronger the colinear relationship. It appears that, colinearity is not an issue for this problem as we do not observe strong correlations between indepentdent variables. "
   ]
  },
  {
   "cell_type": "code",
   "execution_count": 8,
   "id": "da2155a6",
   "metadata": {},
   "outputs": [
    {
     "data": {
      "image/png": "[encoded data removed]",
      "text/plain": [
       "<Figure size 1440x360 with 3 Axes>"
      ]
     },
     "metadata": {
      "needs_background": "light"
     },
     "output_type": "display_data"
    }
   ],
   "source": [
    "fig, axes = plt.subplots(1, 3, figsize=(20,5))\n",
    "axes[0].scatter(x = df['TV'],y = df['Radio'])\n",
    "axes[0].set_xlabel('TV')\n",
    "axes[0].set_ylabel('Radio')\n",
    "axes[1].scatter(x = df['TV'],y = df['Newspaper'])\n",
    "axes[1].set_xlabel('TV')\n",
    "axes[1].set_ylabel('Newspaper')\n",
    "axes[2].scatter(x = df['Radio'],y = df['Newspaper'])\n",
    "axes[2].set_xlabel('Radio')\n",
    "axes[2].set_ylabel('Newspaper')\n",
    "plt.show()"
   ]
  },
  {
   "cell_type": "code",
   "execution_count": null,
   "id": "037bd968",
   "metadata": {},
   "outputs": [],
   "source": []
  },
  {
   "cell_type": "markdown",
   "id": "a978ab9a",
   "metadata": {},
   "source": [
    "One great way to check whether colinearity exist in the features is to calculate the variable inflation factor(VIF). Idea here is to pick one variable and create linear regression aganist others. For each regression, $R^2$ value is calculated then we define $$VIF = \\dfrac{1}{1-R^2}$$\n",
    "Here $R^2$ is simply the square of the correlation coefficent. Recall that $-1\\leq R \\leq 1$. Thus greater the value of R-squared, greater is the VIF. Hence, greater VIF denotes greater correlation. Generally, a VIF above 5 indicates a high multicollinearity. As seen below, there is not a strong multicolinearity in the data.\n",
    "\n",
    "If multicolinearity exist in the data, these features must be removed sequentially in the model. Othwerwise, it can be impossible to explain the possible causes of the changes in the data. This is like using maple syrup, sugar and honey in a cake and try to understand the source of the sweetness(: "
   ]
  },
  {
   "cell_type": "code",
   "execution_count": 9,
   "id": "c00194cb",
   "metadata": {},
   "outputs": [
    {
     "name": "stdout",
     "output_type": "stream",
     "text": [
      "     feature       VIF\n",
      "0         TV  2.486772\n",
      "1      Radio  3.285462\n",
      "2  Newspaper  3.055245\n"
     ]
    }
   ],
   "source": [
    "# the independent variables set\n",
    "X = df.drop(['Sales'],axis = 1)\n",
    "  \n",
    "# VIF dataframe\n",
    "vif_data = pd.DataFrame()\n",
    "vif_data[\"feature\"] = X.columns\n",
    "  \n",
    "# calculating VIF for each feature\n",
    "vif_data[\"VIF\"] = [variance_inflation_factor(X.values, i)\n",
    "                          for i in range(len(X.columns))]\n",
    "  \n",
    "print(vif_data)"
   ]
  },
  {
   "cell_type": "code",
   "execution_count": 10,
   "id": "adce6882",
   "metadata": {},
   "outputs": [],
   "source": [
    "# sn.pairplot(df, x_vars = ['TV', 'Radio','Newspaper'], \n",
    "#              y_vars = ['TV', 'Radio','Newspaper'], height = 4, aspect = 1, kind = 'scatter')\n",
    "# plt.show()"
   ]
  },
  {
   "cell_type": "code",
   "execution_count": null,
   "id": "99fb0dbc",
   "metadata": {},
   "outputs": [],
   "source": []
  },
  {
   "cell_type": "markdown",
   "id": "da5e26b1",
   "metadata": {},
   "source": [
    "\n",
    "\n",
    "##  3. Model Training and Testing\n",
    "Recall the general idea. Our problem is; for the given data points $(x_i,y_i)$, find $w_0,w_1,w_2,w_3$ to minimize \n",
    "\n",
    "$$ \\Vert \\hat{Y} - \\text{Y}\\Vert$$ where $\\hat{Y} = w_0 + w_1 X_1 + w_2 X_2 + w_3X_3$. Here we have\n",
    "- $w_1,w_2,w_3$ are called weigths and $w_0$ is the intercept.\n",
    "- $\\hat{Y}$ is the predicted value of target variable(dependent variable)\n",
    "- $X_1, X_2,X_3$ are the predictor.\n",
    "- $n$ is the number of predictors (indipendent variables). For this problem n=3\n",
    "\n",
    "We will follow these steps;\n",
    "1. Split the data into traing and testing sets.\n",
    "2. Train the model\n",
    "3. Test the performance with various methods\n",
    "\n",
    "We will be using two libraries statmodels and skilearn. Former one is a statistics heavy tool which has functionalities to manipulate the models in details. skilearn is more of a machine learning tool and focuces on training and testing more."
   ]
  },
  {
   "cell_type": "markdown",
   "id": "4bfdf418",
   "metadata": {},
   "source": [
    "### Training with statmodels"
   ]
  },
  {
   "cell_type": "code",
   "execution_count": 11,
   "id": "07636650",
   "metadata": {},
   "outputs": [],
   "source": [
    "X = df.drop(['Sales'],axis = 1) # predictors\n",
    "y = df.Sales.values             # target values as np.array, important!"
   ]
  },
  {
   "cell_type": "code",
   "execution_count": 12,
   "id": "c2b2c1b7",
   "metadata": {},
   "outputs": [
    {
     "data": {
      "text/html": [
       "<div>\n",
       "<style scoped>\n",
       "    .dataframe tbody tr th:only-of-type {\n",
       "        vertical-align: middle;\n",
       "    }\n",
       "\n",
       "    .dataframe tbody tr th {\n",
       "        vertical-align: top;\n",
       "    }\n",
       "\n",
       "    .dataframe thead th {\n",
       "        text-align: right;\n",
       "    }\n",
       "</style>\n",
       "<table border=\"1\" class=\"dataframe\">\n",
       "  <thead>\n",
       "    <tr style=\"text-align: right;\">\n",
       "      <th></th>\n",
       "      <th>TV</th>\n",
       "      <th>Radio</th>\n",
       "      <th>Newspaper</th>\n",
       "    </tr>\n",
       "  </thead>\n",
       "  <tbody>\n",
       "    <tr>\n",
       "      <th>0</th>\n",
       "      <td>44.5</td>\n",
       "      <td>39.3</td>\n",
       "      <td>45.1</td>\n",
       "    </tr>\n",
       "    <tr>\n",
       "      <th>1</th>\n",
       "      <td>230.1</td>\n",
       "      <td>37.8</td>\n",
       "      <td>69.2</td>\n",
       "    </tr>\n",
       "    <tr>\n",
       "      <th>2</th>\n",
       "      <td>17.2</td>\n",
       "      <td>45.9</td>\n",
       "      <td>69.3</td>\n",
       "    </tr>\n",
       "    <tr>\n",
       "      <th>3</th>\n",
       "      <td>151.5</td>\n",
       "      <td>41.3</td>\n",
       "      <td>58.5</td>\n",
       "    </tr>\n",
       "    <tr>\n",
       "      <th>4</th>\n",
       "      <td>180.8</td>\n",
       "      <td>10.8</td>\n",
       "      <td>58.4</td>\n",
       "    </tr>\n",
       "    <tr>\n",
       "      <th>...</th>\n",
       "      <td>...</td>\n",
       "      <td>...</td>\n",
       "      <td>...</td>\n",
       "    </tr>\n",
       "    <tr>\n",
       "      <th>195</th>\n",
       "      <td>38.2</td>\n",
       "      <td>3.7</td>\n",
       "      <td>13.8</td>\n",
       "    </tr>\n",
       "    <tr>\n",
       "      <th>196</th>\n",
       "      <td>94.2</td>\n",
       "      <td>4.9</td>\n",
       "      <td>8.1</td>\n",
       "    </tr>\n",
       "    <tr>\n",
       "      <th>197</th>\n",
       "      <td>177.0</td>\n",
       "      <td>9.3</td>\n",
       "      <td>6.4</td>\n",
       "    </tr>\n",
       "    <tr>\n",
       "      <th>198</th>\n",
       "      <td>283.6</td>\n",
       "      <td>42.0</td>\n",
       "      <td>66.2</td>\n",
       "    </tr>\n",
       "    <tr>\n",
       "      <th>199</th>\n",
       "      <td>232.1</td>\n",
       "      <td>8.6</td>\n",
       "      <td>8.7</td>\n",
       "    </tr>\n",
       "  </tbody>\n",
       "</table>\n",
       "<p>200 rows × 3 columns</p>\n",
       "</div>"
      ],
      "text/plain": [
       "        TV  Radio  Newspaper\n",
       "0     44.5   39.3       45.1\n",
       "1    230.1   37.8       69.2\n",
       "2     17.2   45.9       69.3\n",
       "3    151.5   41.3       58.5\n",
       "4    180.8   10.8       58.4\n",
       "..     ...    ...        ...\n",
       "195   38.2    3.7       13.8\n",
       "196   94.2    4.9        8.1\n",
       "197  177.0    9.3        6.4\n",
       "198  283.6   42.0       66.2\n",
       "199  232.1    8.6        8.7\n",
       "\n",
       "[200 rows x 3 columns]"
      ]
     },
     "metadata": {},
     "output_type": "display_data"
    }
   ],
   "source": [
    "display(X)"
   ]
  },
  {
   "cell_type": "code",
   "execution_count": 13,
   "id": "e6667d65",
   "metadata": {},
   "outputs": [
    {
     "data": {
      "text/plain": [
       "array([10.4, 22.1, 12. , 16.5, 17.9,  7.2, 11.8, 13.2,  4.8, 15.6, 12.6,\n",
       "       17.4,  9.2, 13.7, 19. , 22.4, 12.5, 24.4, 11.3, 14.6, 18. , 17.5,\n",
       "        5.6, 20.5,  9.7, 17. , 15. , 20.9, 18.9, 10.5, 21.4, 11.9, 13.2,\n",
       "       17.4, 11.9, 17.8, 25.4, 14.7, 10.1, 21.5, 16.6, 17.1, 20.7, 17.9,\n",
       "        8.5, 16.1, 10.6, 23.2, 19.8,  9.7, 16.4, 10.7, 22.6, 21.2, 20.2,\n",
       "       23.7,  5.5, 13.2, 23.8, 18.4,  8.1, 24.2, 20.7, 14. , 16. , 11.3,\n",
       "       11. , 13.4, 18.9, 22.3, 18.3, 12.4,  8.8, 11. , 17. ,  8.7,  6.9,\n",
       "       14.2,  5.3, 11. , 11.8, 17.3, 11.3, 13.6, 21.7, 20.2, 12. , 16. ,\n",
       "       12.9, 16.7, 14. ,  7.3, 19.4, 22.2, 11.5, 16.9, 16.7, 20.5, 25.4,\n",
       "       17.2, 16.7, 23.8, 19.8, 19.7, 20.7, 15. ,  7.2, 12. ,  5.3, 19.8,\n",
       "       18.4, 21.8, 17.1, 20.9, 14.6, 12.6, 12.2,  9.4, 15.9,  6.6, 15.5,\n",
       "        7. , 16.6, 15.2, 19.7, 10.6,  6.6, 11.9, 24.7,  9.7,  1.6, 17.7,\n",
       "        5.7, 19.6, 10.8, 11.6,  9.5, 20.8,  9.6, 20.7, 10.9, 19.2, 20.1,\n",
       "       10.4, 12.3, 10.3, 18.2, 25.4, 10.9, 10.1, 16.1, 11.6, 16.6, 16. ,\n",
       "       20.6,  3.2, 15.3, 10.1,  7.3, 12.9, 16.4, 13.3, 19.9, 18. , 11.9,\n",
       "       16.9,  8. , 17.2, 17.1, 20. ,  8.4, 17.5,  7.6, 16.7, 16.5, 27. ,\n",
       "       20.2, 16.7, 16.8, 17.6, 15.5, 17.2,  8.7, 26.2, 17.6, 22.6, 10.3,\n",
       "       17.3, 20.9,  6.7, 10.8, 11.9,  5.9, 19.6, 17.3,  7.6, 14. , 14.8,\n",
       "       25.5, 18.4])"
      ]
     },
     "metadata": {},
     "output_type": "display_data"
    }
   ],
   "source": [
    "display(y)"
   ]
  },
  {
   "cell_type": "code",
   "execution_count": 14,
   "id": "943dc93e",
   "metadata": {},
   "outputs": [],
   "source": [
    "X_train, X_test, y_train, y_test = train_test_split(X, y, test_size = 0.2)"
   ]
  },
  {
   "cell_type": "code",
   "execution_count": 15,
   "id": "f904d884",
   "metadata": {},
   "outputs": [
    {
     "name": "stdout",
     "output_type": "stream",
     "text": [
      "X_Train: (160, 3)\n",
      "X_Test: (40, 3)\n",
      "y_Train: (160,)\n",
      "y_Test: (40,)\n"
     ]
    }
   ],
   "source": [
    "print(\"X_Train:\", X_train.shape)\n",
    "print(\"X_Test:\", X_test.shape)\n",
    "print(\"y_Train:\", y_train.shape)\n",
    "print(\"y_Test:\", y_test.shape)"
   ]
  },
  {
   "cell_type": "code",
   "execution_count": 16,
   "id": "2de05f21",
   "metadata": {},
   "outputs": [
    {
     "data": {
      "text/html": [
       "<div>\n",
       "<style scoped>\n",
       "    .dataframe tbody tr th:only-of-type {\n",
       "        vertical-align: middle;\n",
       "    }\n",
       "\n",
       "    .dataframe tbody tr th {\n",
       "        vertical-align: top;\n",
       "    }\n",
       "\n",
       "    .dataframe thead th {\n",
       "        text-align: right;\n",
       "    }\n",
       "</style>\n",
       "<table border=\"1\" class=\"dataframe\">\n",
       "  <thead>\n",
       "    <tr style=\"text-align: right;\">\n",
       "      <th></th>\n",
       "      <th>TV</th>\n",
       "      <th>Radio</th>\n",
       "      <th>Newspaper</th>\n",
       "    </tr>\n",
       "  </thead>\n",
       "  <tbody>\n",
       "    <tr>\n",
       "      <th>171</th>\n",
       "      <td>164.5</td>\n",
       "      <td>20.9</td>\n",
       "      <td>47.4</td>\n",
       "    </tr>\n",
       "    <tr>\n",
       "      <th>134</th>\n",
       "      <td>36.9</td>\n",
       "      <td>38.6</td>\n",
       "      <td>65.6</td>\n",
       "    </tr>\n",
       "    <tr>\n",
       "      <th>100</th>\n",
       "      <td>222.4</td>\n",
       "      <td>4.3</td>\n",
       "      <td>49.8</td>\n",
       "    </tr>\n",
       "    <tr>\n",
       "      <th>126</th>\n",
       "      <td>7.8</td>\n",
       "      <td>38.9</td>\n",
       "      <td>50.6</td>\n",
       "    </tr>\n",
       "    <tr>\n",
       "      <th>125</th>\n",
       "      <td>87.2</td>\n",
       "      <td>11.8</td>\n",
       "      <td>25.9</td>\n",
       "    </tr>\n",
       "    <tr>\n",
       "      <th>...</th>\n",
       "      <td>...</td>\n",
       "      <td>...</td>\n",
       "      <td>...</td>\n",
       "    </tr>\n",
       "    <tr>\n",
       "      <th>140</th>\n",
       "      <td>73.4</td>\n",
       "      <td>17.0</td>\n",
       "      <td>12.9</td>\n",
       "    </tr>\n",
       "    <tr>\n",
       "      <th>181</th>\n",
       "      <td>218.5</td>\n",
       "      <td>5.4</td>\n",
       "      <td>27.4</td>\n",
       "    </tr>\n",
       "    <tr>\n",
       "      <th>123</th>\n",
       "      <td>123.1</td>\n",
       "      <td>34.6</td>\n",
       "      <td>12.4</td>\n",
       "    </tr>\n",
       "    <tr>\n",
       "      <th>103</th>\n",
       "      <td>187.9</td>\n",
       "      <td>17.2</td>\n",
       "      <td>17.9</td>\n",
       "    </tr>\n",
       "    <tr>\n",
       "      <th>146</th>\n",
       "      <td>240.1</td>\n",
       "      <td>7.3</td>\n",
       "      <td>8.7</td>\n",
       "    </tr>\n",
       "  </tbody>\n",
       "</table>\n",
       "<p>160 rows × 3 columns</p>\n",
       "</div>"
      ],
      "text/plain": [
       "        TV  Radio  Newspaper\n",
       "171  164.5   20.9       47.4\n",
       "134   36.9   38.6       65.6\n",
       "100  222.4    4.3       49.8\n",
       "126    7.8   38.9       50.6\n",
       "125   87.2   11.8       25.9\n",
       "..     ...    ...        ...\n",
       "140   73.4   17.0       12.9\n",
       "181  218.5    5.4       27.4\n",
       "123  123.1   34.6       12.4\n",
       "103  187.9   17.2       17.9\n",
       "146  240.1    7.3        8.7\n",
       "\n",
       "[160 rows x 3 columns]"
      ]
     },
     "execution_count": 16,
     "metadata": {},
     "output_type": "execute_result"
    }
   ],
   "source": [
    "X_train"
   ]
  },
  {
   "cell_type": "code",
   "execution_count": 17,
   "id": "944e0429",
   "metadata": {
    "scrolled": false
   },
   "outputs": [
    {
     "name": "stdout",
     "output_type": "stream",
     "text": [
      "TV           164.5\n",
      "Radio         20.9\n",
      "Newspaper     47.4\n",
      "Name: 171, dtype: float64 7.2\n"
     ]
    }
   ],
   "source": [
    "print(X_train.iloc[0],y_test[0])"
   ]
  },
  {
   "cell_type": "markdown",
   "id": "414de4f7",
   "metadata": {},
   "source": [
    "Now let's have a look at stat model module which gives more detail about the model. It uses ordinary least square method."
   ]
  },
  {
   "cell_type": "code",
   "execution_count": 18,
   "id": "2a601979",
   "metadata": {},
   "outputs": [
    {
     "name": "stderr",
     "output_type": "stream",
     "text": [
      "/home/erkara/anaconda3/lib/python3.9/site-packages/statsmodels/tsa/tsatools.py:142: FutureWarning: In a future version of pandas all arguments of concat except for the argument 'objs' will be keyword-only\n",
      "  x = pd.concat(x[::order], 1)\n"
     ]
    }
   ],
   "source": [
    "model1 =  sm.OLS(y_train, sm.add_constant(X_train)).fit()"
   ]
  },
  {
   "cell_type": "code",
   "execution_count": 19,
   "id": "8d59cf10",
   "metadata": {
    "scrolled": true
   },
   "outputs": [
    {
     "data": {
      "text/plain": [
       "const        4.973669\n",
       "TV           0.053618\n",
       "Radio        0.110887\n",
       "Newspaper   -0.005361\n",
       "dtype: float64"
      ]
     },
     "execution_count": 19,
     "metadata": {},
     "output_type": "execute_result"
    }
   ],
   "source": [
    "model1.params"
   ]
  },
  {
   "cell_type": "markdown",
   "id": "2ae305a1",
   "metadata": {},
   "source": [
    " $Y=4.63+0.05𝑋_1+0.1𝑋_2+0.001𝑋_3$"
   ]
  },
  {
   "cell_type": "code",
   "execution_count": 20,
   "id": "8e17f2d4",
   "metadata": {},
   "outputs": [
    {
     "data": {
      "text/html": [
       "<table class=\"simpletable\">\n",
       "<caption>OLS Regression Results</caption>\n",
       "<tr>\n",
       "  <th>Dep. Variable:</th>            <td>y</td>        <th>  R-squared:         </th> <td>   0.911</td>\n",
       "</tr>\n",
       "<tr>\n",
       "  <th>Model:</th>                   <td>OLS</td>       <th>  Adj. R-squared:    </th> <td>   0.910</td>\n",
       "</tr>\n",
       "<tr>\n",
       "  <th>Method:</th>             <td>Least Squares</td>  <th>  F-statistic:       </th> <td>   534.6</td>\n",
       "</tr>\n",
       "<tr>\n",
       "  <th>Date:</th>             <td>Mon, 11 Jul 2022</td> <th>  Prob (F-statistic):</th> <td>7.93e-82</td>\n",
       "</tr>\n",
       "<tr>\n",
       "  <th>Time:</th>                 <td>12:34:53</td>     <th>  Log-Likelihood:    </th> <td> -297.00</td>\n",
       "</tr>\n",
       "<tr>\n",
       "  <th>No. Observations:</th>      <td>   160</td>      <th>  AIC:               </th> <td>   602.0</td>\n",
       "</tr>\n",
       "<tr>\n",
       "  <th>Df Residuals:</th>          <td>   156</td>      <th>  BIC:               </th> <td>   614.3</td>\n",
       "</tr>\n",
       "<tr>\n",
       "  <th>Df Model:</th>              <td>     3</td>      <th>                     </th>     <td> </td>   \n",
       "</tr>\n",
       "<tr>\n",
       "  <th>Covariance Type:</th>      <td>nonrobust</td>    <th>                     </th>     <td> </td>   \n",
       "</tr>\n",
       "</table>\n",
       "<table class=\"simpletable\">\n",
       "<tr>\n",
       "      <td></td>         <th>coef</th>     <th>std err</th>      <th>t</th>      <th>P>|t|</th>  <th>[0.025</th>    <th>0.975]</th>  \n",
       "</tr>\n",
       "<tr>\n",
       "  <th>const</th>     <td>    4.9737</td> <td>    0.326</td> <td>   15.274</td> <td> 0.000</td> <td>    4.330</td> <td>    5.617</td>\n",
       "</tr>\n",
       "<tr>\n",
       "  <th>TV</th>        <td>    0.0536</td> <td>    0.001</td> <td>   36.941</td> <td> 0.000</td> <td>    0.051</td> <td>    0.056</td>\n",
       "</tr>\n",
       "<tr>\n",
       "  <th>Radio</th>     <td>    0.1109</td> <td>    0.009</td> <td>   12.492</td> <td> 0.000</td> <td>    0.093</td> <td>    0.128</td>\n",
       "</tr>\n",
       "<tr>\n",
       "  <th>Newspaper</th> <td>   -0.0054</td> <td>    0.006</td> <td>   -0.875</td> <td> 0.383</td> <td>   -0.017</td> <td>    0.007</td>\n",
       "</tr>\n",
       "</table>\n",
       "<table class=\"simpletable\">\n",
       "<tr>\n",
       "  <th>Omnibus:</th>       <td> 0.705</td> <th>  Durbin-Watson:     </th> <td>   1.998</td>\n",
       "</tr>\n",
       "<tr>\n",
       "  <th>Prob(Omnibus):</th> <td> 0.703</td> <th>  Jarque-Bera (JB):  </th> <td>   0.362</td>\n",
       "</tr>\n",
       "<tr>\n",
       "  <th>Skew:</th>          <td>-0.025</td> <th>  Prob(JB):          </th> <td>   0.835</td>\n",
       "</tr>\n",
       "<tr>\n",
       "  <th>Kurtosis:</th>      <td> 3.228</td> <th>  Cond. No.          </th> <td>    454.</td>\n",
       "</tr>\n",
       "</table><br/><br/>Notes:<br/>[1] Standard Errors assume that the covariance matrix of the errors is correctly specified."
      ],
      "text/plain": [
       "<class 'statsmodels.iolib.summary.Summary'>\n",
       "\"\"\"\n",
       "                            OLS Regression Results                            \n",
       "==============================================================================\n",
       "Dep. Variable:                      y   R-squared:                       0.911\n",
       "Model:                            OLS   Adj. R-squared:                  0.910\n",
       "Method:                 Least Squares   F-statistic:                     534.6\n",
       "Date:                Mon, 11 Jul 2022   Prob (F-statistic):           7.93e-82\n",
       "Time:                        12:34:53   Log-Likelihood:                -297.00\n",
       "No. Observations:                 160   AIC:                             602.0\n",
       "Df Residuals:                     156   BIC:                             614.3\n",
       "Df Model:                           3                                         \n",
       "Covariance Type:            nonrobust                                         \n",
       "==============================================================================\n",
       "                 coef    std err          t      P>|t|      [0.025      0.975]\n",
       "------------------------------------------------------------------------------\n",
       "const          4.9737      0.326     15.274      0.000       4.330       5.617\n",
       "TV             0.0536      0.001     36.941      0.000       0.051       0.056\n",
       "Radio          0.1109      0.009     12.492      0.000       0.093       0.128\n",
       "Newspaper     -0.0054      0.006     -0.875      0.383      -0.017       0.007\n",
       "==============================================================================\n",
       "Omnibus:                        0.705   Durbin-Watson:                   1.998\n",
       "Prob(Omnibus):                  0.703   Jarque-Bera (JB):                0.362\n",
       "Skew:                          -0.025   Prob(JB):                        0.835\n",
       "Kurtosis:                       3.228   Cond. No.                         454.\n",
       "==============================================================================\n",
       "\n",
       "Notes:\n",
       "[1] Standard Errors assume that the covariance matrix of the errors is correctly specified.\n",
       "\"\"\""
      ]
     },
     "execution_count": 20,
     "metadata": {},
     "output_type": "execute_result"
    }
   ],
   "source": [
    "model1.summary()"
   ]
  },
  {
   "cell_type": "markdown",
   "id": "82bd5cf7",
   "metadata": {},
   "source": [
    "For now, we will focus on three aspects of this summary:\n",
    "\n",
    "**R-squared**: This tells us how much of the variance of the target variable is explained by the predictors in the model. R-squared value close to 1 corresponds to a good model and a value close to 0 indicates a poor model. However as a very well known property, R-squared never decreseas even if we new random predictors. \n",
    "\n",
    "**adjusted-R-squared** The idea in this metric is to penalize the R-squared score as we add new features. Thus, this is a better metric for the considered model.\n",
    "\n",
    "**𝑃 >|𝑡|**  indicates the p-value. A low p-value (< 0.05) shows that the correponsing feature has significant effect on the target variable. For example, this output indicates that newspaper is an insignificant feature in the sales in this linear model. In the later stages, we may drop it in the analysis. \n",
    "\n",
    "In the light of this discussion, it appears that TV and Radio are the best predictors for this model. It is obvious that the Newspaper is not statistically significant predictor. We will remove and retrain the model again later."
   ]
  },
  {
   "cell_type": "markdown",
   "id": "81abae6f",
   "metadata": {},
   "source": [
    "Without any regularization or data-modification, lets first test the performance of the model on the testing data using all predictors. We will consider four important metrics; R Square, Adjusted R Square, Root Mean Square Error(MSE), Mean Absolute Percentage Error(MAPE). Here we should note a few points:\n",
    "\n",
    "1. **MSE/MAPE** can be used to compare the quality of two models. The smaller the better. However, they dont tell how good the model is.\n",
    "2. **MAPE** is less sensitive to outliers as opposed to MSE where we magnify the difference by squraring it. However MSE is a common choice for many models from analysis stanpoint since it has smoot derivatives. For example, we cant use MAPE the gradient decent method.\n",
    "3. **R Squared & Adjusted R Squared** explains how well the selected features explain the variablity in the model. So a model with  Adjusted R Squared = 0.03 is definetely poor. "
   ]
  },
  {
   "cell_type": "code",
   "execution_count": 21,
   "id": "c3adf0c6",
   "metadata": {},
   "outputs": [],
   "source": [
    "def EvalauteModel(model, X_true, y_true, decimal = 5):\n",
    "    y_pred = model.predict(sm.add_constant(X_true))\n",
    "    metric = {\n",
    "        \"R-sq\": round(model.rsquared, decimal),\n",
    "        \"Adj. R-sq\": round(model.rsquared_adj, decimal),\n",
    "        \"RMSE\": round(np.sqrt(metrics.mean_squared_error(y_true, y_pred)), decimal),\n",
    "        \"MAPE\": round(np.mean(np.abs((y_true - y_pred) / y_true)) * 100, decimal)\n",
    "    }\n",
    "    return metric"
   ]
  },
  {
   "cell_type": "code",
   "execution_count": 22,
   "id": "30f7d07a",
   "metadata": {},
   "outputs": [
    {
     "name": "stderr",
     "output_type": "stream",
     "text": [
      "/home/erkara/anaconda3/lib/python3.9/site-packages/statsmodels/tsa/tsatools.py:142: FutureWarning: In a future version of pandas all arguments of concat except for the argument 'objs' will be keyword-only\n",
      "  x = pd.concat(x[::order], 1)\n"
     ]
    },
    {
     "data": {
      "text/plain": [
       "{'R-sq': 0.91135, 'Adj. R-sq': 0.90965, 'RMSE': 2.03385, 'MAPE': 22.60117}"
      ]
     },
     "execution_count": 22,
     "metadata": {},
     "output_type": "execute_result"
    }
   ],
   "source": [
    "EvalauteModel(model1, X_test,y_test)"
   ]
  },
  {
   "cell_type": "markdown",
   "id": "549d0226",
   "metadata": {},
   "source": [
    "Adjusted R^2 score is 0.89 and it is very close to the training R^2 score. This indicates there is no overfitting in the model. Now, let's remove the Newspaper coloumns from the model and retrain to see if we can get a better results"
   ]
  },
  {
   "cell_type": "code",
   "execution_count": 23,
   "id": "0f225732",
   "metadata": {},
   "outputs": [],
   "source": [
    "# # Notice that we dont modify the target but just drop the 'Newspaper' feature.\n",
    "#feature_to_drop = ['Newspaper']\n",
    "X_train_new = X_train.drop(['Newspaper'], axis = 1)\n",
    "X_test_new = X_test.drop(['Newspaper'], axis = 1)\n"
   ]
  },
  {
   "cell_type": "code",
   "execution_count": 24,
   "id": "7ad57040",
   "metadata": {},
   "outputs": [
    {
     "data": {
      "text/html": [
       "<div>\n",
       "<style scoped>\n",
       "    .dataframe tbody tr th:only-of-type {\n",
       "        vertical-align: middle;\n",
       "    }\n",
       "\n",
       "    .dataframe tbody tr th {\n",
       "        vertical-align: top;\n",
       "    }\n",
       "\n",
       "    .dataframe thead th {\n",
       "        text-align: right;\n",
       "    }\n",
       "</style>\n",
       "<table border=\"1\" class=\"dataframe\">\n",
       "  <thead>\n",
       "    <tr style=\"text-align: right;\">\n",
       "      <th></th>\n",
       "      <th>TV</th>\n",
       "      <th>Radio</th>\n",
       "    </tr>\n",
       "  </thead>\n",
       "  <tbody>\n",
       "    <tr>\n",
       "      <th>171</th>\n",
       "      <td>164.5</td>\n",
       "      <td>20.9</td>\n",
       "    </tr>\n",
       "    <tr>\n",
       "      <th>134</th>\n",
       "      <td>36.9</td>\n",
       "      <td>38.6</td>\n",
       "    </tr>\n",
       "    <tr>\n",
       "      <th>100</th>\n",
       "      <td>222.4</td>\n",
       "      <td>4.3</td>\n",
       "    </tr>\n",
       "    <tr>\n",
       "      <th>126</th>\n",
       "      <td>7.8</td>\n",
       "      <td>38.9</td>\n",
       "    </tr>\n",
       "    <tr>\n",
       "      <th>125</th>\n",
       "      <td>87.2</td>\n",
       "      <td>11.8</td>\n",
       "    </tr>\n",
       "    <tr>\n",
       "      <th>...</th>\n",
       "      <td>...</td>\n",
       "      <td>...</td>\n",
       "    </tr>\n",
       "    <tr>\n",
       "      <th>140</th>\n",
       "      <td>73.4</td>\n",
       "      <td>17.0</td>\n",
       "    </tr>\n",
       "    <tr>\n",
       "      <th>181</th>\n",
       "      <td>218.5</td>\n",
       "      <td>5.4</td>\n",
       "    </tr>\n",
       "    <tr>\n",
       "      <th>123</th>\n",
       "      <td>123.1</td>\n",
       "      <td>34.6</td>\n",
       "    </tr>\n",
       "    <tr>\n",
       "      <th>103</th>\n",
       "      <td>187.9</td>\n",
       "      <td>17.2</td>\n",
       "    </tr>\n",
       "    <tr>\n",
       "      <th>146</th>\n",
       "      <td>240.1</td>\n",
       "      <td>7.3</td>\n",
       "    </tr>\n",
       "  </tbody>\n",
       "</table>\n",
       "<p>160 rows × 2 columns</p>\n",
       "</div>"
      ],
      "text/plain": [
       "        TV  Radio\n",
       "171  164.5   20.9\n",
       "134   36.9   38.6\n",
       "100  222.4    4.3\n",
       "126    7.8   38.9\n",
       "125   87.2   11.8\n",
       "..     ...    ...\n",
       "140   73.4   17.0\n",
       "181  218.5    5.4\n",
       "123  123.1   34.6\n",
       "103  187.9   17.2\n",
       "146  240.1    7.3\n",
       "\n",
       "[160 rows x 2 columns]"
      ]
     },
     "execution_count": 24,
     "metadata": {},
     "output_type": "execute_result"
    }
   ],
   "source": [
    "X_train_new"
   ]
  },
  {
   "cell_type": "code",
   "execution_count": 25,
   "id": "1a48c3d9",
   "metadata": {},
   "outputs": [
    {
     "name": "stderr",
     "output_type": "stream",
     "text": [
      "/home/erkara/anaconda3/lib/python3.9/site-packages/statsmodels/tsa/tsatools.py:142: FutureWarning: In a future version of pandas all arguments of concat except for the argument 'objs' will be keyword-only\n",
      "  x = pd.concat(x[::order], 1)\n"
     ]
    }
   ],
   "source": [
    "model_new = sm.OLS(y_train, sm.add_constant(X_train_new)).fit()"
   ]
  },
  {
   "cell_type": "code",
   "execution_count": 26,
   "id": "e416052c",
   "metadata": {
    "scrolled": false
   },
   "outputs": [
    {
     "data": {
      "text/plain": [
       "{'R-sq': 0.91092, 'Adj. R-sq': 0.90978, 'RMSE': 2.00486, 'MAPE': 22.12328}"
      ]
     },
     "execution_count": 26,
     "metadata": {},
     "output_type": "execute_result"
    }
   ],
   "source": [
    "EvalauteModel(model_new, X_test_new,y_test)"
   ]
  },
  {
   "cell_type": "markdown",
   "id": "199737ef",
   "metadata": {},
   "source": [
    "We could not get a significat improvement. Let's look at the outliears in the data. If exist,we can get some progress by removing and retraining the model>"
   ]
  },
  {
   "cell_type": "code",
   "execution_count": 27,
   "id": "88920da5",
   "metadata": {},
   "outputs": [
    {
     "data": {
      "image/png": "[encoded data removed]",
      "text/plain": [
       "<Figure size 432x288 with 1 Axes>"
      ]
     },
     "metadata": {
      "needs_background": "light"
     },
     "output_type": "display_data"
    }
   ],
   "source": [
    "# # visulize the outliers in \"charges\". Note that same g\n",
    "outlier_plot = sn.boxplot(x=df['Sales'])\n",
    "outlier_plot.set_title('Outlier in Sales')\n",
    "outlier_plot\n",
    "plt.show()"
   ]
  },
  {
   "cell_type": "markdown",
   "id": "31176fd1",
   "metadata": {},
   "source": [
    "Boxplot uses a interquartile range (IQR) method to display outliers. We substract the 75th and 25th percentiles to compute IQR, so IQR = Q3 - Q1. Then any value outside of the interval (Q1 - 1.5 * IQR, Q3 + 1.5 * IQR) is taken as an outlier. These lower and upper values are known as lower and upper whiskers as well. We can  create a simple function to iteratively remove the outliers from the data and return a data frame without outliers. \n",
    "\n",
    "From the figure above, it seems there is no outliears. For now, let's stop and complete the notebook with a final analysis."
   ]
  },
  {
   "cell_type": "code",
   "execution_count": 28,
   "id": "5021700c",
   "metadata": {},
   "outputs": [
    {
     "name": "stdout",
     "output_type": "stream",
     "text": [
      "Outlier percantage = % 0.0\n"
     ]
    }
   ],
   "source": [
    "def ReturnDataWithoutOutlier(DataFrame, target):\n",
    "    DataWoOutlier = DataFrame.copy()\n",
    "    while True:\n",
    "        Q1 = DataWoOutlier[target].quantile(0.25)\n",
    "        Q3 = DataWoOutlier[target].quantile(0.75)\n",
    "        IQR = Q3 - Q1\n",
    "        LWhisker = Q1 - 1.5 * IQR\n",
    "        UWhisker = Q3 + 1.5 * IQR\n",
    "        outlier_bool = ((DataWoOutlier[target] < LWhisker)|(DataWoOutlier[target] > UWhisker))\n",
    "        outlier_counter = sum(outlier_bool)       \n",
    "        if outlier_counter == 0:\n",
    "            outlier_perc = (DataFrame.shape[0] - DataWoOutlier.shape[0])/DataFrame.shape[0]\n",
    "            print(\"Outlier percantage = %\",outlier_perc )\n",
    "            break\n",
    "        DataWoOutlier = DataWoOutlier[~outlier_bool]\n",
    "    return DataWoOutlier\n",
    "\n",
    "DataWoOutlier = ReturnDataWithoutOutlier(df, 'Sales')"
   ]
  },
  {
   "cell_type": "markdown",
   "id": "c2e197f3",
   "metadata": {},
   "source": [
    "#### Residual Analysis"
   ]
  },
  {
   "cell_type": "markdown",
   "id": "c38ff6ad",
   "metadata": {},
   "source": [
    "In a linear model, we define the residuals as the difference between the predicted and the real values. Namely if $\\hat{Y}$ and $Y$ are the predicted and real values, respectively then $$r_i=\\hat{Y}_i-Y_i$$ In a linear model, it is crucial that the residuals should not form a visible pattern. Such a beheaviour may indicate that the linear regression is not a good predictive tool for this dataset. Let's plot the residuals aganist the fitted values for the first model and see if there is any pattern. As seen below, residuals do not follow a pattern."
   ]
  },
  {
   "cell_type": "code",
   "execution_count": 29,
   "id": "68c0e894",
   "metadata": {},
   "outputs": [
    {
     "name": "stderr",
     "output_type": "stream",
     "text": [
      "/home/erkara/anaconda3/lib/python3.9/site-packages/statsmodels/tsa/tsatools.py:142: FutureWarning: In a future version of pandas all arguments of concat except for the argument 'objs' will be keyword-only\n",
      "  x = pd.concat(x[::order], 1)\n"
     ]
    }
   ],
   "source": [
    "y_pred = model1.predict(sm.add_constant(X_train))\n",
    "res = y_pred-y_train "
   ]
  },
  {
   "cell_type": "code",
   "execution_count": 30,
   "id": "d18a030a",
   "metadata": {},
   "outputs": [
    {
     "data": {
      "image/png": "[encoded data removed]",
      "text/plain": [
       "<Figure size 432x288 with 1 Axes>"
      ]
     },
     "metadata": {
      "needs_background": "light"
     },
     "output_type": "display_data"
    }
   ],
   "source": [
    "plt.scatter(y_pred,res)\n",
    "plt.xlabel('Predicted_Values')\n",
    "plt.ylabel('Residuals')\n",
    "plt.show()"
   ]
  },
  {
   "cell_type": "markdown",
   "id": "695f5c9d",
   "metadata": {},
   "source": [
    "### Training with with Skilearn"
   ]
  },
  {
   "cell_type": "code",
   "execution_count": 31,
   "id": "ccc006a7",
   "metadata": {},
   "outputs": [],
   "source": [
    "import math\n",
    "from sklearn import model_selection as ms\n",
    "from sklearn.linear_model import LinearRegression"
   ]
  },
  {
   "cell_type": "code",
   "execution_count": 32,
   "id": "4a80b75c",
   "metadata": {},
   "outputs": [],
   "source": [
    "X = df.drop(['Sales'],axis = 1) # predictors\n",
    "y = df.Sales.values             # target values as np.array, important!\n",
    "X_train, X_test, y_train, y_test = train_test_split(X, y, test_size = 0.2)"
   ]
  },
  {
   "cell_type": "code",
   "execution_count": 33,
   "id": "8196b59f",
   "metadata": {},
   "outputs": [
    {
     "data": {
      "text/plain": [
       "LinearRegression()"
      ]
     },
     "execution_count": 33,
     "metadata": {},
     "output_type": "execute_result"
    }
   ],
   "source": [
    "model3 = LinearRegression()\n",
    "model3.fit(X_train,y_train)"
   ]
  },
  {
   "cell_type": "code",
   "execution_count": 34,
   "id": "baa19e59",
   "metadata": {},
   "outputs": [
    {
     "name": "stdout",
     "output_type": "stream",
     "text": [
      "w_0 =  4.5906366410042025\n",
      "w_1,w_2,w_3 =  [ 0.0552372   0.10266613 -0.00095152]\n"
     ]
    }
   ],
   "source": [
    "print('w_0 = ', model3.intercept_)\n",
    "print('w_1,w_2,w_3 = ', model3.coef_)"
   ]
  },
  {
   "cell_type": "code",
   "execution_count": 35,
   "id": "8ab85e5d",
   "metadata": {},
   "outputs": [],
   "source": [
    "def GetScores(model, X, y):\n",
    "    y_pred = model.predict(X)\n",
    "    R_square = metrics.r2_score(y_pred,y)\n",
    "    R_sqaure_adj = 1 - (1-R_square) * (len(y)-1)/(len(y)-X.shape[1]-1)\n",
    "    MSE = metrics.mean_squared_error(y_pred,y)\n",
    "    MAPE = metrics.mean_absolute_percentage_error(y_pred,y)\n",
    "    decimal = 5\n",
    "    metric =  {\n",
    "        \"R-sq\": round(R_square, decimal),\n",
    "        \"Adj. R-sq\": round(R_sqaure_adj, decimal),\n",
    "        \"RMSE\": round(math.sqrt(MSE), decimal),\n",
    "        \"MAPE\": round(MAPE, decimal)\n",
    "    }\n",
    "    return metric"
   ]
  },
  {
   "cell_type": "code",
   "execution_count": 36,
   "id": "a4a90d81",
   "metadata": {},
   "outputs": [
    {
     "data": {
      "text/plain": [
       "{'R-sq': 0.88885, 'Adj. R-sq': 0.88672, 'RMSE': 1.69999, 'MAPE': 0.09552}"
      ]
     },
     "execution_count": 36,
     "metadata": {},
     "output_type": "execute_result"
    }
   ],
   "source": [
    "GetScores(model3,X_train,y_train)"
   ]
  },
  {
   "cell_type": "code",
   "execution_count": 37,
   "id": "2b23bf39",
   "metadata": {},
   "outputs": [
    {
     "name": "stdout",
     "output_type": "stream",
     "text": [
      " r2_score_train =  0.8999724499057083\n",
      " r2_score_test =   0.9116196437759647\n"
     ]
    }
   ],
   "source": [
    "y_train_pred = model3.predict(X_train)\n",
    "r2_score_train = metrics.r2_score(y_train,y_train_pred)\n",
    "y_test_pred = model3.predict(X_test)\n",
    "r2_score_test = metrics.r2_score(y_test,y_test_pred)\n",
    "print(' r2_score_train = ', r2_score_train)\n",
    "print(' r2_score_test =  ', r2_score_test)"
   ]
  },
  {
   "cell_type": "markdown",
   "id": "17407d2a",
   "metadata": {},
   "source": [
    "#### Cross Validation\n",
    "Here is a great tutorials explaning cross validation procedures.[here](https://www.youtube.com/watch?v=gJo0uNL-5Qw). \n",
    "Idea is very simple yet effective strategy to better asses the model performance. A model is trained using (k-1) of the folds as training data; the resulting model is validated on the remaining part of the data. The performance measure reported by k-fold cross-validation is then the average of the values computed in the loop. "
   ]
  },
  {
   "cell_type": "markdown",
   "id": "f8f4e132",
   "metadata": {},
   "source": [
    "Let's first see a dummy example. Assume that our data is an array of numbers. Then we can split this data into 3 folds"
   ]
  },
  {
   "cell_type": "code",
   "execution_count": 38,
   "id": "03820d28",
   "metadata": {},
   "outputs": [
    {
     "name": "stdout",
     "output_type": "stream",
     "text": [
      "SampleData:  [2 4 3 1 0 1 0 3 1 0]\n",
      "[2 3 4 5 6 7 8 9] [0 1]\n",
      "[0 1 4 5 6 7 8 9] [2 3]\n",
      "[0 1 2 3 6 7 8 9] [4 5]\n",
      "[0 1 2 3 4 5 8 9] [6 7]\n",
      "[0 1 2 3 4 5 6 7] [8 9]\n"
     ]
    }
   ],
   "source": [
    "x_dummy = np.random.randint(5,size=10)\n",
    "print('SampleData: ', x_dummy)\n",
    "kfold = ms.KFold(n_splits = 5)\n",
    "for train_idx, test_idx in kfold.split(x_dummy):\n",
    "    print(train_idx,test_idx)"
   ]
  },
  {
   "cell_type": "code",
   "execution_count": 39,
   "id": "8c3e3eab",
   "metadata": {},
   "outputs": [
    {
     "name": "stdout",
     "output_type": "stream",
     "text": [
      "k-fold_scores =  [0.89391193 0.84835255 0.91336339 0.93740449 0.90972209 0.92995146\n",
      " 0.85494586 0.83727721 0.86267846 0.927566  ]\n",
      "k-fold_mean_score = :0.89152\n"
     ]
    }
   ],
   "source": [
    "kfold = ms.KFold(n_splits=10)\n",
    "regr = LinearRegression()\n",
    "scores = ms.cross_val_score(regr, X, y,scoring = \"r2\", cv = kfold)\n",
    "print('k-fold_scores = ',scores )\n",
    "print(f'k-fold_mean_score = :{scores.mean():0.5f}')"
   ]
  },
  {
   "cell_type": "markdown",
   "id": "f434aa84",
   "metadata": {},
   "source": [
    "One important point to note is that skilearn and statmodels use \"normal equations\" to determine the paramters weights and the bias in multiple linear regression models. This is pretty standard topic in linear algebra(least square problems). If we rewrite the multiple linear regression model as $$y=\\vec{w}\\cdot\\vec{x}$$ where $\\vec{w} = [w_0,w_1,...,w_n]$ and $x = [X_1,X_2,...,X_n]$ then the minimization problem above can re recast as a linear equation problem as $$A_{m\\times n}\\cdot\\vec{w}_{n\\times 1} = Y_{m\\times1}$$ where \n",
    "$A=\n",
    "\\begin{pmatrix}\n",
    "x_{1,1} & x_{1,2} & \\cdots & x_{1,n} \\\\\n",
    "x_{2,1} & x_{2,2} & \\cdots & x_{2,n} \\\\\n",
    "\\vdots  & \\vdots  & \\ddots & \\vdots  \\\\\n",
    "x_{m,1} & x_{m,2} & \\cdots & x_{m,n} \n",
    "\\end{pmatrix}\n",
    "$\n",
    "is the feature matrix and $Y = [y_1,y_2,...,y_m]$ is the target values. Note that generally $m \\ge n$ since we have more observations than features. From linear algebra perspective, such problems do not have a solutions, recall the skinny matrices. However, we can introduce it as a minimization problem, namely \n",
    "\n",
    "Given the feature matrix $A_{m\\times n}\\cdot\\vec{w}_{n\\times 1}$ and target vector $Y_{m\\times1}$ find $\\vec{w}=[w_0,w_1,...,w_n]$ such that $\\Vert Y- A\\cdot \\vec{w} \\Vert_{2}$ is minimized. This problem now has a unique solution which is $$\\vec{w} = (A^{T}A)^{-1}A^{T}Y$$ \n",
    "\n",
    "This is the method implemented in skilearn and statmodels. However, it is not feasible if the data is large. In this case, we turn our attention to Gradient Decent again. Let's see how we can implement it in skilearn"
   ]
  },
  {
   "cell_type": "markdown",
   "id": "ab6d233b",
   "metadata": {},
   "source": [
    "### Linear Regression with Gradient Decent"
   ]
  },
  {
   "cell_type": "code",
   "execution_count": 40,
   "id": "cf06e556",
   "metadata": {},
   "outputs": [],
   "source": [
    "from sklearn.linear_model import SGDRegressor\n",
    "from sklearn import preprocessing"
   ]
  },
  {
   "cell_type": "code",
   "execution_count": 41,
   "id": "617b040b",
   "metadata": {},
   "outputs": [],
   "source": [
    "X = df.drop(['Sales'],axis = 1) # predictors\n",
    "y = df.Sales.values             # target values as np.array, important!\n",
    "X_train, X_test, y_train, y_test = train_test_split(X, y, test_size = 0.2)"
   ]
  },
  {
   "cell_type": "code",
   "execution_count": null,
   "id": "c3ace9c5",
   "metadata": {},
   "outputs": [],
   "source": []
  },
  {
   "cell_type": "code",
   "execution_count": 42,
   "id": "b6c885fd",
   "metadata": {},
   "outputs": [
    {
     "ename": "ValueError",
     "evalue": "The loss squared_error is not supported. ",
     "output_type": "error",
     "traceback": [
      "\u001b[0;31m---------------------------------------------------------------------------\u001b[0m",
      "\u001b[0;31mValueError\u001b[0m                                Traceback (most recent call last)",
      "\u001b[0;32m/tmp/ipykernel_23343/1171767629.py\u001b[0m in \u001b[0;36m<module>\u001b[0;34m\u001b[0m\n\u001b[0;32m----> 1\u001b[0;31m \u001b[0msgd_reg\u001b[0m \u001b[0;34m=\u001b[0m \u001b[0mSGDRegressor\u001b[0m\u001b[0;34m(\u001b[0m\u001b[0mloss\u001b[0m \u001b[0;34m=\u001b[0m \u001b[0;34m'squared_error'\u001b[0m\u001b[0;34m,\u001b[0m \u001b[0mmax_iter\u001b[0m\u001b[0;34m=\u001b[0m\u001b[0;36m1000\u001b[0m\u001b[0;34m,\u001b[0m \u001b[0mlearning_rate\u001b[0m\u001b[0;34m=\u001b[0m\u001b[0;34m'adaptive'\u001b[0m\u001b[0;34m,\u001b[0m \u001b[0meta0\u001b[0m\u001b[0;34m=\u001b[0m\u001b[0;36m0.001\u001b[0m\u001b[0;34m)\u001b[0m\u001b[0;34m\u001b[0m\u001b[0;34m\u001b[0m\u001b[0m\n\u001b[0m\u001b[1;32m      2\u001b[0m \u001b[0msgd_reg\u001b[0m\u001b[0;34m.\u001b[0m\u001b[0mfit\u001b[0m\u001b[0;34m(\u001b[0m\u001b[0mX_train\u001b[0m\u001b[0;34m,\u001b[0m\u001b[0my_train\u001b[0m\u001b[0;34m)\u001b[0m\u001b[0;34m\u001b[0m\u001b[0;34m\u001b[0m\u001b[0m\n",
      "\u001b[0;32m~/anaconda3/lib/python3.9/site-packages/sklearn/utils/validation.py\u001b[0m in \u001b[0;36minner_f\u001b[0;34m(*args, **kwargs)\u001b[0m\n\u001b[1;32m     61\u001b[0m             \u001b[0mextra_args\u001b[0m \u001b[0;34m=\u001b[0m \u001b[0mlen\u001b[0m\u001b[0;34m(\u001b[0m\u001b[0margs\u001b[0m\u001b[0;34m)\u001b[0m \u001b[0;34m-\u001b[0m \u001b[0mlen\u001b[0m\u001b[0;34m(\u001b[0m\u001b[0mall_args\u001b[0m\u001b[0;34m)\u001b[0m\u001b[0;34m\u001b[0m\u001b[0;34m\u001b[0m\u001b[0m\n\u001b[1;32m     62\u001b[0m             \u001b[0;32mif\u001b[0m \u001b[0mextra_args\u001b[0m \u001b[0;34m<=\u001b[0m \u001b[0;36m0\u001b[0m\u001b[0;34m:\u001b[0m\u001b[0;34m\u001b[0m\u001b[0;34m\u001b[0m\u001b[0m\n\u001b[0;32m---> 63\u001b[0;31m                 \u001b[0;32mreturn\u001b[0m \u001b[0mf\u001b[0m\u001b[0;34m(\u001b[0m\u001b[0;34m*\u001b[0m\u001b[0margs\u001b[0m\u001b[0;34m,\u001b[0m \u001b[0;34m**\u001b[0m\u001b[0mkwargs\u001b[0m\u001b[0;34m)\u001b[0m\u001b[0;34m\u001b[0m\u001b[0;34m\u001b[0m\u001b[0m\n\u001b[0m\u001b[1;32m     64\u001b[0m \u001b[0;34m\u001b[0m\u001b[0m\n\u001b[1;32m     65\u001b[0m             \u001b[0;31m# extra_args > 0\u001b[0m\u001b[0;34m\u001b[0m\u001b[0;34m\u001b[0m\u001b[0m\n",
      "\u001b[0;32m~/anaconda3/lib/python3.9/site-packages/sklearn/linear_model/_stochastic_gradient.py\u001b[0m in \u001b[0;36m__init__\u001b[0;34m(self, loss, penalty, alpha, l1_ratio, fit_intercept, max_iter, tol, shuffle, verbose, epsilon, random_state, learning_rate, eta0, power_t, early_stopping, validation_fraction, n_iter_no_change, warm_start, average)\u001b[0m\n\u001b[1;32m   1590\u001b[0m                  \u001b[0mpower_t\u001b[0m\u001b[0;34m=\u001b[0m\u001b[0;36m0.25\u001b[0m\u001b[0;34m,\u001b[0m \u001b[0mearly_stopping\u001b[0m\u001b[0;34m=\u001b[0m\u001b[0;32mFalse\u001b[0m\u001b[0;34m,\u001b[0m \u001b[0mvalidation_fraction\u001b[0m\u001b[0;34m=\u001b[0m\u001b[0;36m0.1\u001b[0m\u001b[0;34m,\u001b[0m\u001b[0;34m\u001b[0m\u001b[0;34m\u001b[0m\u001b[0m\n\u001b[1;32m   1591\u001b[0m                  n_iter_no_change=5, warm_start=False, average=False):\n\u001b[0;32m-> 1592\u001b[0;31m         super().__init__(\n\u001b[0m\u001b[1;32m   1593\u001b[0m             \u001b[0mloss\u001b[0m\u001b[0;34m=\u001b[0m\u001b[0mloss\u001b[0m\u001b[0;34m,\u001b[0m \u001b[0mpenalty\u001b[0m\u001b[0;34m=\u001b[0m\u001b[0mpenalty\u001b[0m\u001b[0;34m,\u001b[0m \u001b[0malpha\u001b[0m\u001b[0;34m=\u001b[0m\u001b[0malpha\u001b[0m\u001b[0;34m,\u001b[0m \u001b[0ml1_ratio\u001b[0m\u001b[0;34m=\u001b[0m\u001b[0ml1_ratio\u001b[0m\u001b[0;34m,\u001b[0m\u001b[0;34m\u001b[0m\u001b[0;34m\u001b[0m\u001b[0m\n\u001b[1;32m   1594\u001b[0m             \u001b[0mfit_intercept\u001b[0m\u001b[0;34m=\u001b[0m\u001b[0mfit_intercept\u001b[0m\u001b[0;34m,\u001b[0m \u001b[0mmax_iter\u001b[0m\u001b[0;34m=\u001b[0m\u001b[0mmax_iter\u001b[0m\u001b[0;34m,\u001b[0m \u001b[0mtol\u001b[0m\u001b[0;34m=\u001b[0m\u001b[0mtol\u001b[0m\u001b[0;34m,\u001b[0m\u001b[0;34m\u001b[0m\u001b[0;34m\u001b[0m\u001b[0m\n",
      "\u001b[0;32m~/anaconda3/lib/python3.9/site-packages/sklearn/utils/validation.py\u001b[0m in \u001b[0;36minner_f\u001b[0;34m(*args, **kwargs)\u001b[0m\n\u001b[1;32m     61\u001b[0m             \u001b[0mextra_args\u001b[0m \u001b[0;34m=\u001b[0m \u001b[0mlen\u001b[0m\u001b[0;34m(\u001b[0m\u001b[0margs\u001b[0m\u001b[0;34m)\u001b[0m \u001b[0;34m-\u001b[0m \u001b[0mlen\u001b[0m\u001b[0;34m(\u001b[0m\u001b[0mall_args\u001b[0m\u001b[0;34m)\u001b[0m\u001b[0;34m\u001b[0m\u001b[0;34m\u001b[0m\u001b[0m\n\u001b[1;32m     62\u001b[0m             \u001b[0;32mif\u001b[0m \u001b[0mextra_args\u001b[0m \u001b[0;34m<=\u001b[0m \u001b[0;36m0\u001b[0m\u001b[0;34m:\u001b[0m\u001b[0;34m\u001b[0m\u001b[0;34m\u001b[0m\u001b[0m\n\u001b[0;32m---> 63\u001b[0;31m                 \u001b[0;32mreturn\u001b[0m \u001b[0mf\u001b[0m\u001b[0;34m(\u001b[0m\u001b[0;34m*\u001b[0m\u001b[0margs\u001b[0m\u001b[0;34m,\u001b[0m \u001b[0;34m**\u001b[0m\u001b[0mkwargs\u001b[0m\u001b[0;34m)\u001b[0m\u001b[0;34m\u001b[0m\u001b[0;34m\u001b[0m\u001b[0m\n\u001b[0m\u001b[1;32m     64\u001b[0m \u001b[0;34m\u001b[0m\u001b[0m\n\u001b[1;32m     65\u001b[0m             \u001b[0;31m# extra_args > 0\u001b[0m\u001b[0;34m\u001b[0m\u001b[0;34m\u001b[0m\u001b[0m\n",
      "\u001b[0;32m~/anaconda3/lib/python3.9/site-packages/sklearn/linear_model/_stochastic_gradient.py\u001b[0m in \u001b[0;36m__init__\u001b[0;34m(self, loss, penalty, alpha, l1_ratio, fit_intercept, max_iter, tol, shuffle, verbose, epsilon, random_state, learning_rate, eta0, power_t, early_stopping, validation_fraction, n_iter_no_change, warm_start, average)\u001b[0m\n\u001b[1;32m   1132\u001b[0m                  \u001b[0mpower_t\u001b[0m\u001b[0;34m=\u001b[0m\u001b[0;36m0.25\u001b[0m\u001b[0;34m,\u001b[0m \u001b[0mearly_stopping\u001b[0m\u001b[0;34m=\u001b[0m\u001b[0;32mFalse\u001b[0m\u001b[0;34m,\u001b[0m \u001b[0mvalidation_fraction\u001b[0m\u001b[0;34m=\u001b[0m\u001b[0;36m0.1\u001b[0m\u001b[0;34m,\u001b[0m\u001b[0;34m\u001b[0m\u001b[0;34m\u001b[0m\u001b[0m\n\u001b[1;32m   1133\u001b[0m                  n_iter_no_change=5, warm_start=False, average=False):\n\u001b[0;32m-> 1134\u001b[0;31m         super().__init__(\n\u001b[0m\u001b[1;32m   1135\u001b[0m             \u001b[0mloss\u001b[0m\u001b[0;34m=\u001b[0m\u001b[0mloss\u001b[0m\u001b[0;34m,\u001b[0m \u001b[0mpenalty\u001b[0m\u001b[0;34m=\u001b[0m\u001b[0mpenalty\u001b[0m\u001b[0;34m,\u001b[0m \u001b[0malpha\u001b[0m\u001b[0;34m=\u001b[0m\u001b[0malpha\u001b[0m\u001b[0;34m,\u001b[0m \u001b[0ml1_ratio\u001b[0m\u001b[0;34m=\u001b[0m\u001b[0ml1_ratio\u001b[0m\u001b[0;34m,\u001b[0m\u001b[0;34m\u001b[0m\u001b[0;34m\u001b[0m\u001b[0m\n\u001b[1;32m   1136\u001b[0m             \u001b[0mfit_intercept\u001b[0m\u001b[0;34m=\u001b[0m\u001b[0mfit_intercept\u001b[0m\u001b[0;34m,\u001b[0m \u001b[0mmax_iter\u001b[0m\u001b[0;34m=\u001b[0m\u001b[0mmax_iter\u001b[0m\u001b[0;34m,\u001b[0m \u001b[0mtol\u001b[0m\u001b[0;34m=\u001b[0m\u001b[0mtol\u001b[0m\u001b[0;34m,\u001b[0m\u001b[0;34m\u001b[0m\u001b[0;34m\u001b[0m\u001b[0m\n",
      "\u001b[0;32m~/anaconda3/lib/python3.9/site-packages/sklearn/utils/validation.py\u001b[0m in \u001b[0;36minner_f\u001b[0;34m(*args, **kwargs)\u001b[0m\n\u001b[1;32m     61\u001b[0m             \u001b[0mextra_args\u001b[0m \u001b[0;34m=\u001b[0m \u001b[0mlen\u001b[0m\u001b[0;34m(\u001b[0m\u001b[0margs\u001b[0m\u001b[0;34m)\u001b[0m \u001b[0;34m-\u001b[0m \u001b[0mlen\u001b[0m\u001b[0;34m(\u001b[0m\u001b[0mall_args\u001b[0m\u001b[0;34m)\u001b[0m\u001b[0;34m\u001b[0m\u001b[0;34m\u001b[0m\u001b[0m\n\u001b[1;32m     62\u001b[0m             \u001b[0;32mif\u001b[0m \u001b[0mextra_args\u001b[0m \u001b[0;34m<=\u001b[0m \u001b[0;36m0\u001b[0m\u001b[0;34m:\u001b[0m\u001b[0;34m\u001b[0m\u001b[0;34m\u001b[0m\u001b[0m\n\u001b[0;32m---> 63\u001b[0;31m                 \u001b[0;32mreturn\u001b[0m \u001b[0mf\u001b[0m\u001b[0;34m(\u001b[0m\u001b[0;34m*\u001b[0m\u001b[0margs\u001b[0m\u001b[0;34m,\u001b[0m \u001b[0;34m**\u001b[0m\u001b[0mkwargs\u001b[0m\u001b[0;34m)\u001b[0m\u001b[0;34m\u001b[0m\u001b[0;34m\u001b[0m\u001b[0m\n\u001b[0m\u001b[1;32m     64\u001b[0m \u001b[0;34m\u001b[0m\u001b[0m\n\u001b[1;32m     65\u001b[0m             \u001b[0;31m# extra_args > 0\u001b[0m\u001b[0;34m\u001b[0m\u001b[0;34m\u001b[0m\u001b[0m\n",
      "\u001b[0;32m~/anaconda3/lib/python3.9/site-packages/sklearn/linear_model/_stochastic_gradient.py\u001b[0m in \u001b[0;36m__init__\u001b[0;34m(self, loss, penalty, alpha, C, l1_ratio, fit_intercept, max_iter, tol, shuffle, verbose, epsilon, random_state, learning_rate, eta0, power_t, early_stopping, validation_fraction, n_iter_no_change, warm_start, average)\u001b[0m\n\u001b[1;32m    100\u001b[0m         \u001b[0;31m# current tests expect init to do parameter validation\u001b[0m\u001b[0;34m\u001b[0m\u001b[0;34m\u001b[0m\u001b[0m\n\u001b[1;32m    101\u001b[0m         \u001b[0;31m# but we are not allowed to set attributes\u001b[0m\u001b[0;34m\u001b[0m\u001b[0;34m\u001b[0m\u001b[0m\n\u001b[0;32m--> 102\u001b[0;31m         \u001b[0mself\u001b[0m\u001b[0;34m.\u001b[0m\u001b[0m_validate_params\u001b[0m\u001b[0;34m(\u001b[0m\u001b[0;34m)\u001b[0m\u001b[0;34m\u001b[0m\u001b[0;34m\u001b[0m\u001b[0m\n\u001b[0m\u001b[1;32m    103\u001b[0m \u001b[0;34m\u001b[0m\u001b[0m\n\u001b[1;32m    104\u001b[0m     \u001b[0;32mdef\u001b[0m \u001b[0mset_params\u001b[0m\u001b[0;34m(\u001b[0m\u001b[0mself\u001b[0m\u001b[0;34m,\u001b[0m \u001b[0;34m**\u001b[0m\u001b[0mkwargs\u001b[0m\u001b[0;34m)\u001b[0m\u001b[0;34m:\u001b[0m\u001b[0;34m\u001b[0m\u001b[0;34m\u001b[0m\u001b[0m\n",
      "\u001b[0;32m~/anaconda3/lib/python3.9/site-packages/sklearn/linear_model/_stochastic_gradient.py\u001b[0m in \u001b[0;36m_validate_params\u001b[0;34m(self, for_partial_fit)\u001b[0m\n\u001b[1;32m    154\u001b[0m \u001b[0;34m\u001b[0m\u001b[0m\n\u001b[1;32m    155\u001b[0m         \u001b[0;32mif\u001b[0m \u001b[0mself\u001b[0m\u001b[0;34m.\u001b[0m\u001b[0mloss\u001b[0m \u001b[0;32mnot\u001b[0m \u001b[0;32min\u001b[0m \u001b[0mself\u001b[0m\u001b[0;34m.\u001b[0m\u001b[0mloss_functions\u001b[0m\u001b[0;34m:\u001b[0m\u001b[0;34m\u001b[0m\u001b[0;34m\u001b[0m\u001b[0m\n\u001b[0;32m--> 156\u001b[0;31m             \u001b[0;32mraise\u001b[0m \u001b[0mValueError\u001b[0m\u001b[0;34m(\u001b[0m\u001b[0;34m\"The loss %s is not supported. \"\u001b[0m \u001b[0;34m%\u001b[0m \u001b[0mself\u001b[0m\u001b[0;34m.\u001b[0m\u001b[0mloss\u001b[0m\u001b[0;34m)\u001b[0m\u001b[0;34m\u001b[0m\u001b[0;34m\u001b[0m\u001b[0m\n\u001b[0m\u001b[1;32m    157\u001b[0m \u001b[0;34m\u001b[0m\u001b[0m\n\u001b[1;32m    158\u001b[0m     \u001b[0;32mdef\u001b[0m \u001b[0m_get_loss_function\u001b[0m\u001b[0;34m(\u001b[0m\u001b[0mself\u001b[0m\u001b[0;34m,\u001b[0m \u001b[0mloss\u001b[0m\u001b[0;34m)\u001b[0m\u001b[0;34m:\u001b[0m\u001b[0;34m\u001b[0m\u001b[0;34m\u001b[0m\u001b[0m\n",
      "\u001b[0;31mValueError\u001b[0m: The loss squared_error is not supported. "
     ]
    }
   ],
   "source": [
    "sgd_reg = SGDRegressor(loss = 'squared_error', max_iter=1000, learning_rate='adaptive', eta0=0.001)\n",
    "sgd_reg.fit(X_train,y_train)"
   ]
  },
  {
   "cell_type": "code",
   "execution_count": null,
   "id": "32669c90",
   "metadata": {
    "scrolled": true
   },
   "outputs": [],
   "source": [
    "GetScores(sgd_reg, X_test,y_test)"
   ]
  },
  {
   "cell_type": "code",
   "execution_count": null,
   "id": "9314db7e",
   "metadata": {},
   "outputs": [],
   "source": [
    "print('w_0 = ', sgd_reg.intercept_)\n",
    "print('w_1,w_2,w_3 = ', sgd_reg.coef_)"
   ]
  },
  {
   "cell_type": "markdown",
   "id": "0ae2ef64",
   "metadata": {},
   "source": [
    "As we can clearly see, this Gradient decent diverged and failed to minimize. This is probably because Gradient decent is sentitive to large variations in the data. If we normalize the dataset, we should be able to converge to the minimizer. Skilearn provided an extentive class \"preprocessing\" to perform all sorts of preprocessing operations. As seen below, normalization indeed solves the problem. Our results are not as good as we obtain from normal equations as expected. However, this can be improved with a cross validation."
   ]
  },
  {
   "cell_type": "code",
   "execution_count": null,
   "id": "ac98b78d",
   "metadata": {},
   "outputs": [],
   "source": [
    "transform = preprocessing.MinMaxScaler()\n",
    "data = transform.fit_transform(df)\n",
    "data = pd.DataFrame(data)\n",
    "X, y = data.values[:, :-1], data.values[:, -1]\n",
    "X_train, X_test, y_train, y_test = train_test_split(X, y, test_size = 0.2)"
   ]
  },
  {
   "cell_type": "code",
   "execution_count": null,
   "id": "35c9fa0b",
   "metadata": {},
   "outputs": [],
   "source": [
    "sgd_reg = SGDRegressor(loss = 'squared_error', max_iter=10000, learning_rate='adaptive', eta0=0.1)\n",
    "sgd_reg.fit(X_train,y_train)"
   ]
  },
  {
   "cell_type": "code",
   "execution_count": null,
   "id": "0cf51a09",
   "metadata": {},
   "outputs": [],
   "source": [
    "print('w_0 = ', sgd_reg.intercept_)\n",
    "print('w_1,w_2,w_3 = ', sgd_reg.coef_)"
   ]
  },
  {
   "cell_type": "code",
   "execution_count": null,
   "id": "60f3c8e2",
   "metadata": {},
   "outputs": [],
   "source": [
    "GetScores(sgd_reg, X_test,y_test)"
   ]
  },
  {
   "cell_type": "code",
   "execution_count": null,
   "id": "4b2e0e74",
   "metadata": {},
   "outputs": [],
   "source": [
    "kfold = ms.KFold(n_splits = 10)\n",
    "SGD = SGDRegressor(loss = 'squared_error', max_iter=10000, learning_rate='adaptive', eta0=0.1)\n",
    "scores = ms.cross_val_score(SGD, X, y,scoring = \"r2\", cv = kfold)\n",
    "print('k-fold_scores = \\n',scores )\n",
    "print(f'\\nk-fold_mean_score = :{scores.mean():0.5f}')"
   ]
  },
  {
   "cell_type": "code",
   "execution_count": null,
   "id": "462b7dcc",
   "metadata": {},
   "outputs": [],
   "source": []
  },
  {
   "cell_type": "code",
   "execution_count": null,
   "id": "7f6231cc",
   "metadata": {},
   "outputs": [],
   "source": []
  }
 ],
 "metadata": {
  "kernelspec": {
   "display_name": "Python 3 (ipykernel)",
   "language": "python",
   "name": "python3"
  },
  "language_info": {
   "codemirror_mode": {
    "name": "ipython",
    "version": 3
   },
   "file_extension": ".py",
   "mimetype": "text/x-python",
   "name": "python",
   "nbconvert_exporter": "python",
   "pygments_lexer": "ipython3",
   "version": "3.9.7"
  },
  "latex_envs": {
   "LaTeX_envs_menu_present": true,
   "autoclose": true,
   "autocomplete": true,
   "bibliofile": "biblio.bib",
   "cite_by": "apalike",
   "current_citInitial": 1,
   "eqLabelWithNumbers": true,
   "eqNumInitial": 1,
   "hotkeys": {
    "equation": "Ctrl-E",
    "itemize": "Ctrl-I"
   },
   "labels_anchors": false,
   "latex_user_defs": false,
   "report_style_numbering": false,
   "user_envs_cfg": false
  },
  "toc": {
   "base_numbering": 1,
   "nav_menu": {},
   "number_sections": true,
   "sideBar": true,
   "skip_h1_title": false,
   "title_cell": "Table of Contents",
   "title_sidebar": "Contents",
   "toc_cell": false,
   "toc_position": {},
   "toc_section_display": true,
   "toc_window_display": false
  }
 },
 "nbformat": 4,
 "nbformat_minor": 5
}

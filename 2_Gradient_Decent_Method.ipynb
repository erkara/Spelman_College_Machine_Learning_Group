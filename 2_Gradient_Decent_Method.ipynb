{
 "cells": [
  {
   "cell_type": "markdown",
   "id": "f1bbc896",
   "metadata": {},
   "source": [
    "# 2- Gradient Decent Method\n",
    "### (a) Finding the minimizer with gradient decent\n",
    "### (b) Some useful Numpy operations\n",
    "### (c) Linear Regression with gradient decent\n",
    "### (d) Linear Regression on Max-Min Temperature Data"
   ]
  },
  {
   "cell_type": "code",
   "execution_count": 45,
   "id": "25f976bf",
   "metadata": {
    "hide_input": false
   },
   "outputs": [],
   "source": [
    "import numpy as np\n",
    "import matplotlib.pyplot as plt\n",
    "import pandas as pd"
   ]
  },
  {
   "cell_type": "markdown",
   "id": "f59bea48",
   "metadata": {},
   "source": [
    "### (a) Finding the minimizer with gradient decent\n",
    "\n",
    "Gradient decent is the fundamental idea behind most of the machine learning models. End goal of many of the deep learning models is to minimize a \"cost function\" with respect to the parameters in the system. Gradient decent is usually the only tool to achieve this goal. Without proper understanding of it, it is not possible to fully comprehend how deep learning models work. There are tons of resources online. I would like to refer to Youtube videos whenever possible. Check the following links [1](https://www.youtube.com/watch?v=qg4PchTECck),[2](https://www.youtube.com/watch?v=Gbz8RljxIHo).\n",
    "\n",
    "You can find the following statement in any standard calculus-3 textbook; \\textbf{ the minimum rate of change of a function occurs in the direction of the negative gradient.}. This roughly(!) just means if you keep walking in opposite direction of the derivative of a function, you can reach the local minimum of that function. \n",
    "Mathematically speaking, let $f(\\vec{x})$ be a function and $r$ be the step size we preassign. Then the following sequence\n",
    "\n",
    "$$\\vec{x}_{n+1}=\\vec{x}_{n} - r\\nabla f(\\vec{x}_{n})$$ \n",
    "\n",
    "converges to a local minimum value of $f(\\vec{x})$. Well, if you are lucky enough that $f(\\vec{x})$ is a convex function, that point is actually global minimum, which is the best outcome."
   ]
  },
  {
   "cell_type": "markdown",
   "id": "44d678dd",
   "metadata": {},
   "source": [
    "**Ex1**: Find the minimizer of $f(x)=(x-2)^2+5$ using gradient decent method.\n",
    "Try r = 0.01, x0 = 4, N = 10. Notice that this function has a global minimum at $\\bar{x}=2$. If the algorithm works, it must converge to $\\bar{x}=2$"
   ]
  },
  {
   "cell_type": "code",
   "execution_count": 19,
   "id": "f3e1caa0",
   "metadata": {
    "code_folding": [],
    "run_control": {
     "marked": false
    }
   },
   "outputs": [],
   "source": [
    "# Original function\n",
    "def f(x):\n",
    "    return (x-2)**2 + 5\n",
    "\n",
    "# Lets define the derivative here as a function\n",
    "def funder(x):    \n",
    "    return 2*(x-2)\n"
   ]
  },
  {
   "cell_type": "code",
   "execution_count": 26,
   "id": "0994ef59",
   "metadata": {
    "run_control": {
     "marked": false
    },
    "scrolled": true
   },
   "outputs": [
    {
     "name": "stdout",
     "output_type": "stream",
     "text": [
      "n: 1 x_n: 3.960000 f(x_n): 8.841600\n",
      "n: 2 x_n: 3.920800 f(x_n): 8.689473\n",
      "n: 3 x_n: 3.882384 f(x_n): 8.543370\n",
      "n: 4 x_n: 3.844736 f(x_n): 8.403052\n",
      "n: 5 x_n: 3.807842 f(x_n): 8.268291\n",
      "n: 6 x_n: 3.771685 f(x_n): 8.138867\n",
      "n: 7 x_n: 3.736251 f(x_n): 8.014568\n",
      "n: 8 x_n: 3.701526 f(x_n): 7.895191\n",
      "n: 9 x_n: 3.667496 f(x_n): 7.780541\n"
     ]
    }
   ],
   "source": [
    "r = 0.01\n",
    "x_old = 4\n",
    "N = 10\n",
    "for n in range(1,N):\n",
    "    x_new = x_old - r * funder(x_old)  # gradient decent step\n",
    "    x_old = x_new                      # update the current guess\n",
    "    print(f'n: {n} x_n: {x_new:0.6f} f(x_n): {f(x_new):0.6f}')"
   ]
  },
  {
   "cell_type": "code",
   "execution_count": null,
   "id": "ac68b1f9",
   "metadata": {},
   "outputs": [],
   "source": []
  },
  {
   "cell_type": "markdown",
   "id": "68e9fa59",
   "metadata": {},
   "source": [
    "Here are some cool machine learning jargons;\n",
    "- r = learning rate\n",
    "- N = epochs\n",
    "- x0 = initial guess\n",
    "- f(x) = target function\n",
    "- f'(x) = gradient"
   ]
  },
  {
   "cell_type": "markdown",
   "id": "af3435bf",
   "metadata": {},
   "source": [
    "Now it is time to play with parameters. First of all, 3.66 is pretty far away from 2. There are a couple of ways to do; (1) increase the learning rate (2) Increase the number of epochs (3) Find a better initial guess. In real applications, forget about (3) which is practically not possible. (2) is generally what we try. (1) can be done but be careful not to diverge. By changing the parameter and watching the results will give you a general idea about how they effect the algorithm. \n",
    "\n",
    "Ultimate goal is to obtain a sufficently good approximation with fewer steps. To achieve this, we can increase the learning rate to approach the minimum faster, keeping in mind that we can diverce down on the way. Alternatively, we can attempt to start with a closer initial guess to the minimum point so that we can converge quickly. However, this is not possible in real problems as we dont know where the minimum point is. Quantities such as learning rate, number of epochs and so many other we will see later are called **\"hyperparameters\"** or **\"learnable\"** parameters or **\"tunable\"** parameters. To achieve the best approximation, we tune these parameters in the model."
   ]
  },
  {
   "cell_type": "code",
   "execution_count": null,
   "id": "3c91e4f7",
   "metadata": {},
   "outputs": [],
   "source": []
  },
  {
   "cell_type": "markdown",
   "id": "860ef104",
   "metadata": {},
   "source": [
    "Ex: Find the minimizer for $f(x,y)=(x-2)^2+(y-3)^2+10$. Here is the 3d skecth of this function. \n",
    "<img src =\"figures/3dmin1.png\" width=400 height= 400 /> Notice that this function assumes its minimum at $(x,y)=(2,3)$ with min value $z=10$, see the lowest point marked on the surface. Now let's use gradient decent to approximate this point."
   ]
  },
  {
   "cell_type": "code",
   "execution_count": 36,
   "id": "6be088c1",
   "metadata": {
    "run_control": {
     "marked": false
    }
   },
   "outputs": [],
   "source": [
    "# Notice how we use (x[0],x[1]) instead of (x,y)\n",
    "def f(x):\n",
    "    # x: numpy array\n",
    "    return (x[0]-2)**2+(x[1]-3)**2+10\n",
    "\n",
    "def gradf(x):\n",
    "    # return the gradient of f as a numpy array\n",
    "    return np.array([2*(x[0]-2),2*(x[1]-3)])"
   ]
  },
  {
   "cell_type": "code",
   "execution_count": 35,
   "id": "530b8e3d",
   "metadata": {
    "run_control": {
     "marked": false
    }
   },
   "outputs": [
    {
     "name": "stdout",
     "output_type": "stream",
     "text": [
      "n: 9 [x_n,y_n]: [0.4 0.6] f(x_n,y_n): 18.320000\n",
      "n: 9 [x_n,y_n]: [1.82820131 2.74230196] f(x_n,y_n): 10.095923\n",
      "n: 9 [x_n,y_n]: [1.98155326 2.97232988] f(x_n,y_n): 10.001106\n",
      "n: 9 [x_n,y_n]: [1.9980193  2.99702894] f(x_n,y_n): 10.000013\n",
      "n: 9 [x_n,y_n]: [1.99978732 2.99968099] f(x_n,y_n): 10.000000\n"
     ]
    }
   ],
   "source": [
    "#Now lets set up the gradien decent\n",
    "x_old = np.array([0,0]) #initial guess\n",
    "r = 0.1                 #learning rate\n",
    "N = 50                  #number of epochs\n",
    "for i in range(N):\n",
    "    x_new = x_old - r*gradf(x_old)\n",
    "    x_old = x_new\n",
    "    if i%10==0:\n",
    "        print(f'n: {n} [x_n,y_n]: {x_new} f(x_n,y_n): {f(x_new):0.6f}')"
   ]
  },
  {
   "cell_type": "markdown",
   "id": "2886ffff",
   "metadata": {},
   "source": [
    "### (b) Some useful Numpy operations"
   ]
  },
  {
   "cell_type": "code",
   "execution_count": 2,
   "id": "34eec52c",
   "metadata": {
    "run_control": {
     "marked": false
    }
   },
   "outputs": [],
   "source": [
    "x = np.array([1,2,4])\n",
    "y = np.array([2,3,1])"
   ]
  },
  {
   "cell_type": "code",
   "execution_count": 3,
   "id": "63db550e",
   "metadata": {
    "run_control": {
     "marked": false
    }
   },
   "outputs": [
    {
     "name": "stdout",
     "output_type": "stream",
     "text": [
      "[3 5 5]\n",
      "[2 6 4]\n"
     ]
    }
   ],
   "source": [
    "print(x+y)\n",
    "print(x*y)"
   ]
  },
  {
   "cell_type": "markdown",
   "id": "75a6dceb",
   "metadata": {},
   "source": [
    "Another convenience is the following operations $\\sum_{i=1}^{n} (x_i+y_i),\\sum_{i=1}^{n} x_iy_i, \\sum_{i=1}^{n} (x_i-y_i)x_i $. Verify the results by hand calculation."
   ]
  },
  {
   "cell_type": "code",
   "execution_count": 4,
   "id": "f0ebe698",
   "metadata": {
    "run_control": {
     "marked": false
    },
    "scrolled": true
   },
   "outputs": [
    {
     "name": "stdout",
     "output_type": "stream",
     "text": [
      "13\n",
      "12\n",
      "9\n"
     ]
    }
   ],
   "source": [
    "print(np.sum(x+y))\n",
    "print(np.sum(x*y))\n",
    "print(np.sum((x-y)*x))"
   ]
  },
  {
   "cell_type": "markdown",
   "id": "5daa0c2b",
   "metadata": {},
   "source": [
    "### (c) Linear Regression with gradient decent"
   ]
  },
  {
   "cell_type": "markdown",
   "id": "908eda36",
   "metadata": {},
   "source": [
    "Now let's jump into a linear regression problem where we will find the best line $$y=wx+c$$ to approximate a given set of data points $(x_i,y_i)_{i=1}^{N}$. Idea is to minimize the mean-square cost (MSE) function $$C=\\dfrac{1}{N}\\sum_{i=1}^{N}\\Big(y(x_i)-y_i\\Big)^2$$\n",
    "\n",
    "Using chain rule, we can see that $$\\dfrac{\\partial C}{\\partial w} = \\dfrac{1}{N}\\sum_{i=1}^{N}2\\Big(y(x_i)-y_i\\Big)x_i$$, $$ \\dfrac{\\partial C}{\\partial b} = \\dfrac{1}{N}\\sum_{i=1}^{N}2\\Big(y(x_i)-y_i\\Big)1$$\n",
    "Now we can go ahead and write the gradient decent for this problem. \n",
    "\n",
    "\\begin{align}\n",
    "    \\begin{bmatrix}\n",
    "           w_{n+1} \\\\\n",
    "           b_{n+1} \\\\\n",
    "     \\end{bmatrix} =\n",
    "     \\begin{bmatrix}\n",
    "           w_{n} \\\\\n",
    "           b_{n} \\\\\n",
    "      \\end{bmatrix} -\n",
    "      r\\begin{bmatrix}\n",
    "           \\dfrac{\\partial C}{\\partial w} \\\\\n",
    "          \\dfrac{\\partial C}{\\partial b} \\\\\n",
    "      \\end{bmatrix}\n",
    "\\end{align}\n",
    "\n",
    "\n",
    "Note that all of these can be done in one shot using several modules but it is important to see the machinary behind it. In machine learning jargon, we say **w: weight, b: bias**. These are learnable parameters\n"
   ]
  },
  {
   "cell_type": "markdown",
   "id": "e3cb3e48",
   "metadata": {},
   "source": [
    "Lets do a single step gradient decent first"
   ]
  },
  {
   "cell_type": "code",
   "execution_count": 39,
   "id": "44a4dec3",
   "metadata": {
    "run_control": {
     "marked": false
    }
   },
   "outputs": [
    {
     "name": "stdout",
     "output_type": "stream",
     "text": [
      "1.785 2.935\n"
     ]
    }
   ],
   "source": [
    "x = np.array([1,2,4,5]) #sample input\n",
    "y = np.array([2,5,7,9]) #sample output\n",
    "n = len(x)               \n",
    "w0 = 2.                 #initial guess for weight\n",
    "b0 = 3.                 #initial guess for bias\n",
    "r = 0.01;               #learing rate\n",
    "y_pred = w0 * x + b0    #get the prediction\n",
    "w1 = w0 - r * (1/n*np.sum( 2*(y_pred-y)*x ))   #update w0\n",
    "b1 = b0 - r * (1/n*np.sum( 2*(y_pred-y) ))     #update b0\n",
    "print(w1,b1)"
   ]
  },
  {
   "cell_type": "code",
   "execution_count": 40,
   "id": "33e1c4bb",
   "metadata": {
    "run_control": {
     "marked": false
    }
   },
   "outputs": [
    {
     "name": "stdout",
     "output_type": "stream",
     "text": [
      "w=1.66244, b=1.65759\n"
     ]
    }
   ],
   "source": [
    "# Let's do multiple step. Notice that we pick the output \n",
    "#as 2*input+ noise to test our code. This is called benchmarking\n",
    "\n",
    "x = 5 * np.random.rand(50)         # generates a random input array with 50 elements\n",
    "y = 2*x + np.random.rand(50)       # output; y = 2*x + noise\n",
    "num_epochs = 100;\n",
    "lr = 0.01;\n",
    "N = float(len(x))\n",
    "w = 0.\n",
    "b = 0.\n",
    "for i in range(num_epochs):\n",
    "    y_pred = w * x + b\n",
    "    w_der = (1/N)*np.sum(2*(y_pred-y)*x)\n",
    "    b_der = (1/N)*np.sum(2*(y_pred-y))\n",
    "    w = w - lr * w_der\n",
    "    b = w - lr * b_der\n",
    "print(f'w={w:0.5f}, b={b:0.5f}')"
   ]
  },
  {
   "cell_type": "code",
   "execution_count": 44,
   "id": "a0986e62",
   "metadata": {
    "run_control": {
     "marked": false
    }
   },
   "outputs": [
    {
     "data": {
      "image/png": "[encoded data removed]",
      "text/plain": [
       "<Figure size 432x288 with 1 Axes>"
      ]
     },
     "metadata": {
      "needs_background": "light"
     },
     "output_type": "display_data"
    }
   ],
   "source": [
    "y_preds = w*x+b\n",
    "plt.plot(x,y_preds,'-b',x,y,'ro',markersize = 2)\n",
    "plt.xlabel('x_values')\n",
    "plt.ylabel('y_values')\n",
    "plt.title('Linear Regression Model')\n",
    "plt.legend(['predicted','real_values'])\n",
    "plt.show()"
   ]
  },
  {
   "cell_type": "code",
   "execution_count": null,
   "id": "8f843396",
   "metadata": {
    "run_control": {
     "marked": false
    }
   },
   "outputs": [],
   "source": []
  },
  {
   "cell_type": "markdown",
   "id": "4b643774",
   "metadata": {},
   "source": [
    "### (d) Linear Regression on Max-Min Temperature Data\n",
    "\n",
    "Firs of all, lets convert our gradient decent and plotting codes to a function. This is a very common practice in any coding project. First, make sure the code is working, then deploy it as a function, class etc. At this stage, we are just interested in end results. Also let's check the error curve as well. "
   ]
  },
  {
   "cell_type": "code",
   "execution_count": 47,
   "id": "5d0c001a",
   "metadata": {
    "run_control": {
     "marked": false
    }
   },
   "outputs": [],
   "source": [
    "def FitLinearRegression(x,y,num_epochs = 100,lr = 0.01,print_int = 10):\n",
    "    '''x: inputs(numpy) array\n",
    "       y: real-values(numpy)\n",
    "    '''\n",
    "    N = float(len(x))\n",
    "    w = 0.\n",
    "    b = 0.\n",
    "    error = np.array([])\n",
    "    for epoch in range(num_epochs):\n",
    "        y_pred = w * x + b                    # predictions\n",
    "        w_der = (1/N)*np.sum(2*(y_pred-y)*x)  # gradient of w\n",
    "        b_der = (1/N)*np.sum(2*(y_pred-y))    # gradient of b\n",
    "        w = w - lr * w_der                    # gradient decent for w\n",
    "        b = w - lr * b_der                    # gradient decent for b\n",
    "#         if epoch%print_int == 0:\n",
    "#             PlotResults(x,y,w,b)             # plot the results during \"learning\" process\n",
    "        error = np.append(error,[1/N * np.sum((y_pred - y)**2)])  # Mean Square Error(MSE) in each epoch\n",
    "        #print(f'epoch: {epoch} err: {MSE:0.10f}')\n",
    "    return w, b, error\n",
    "#w, b = FitLinearRegression(x,y,num_epochs = 100,lr = 0.01)\n",
    "#w, b, error = FitLinearRegression(x,y,num_epochs = 20,lr = 0.01)"
   ]
  },
  {
   "cell_type": "code",
   "execution_count": null,
   "id": "119f009b",
   "metadata": {},
   "outputs": [],
   "source": []
  },
  {
   "cell_type": "code",
   "execution_count": 68,
   "id": "dfc2f7e4",
   "metadata": {},
   "outputs": [],
   "source": [
    "def PlotResults(x,y,w,b):\n",
    "    \"\"\" x: real input(array), y: real output(array)\n",
    "        w: weight, b: bias\n",
    "    \"\"\"\n",
    "    y_preds = w*x+b\n",
    "    plt.plot(x,y_preds,'-b',x,y,'ro',markersize = 1)\n",
    "    plt.xlabel('x_values')\n",
    "    plt.ylabel('y_values')\n",
    "    plt.title('Linear Regression Model')\n",
    "    plt.legend(['predicted','real_values'])\n",
    "    plt.show()"
   ]
  },
  {
   "cell_type": "code",
   "execution_count": 50,
   "id": "63d87807",
   "metadata": {
    "run_control": {
     "marked": false
    },
    "scrolled": true
   },
   "outputs": [],
   "source": [
    "def PlotError(error, num_epochs):\n",
    "    epoch = np.linspace(1,num_epochs,num_epochs)\n",
    "    plt.plot(epoch,error,'-b')\n",
    "    plt.xlabel('epoch')\n",
    "    plt.ylabel('MSE Error')\n",
    "    plt.title('Error Curve')\n",
    "    plt.show()"
   ]
  },
  {
   "cell_type": "code",
   "execution_count": 54,
   "id": "cd365719",
   "metadata": {},
   "outputs": [
    {
     "name": "stdout",
     "output_type": "stream",
     "text": [
      "w:1.662434 b:1.657586\n"
     ]
    },
    {
     "data": {
      "image/png": "[encoded data removed]",
      "text/plain": [
       "<Figure size 432x288 with 1 Axes>"
      ]
     },
     "metadata": {
      "needs_background": "light"
     },
     "output_type": "display_data"
    },
    {
     "data": {
      "image/png": "[encoded data removed]",
      "text/plain": [
       "<Figure size 432x288 with 1 Axes>"
      ]
     },
     "metadata": {
      "needs_background": "light"
     },
     "output_type": "display_data"
    }
   ],
   "source": [
    "num_epochs = 50\n",
    "lr = 0.01\n",
    "w, b, error = FitLinearRegression(x,y,num_epochs,lr)\n",
    "print(f'w:{w:0.6f} b:{b:0.6f}')\n",
    "PlotResults(x,y,w,b)\n",
    "PlotError(error, num_epochs)"
   ]
  },
  {
   "cell_type": "markdown",
   "id": "d40b2a90",
   "metadata": {},
   "source": [
    "As we can see from MSE curve, the error does not change significantly after 20 epochs. Thus, training the model with 50 epochs is not an optimal choice. The better idea would identify the optimal epoch number and run the model only for 20 epochs. In many modern machine libraries have a functionality to detect the slowdown in the error cuve so that we can stop the training early. This is called **\"early stopping\"**."
   ]
  },
  {
   "cell_type": "markdown",
   "id": "0e61324e",
   "metadata": {},
   "source": [
    "Now let's work on a real data-set. This dataset concerns the minimum and maximum temprature recorded in a couple of years period. The data format is \"*csv\" (comma seperated version). We would like to train a linear regression model to fit this dataset. We would like to predict the max temprature from minimum temprature."
   ]
  },
  {
   "cell_type": "code",
   "execution_count": 57,
   "id": "04fd9a7e",
   "metadata": {
    "run_control": {
     "marked": false
    }
   },
   "outputs": [
    {
     "data": {
      "text/html": [
       "<div>\n",
       "<style scoped>\n",
       "    .dataframe tbody tr th:only-of-type {\n",
       "        vertical-align: middle;\n",
       "    }\n",
       "\n",
       "    .dataframe tbody tr th {\n",
       "        vertical-align: top;\n",
       "    }\n",
       "\n",
       "    .dataframe thead th {\n",
       "        text-align: right;\n",
       "    }\n",
       "</style>\n",
       "<table border=\"1\" class=\"dataframe\">\n",
       "  <thead>\n",
       "    <tr style=\"text-align: right;\">\n",
       "      <th></th>\n",
       "      <th>MinTemp</th>\n",
       "      <th>MaxTemp</th>\n",
       "    </tr>\n",
       "  </thead>\n",
       "  <tbody>\n",
       "    <tr>\n",
       "      <th>0</th>\n",
       "      <td>22.222222</td>\n",
       "      <td>25.555556</td>\n",
       "    </tr>\n",
       "    <tr>\n",
       "      <th>1</th>\n",
       "      <td>21.666667</td>\n",
       "      <td>28.888889</td>\n",
       "    </tr>\n",
       "    <tr>\n",
       "      <th>2</th>\n",
       "      <td>22.222222</td>\n",
       "      <td>26.111111</td>\n",
       "    </tr>\n",
       "    <tr>\n",
       "      <th>3</th>\n",
       "      <td>22.222222</td>\n",
       "      <td>26.666667</td>\n",
       "    </tr>\n",
       "    <tr>\n",
       "      <th>4</th>\n",
       "      <td>21.666667</td>\n",
       "      <td>26.666667</td>\n",
       "    </tr>\n",
       "  </tbody>\n",
       "</table>\n",
       "</div>"
      ],
      "text/plain": [
       "     MinTemp    MaxTemp\n",
       "0  22.222222  25.555556\n",
       "1  21.666667  28.888889\n",
       "2  22.222222  26.111111\n",
       "3  22.222222  26.666667\n",
       "4  21.666667  26.666667"
      ]
     },
     "execution_count": 57,
     "metadata": {},
     "output_type": "execute_result"
    }
   ],
   "source": [
    "df = pd.read_csv('datasets/MaxMinTemp.csv')\n",
    "df.head()"
   ]
  },
  {
   "cell_type": "code",
   "execution_count": 58,
   "id": "b6fc81d2",
   "metadata": {
    "run_control": {
     "marked": false
    }
   },
   "outputs": [
    {
     "data": {
      "text/html": [
       "<div>\n",
       "<style scoped>\n",
       "    .dataframe tbody tr th:only-of-type {\n",
       "        vertical-align: middle;\n",
       "    }\n",
       "\n",
       "    .dataframe tbody tr th {\n",
       "        vertical-align: top;\n",
       "    }\n",
       "\n",
       "    .dataframe thead th {\n",
       "        text-align: right;\n",
       "    }\n",
       "</style>\n",
       "<table border=\"1\" class=\"dataframe\">\n",
       "  <thead>\n",
       "    <tr style=\"text-align: right;\">\n",
       "      <th></th>\n",
       "      <th>MinTemp</th>\n",
       "      <th>MaxTemp</th>\n",
       "    </tr>\n",
       "  </thead>\n",
       "  <tbody>\n",
       "    <tr>\n",
       "      <th>count</th>\n",
       "      <td>119040.000000</td>\n",
       "      <td>119040.000000</td>\n",
       "    </tr>\n",
       "    <tr>\n",
       "      <th>mean</th>\n",
       "      <td>17.789511</td>\n",
       "      <td>27.045111</td>\n",
       "    </tr>\n",
       "    <tr>\n",
       "      <th>std</th>\n",
       "      <td>8.334572</td>\n",
       "      <td>8.717817</td>\n",
       "    </tr>\n",
       "    <tr>\n",
       "      <th>min</th>\n",
       "      <td>-38.333333</td>\n",
       "      <td>-33.333333</td>\n",
       "    </tr>\n",
       "    <tr>\n",
       "      <th>25%</th>\n",
       "      <td>15.000000</td>\n",
       "      <td>25.555556</td>\n",
       "    </tr>\n",
       "    <tr>\n",
       "      <th>50%</th>\n",
       "      <td>21.111111</td>\n",
       "      <td>29.444444</td>\n",
       "    </tr>\n",
       "    <tr>\n",
       "      <th>75%</th>\n",
       "      <td>23.333333</td>\n",
       "      <td>31.666667</td>\n",
       "    </tr>\n",
       "    <tr>\n",
       "      <th>max</th>\n",
       "      <td>34.444444</td>\n",
       "      <td>50.000000</td>\n",
       "    </tr>\n",
       "  </tbody>\n",
       "</table>\n",
       "</div>"
      ],
      "text/plain": [
       "             MinTemp        MaxTemp\n",
       "count  119040.000000  119040.000000\n",
       "mean       17.789511      27.045111\n",
       "std         8.334572       8.717817\n",
       "min       -38.333333     -33.333333\n",
       "25%        15.000000      25.555556\n",
       "50%        21.111111      29.444444\n",
       "75%        23.333333      31.666667\n",
       "max        34.444444      50.000000"
      ]
     },
     "execution_count": 58,
     "metadata": {},
     "output_type": "execute_result"
    }
   ],
   "source": [
    "df.describe()"
   ]
  },
  {
   "cell_type": "markdown",
   "id": "f3e0f0db",
   "metadata": {},
   "source": [
    "In reality, we should **NOT** train the model on the entire dataset. So, we will split the data into training and testing parts. Idea is to train the model on training data set then test the quality of the model on the testing data set. Usually, we split the data as 80% training and 20% testing. Train-test split is a **MUST** process in supervised machine learning."
   ]
  },
  {
   "cell_type": "code",
   "execution_count": 59,
   "id": "9993f572",
   "metadata": {
    "run_control": {
     "marked": false
    }
   },
   "outputs": [],
   "source": [
    "train_set = df.sample(frac = 0.8)     # training dataset\n",
    "test_set  = df.drop(train_set.index)  # testing dataset"
   ]
  },
  {
   "cell_type": "code",
   "execution_count": 60,
   "id": "b4f0678f",
   "metadata": {
    "run_control": {
     "marked": false
    }
   },
   "outputs": [
    {
     "name": "stdout",
     "output_type": "stream",
     "text": [
      "95232\n",
      "23808\n"
     ]
    }
   ],
   "source": [
    "print(len(train_set))\n",
    "print(len(test_set))"
   ]
  },
  {
   "cell_type": "code",
   "execution_count": 63,
   "id": "9f74644a",
   "metadata": {
    "run_control": {
     "marked": false
    }
   },
   "outputs": [],
   "source": [
    "x_train = train_set['MinTemp']\n",
    "y_train = train_set['MaxTemp']\n",
    "x_test = test_set['MinTemp']\n",
    "y_test = test_set['MaxTemp']"
   ]
  },
  {
   "cell_type": "code",
   "execution_count": 74,
   "id": "783e222a",
   "metadata": {
    "run_control": {
     "marked": false
    }
   },
   "outputs": [
    {
     "name": "stdout",
     "output_type": "stream",
     "text": [
      "w:1.349852 b:1.353200\n"
     ]
    }
   ],
   "source": [
    "num_epochs = 20\n",
    "lr = 0.001\n",
    "w, b, error = FitLinearRegression(x_train,y_train,num_epochs,lr)\n",
    "print(f'w:{w:0.6f} b:{b:0.6f}')"
   ]
  },
  {
   "cell_type": "code",
   "execution_count": 75,
   "id": "873faef4",
   "metadata": {
    "run_control": {
     "marked": false
    }
   },
   "outputs": [
    {
     "data": {
      "image/png": "[encoded data removed]",
      "text/plain": [
       "<Figure size 432x288 with 1 Axes>"
      ]
     },
     "metadata": {
      "needs_background": "light"
     },
     "output_type": "display_data"
    }
   ],
   "source": [
    "#carefully note that we display the test data vs predicted line\n",
    "PlotResults(x_test,y_test,w,b)"
   ]
  },
  {
   "cell_type": "code",
   "execution_count": 73,
   "id": "f2d02231",
   "metadata": {
    "run_control": {
     "marked": false
    }
   },
   "outputs": [
    {
     "data": {
      "image/png": "[encoded data removed]",
      "text/plain": [
       "<Figure size 432x288 with 1 Axes>"
      ]
     },
     "metadata": {
      "needs_background": "light"
     },
     "output_type": "display_data"
    }
   ],
   "source": [
    "PlotError(error, num_epochs)"
   ]
  },
  {
   "cell_type": "code",
   "execution_count": null,
   "id": "8a73b1c0",
   "metadata": {},
   "outputs": [],
   "source": []
  }
 ],
 "metadata": {
  "kernelspec": {
   "display_name": "Python 3 (ipykernel)",
   "language": "python",
   "name": "python3"
  },
  "language_info": {
   "codemirror_mode": {
    "name": "ipython",
    "version": 3
   },
   "file_extension": ".py",
   "mimetype": "text/x-python",
   "name": "python",
   "nbconvert_exporter": "python",
   "pygments_lexer": "ipython3",
   "version": "3.8.10"
  },
  "latex_envs": {
   "LaTeX_envs_menu_present": true,
   "autoclose": true,
   "autocomplete": true,
   "bibliofile": "biblio.bib",
   "cite_by": "apalike",
   "current_citInitial": 1,
   "eqLabelWithNumbers": true,
   "eqNumInitial": 1,
   "hotkeys": {
    "equation": "Ctrl-E",
    "itemize": "Ctrl-I"
   },
   "labels_anchors": false,
   "latex_user_defs": false,
   "report_style_numbering": false,
   "user_envs_cfg": false
  }
 },
 "nbformat": 4,
 "nbformat_minor": 5
}

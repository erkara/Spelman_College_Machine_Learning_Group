{
 "cells": [
  {
   "cell_type": "code",
   "execution_count": 1,
   "id": "a22c4ed2",
   "metadata": {},
   "outputs": [],
   "source": [
    "import torch\n",
    "import math\n",
    "import numpy as np\n",
    "import matplotlib.pyplot as plt"
   ]
  },
  {
   "cell_type": "markdown",
   "id": "6085d71a",
   "metadata": {},
   "source": [
    "## 1.Pytorch Basics\n",
    "    Tensors, 4D Tensor Convention\n",
    "## 2. Tensor Operations\n",
    "    Basic Operations, Argmax Operation\n",
    "## 3. Evaluating Derivatives\n",
    "## 4. Linear Regression with Pytorch\n",
    "    From basic differentiation to AutoGrad"
   ]
  },
  {
   "cell_type": "markdown",
   "id": "3ca9b868",
   "metadata": {},
   "source": [
    "Tensors are the PyTorch equivalent to Numpy arrays, with the addition to also have support for GPU acceleration (more on that later). The name “tensor” is a generalization of concepts you already know. For instance, a vector is a 1-D tensor, and a matrix a 2-D tensor. When working with neural networks, we will use tensors of various shapes and number of dimensions."
   ]
  },
  {
   "cell_type": "markdown",
   "id": "677d3d19",
   "metadata": {},
   "source": [
    "## 1.Pytorch Basics"
   ]
  },
  {
   "cell_type": "code",
   "execution_count": 2,
   "id": "f864c833",
   "metadata": {},
   "outputs": [],
   "source": [
    "#1D-Array - 1D-Tensor\n",
    "x = torch.tensor([2,3,6])"
   ]
  },
  {
   "cell_type": "code",
   "execution_count": 3,
   "id": "ed6d2fa9",
   "metadata": {},
   "outputs": [
    {
     "name": "stdout",
     "output_type": "stream",
     "text": [
      "tensor([2, 3, 6])\n",
      "torch.Size([3])\n",
      "torch.LongTensor\n"
     ]
    }
   ],
   "source": [
    "print(x)\n",
    "print(x.shape)\n",
    "print(x.type())"
   ]
  },
  {
   "cell_type": "code",
   "execution_count": 4,
   "id": "cad8499d",
   "metadata": {
    "code_folding": []
   },
   "outputs": [],
   "source": [
    "A = torch.tensor([  [3,4,7]  ,  [9,5,-1]  ])"
   ]
  },
  {
   "cell_type": "code",
   "execution_count": 5,
   "id": "f84d2dfe",
   "metadata": {},
   "outputs": [
    {
     "name": "stdout",
     "output_type": "stream",
     "text": [
      "tensor([[ 3,  4,  7],\n",
      "        [ 9,  5, -1]])\n",
      "torch.Size([2, 3])\n",
      "torch.LongTensor\n"
     ]
    }
   ],
   "source": [
    "print(A)\n",
    "print(A.shape)\n",
    "print(A.type())"
   ]
  },
  {
   "cell_type": "code",
   "execution_count": 6,
   "id": "bad08c46",
   "metadata": {},
   "outputs": [
    {
     "name": "stdout",
     "output_type": "stream",
     "text": [
      "tensor(4)\n",
      "tensor(5)\n"
     ]
    }
   ],
   "source": [
    "print(A[0,1])\n",
    "print(A[1,1])"
   ]
  },
  {
   "cell_type": "markdown",
   "id": "34880979",
   "metadata": {},
   "source": [
    "We have tons of methods to create special types of tensors"
   ]
  },
  {
   "cell_type": "code",
   "execution_count": 7,
   "id": "b595733f",
   "metadata": {
    "code_folding": []
   },
   "outputs": [
    {
     "name": "stdout",
     "output_type": "stream",
     "text": [
      "tensor([3, 4, 7])\n",
      "tensor([ 9,  5, -1])\n"
     ]
    }
   ],
   "source": [
    "#axis=0\n",
    "print(A[0])\n",
    "print(A[1])"
   ]
  },
  {
   "cell_type": "code",
   "execution_count": 8,
   "id": "ab9410fb",
   "metadata": {},
   "outputs": [
    {
     "name": "stdout",
     "output_type": "stream",
     "text": [
      "tensor([[0.0673, 0.1008, 0.3934],\n",
      "        [0.5589, 0.2934, 0.9018],\n",
      "        [0.9878, 0.8540, 0.1562]])\n"
     ]
    }
   ],
   "source": [
    "x = torch.rand(3,3)\n",
    "print(x)"
   ]
  },
  {
   "cell_type": "code",
   "execution_count": 9,
   "id": "fe2061fb",
   "metadata": {},
   "outputs": [
    {
     "name": "stdout",
     "output_type": "stream",
     "text": [
      "tensor([[7, 9, 0, 1],\n",
      "        [1, 4, 9, 1],\n",
      "        [1, 6, 4, 8],\n",
      "        [0, 3, 8, 1]])\n"
     ]
    }
   ],
   "source": [
    "x = torch.randint(0,10, size=(4,4))\n",
    "print(x)"
   ]
  },
  {
   "cell_type": "code",
   "execution_count": 10,
   "id": "7391a1ca",
   "metadata": {
    "scrolled": true
   },
   "outputs": [
    {
     "name": "stdout",
     "output_type": "stream",
     "text": [
      "tensor([[1., 1., 1., 1.],\n",
      "        [1., 1., 1., 1.],\n",
      "        [1., 1., 1., 1.],\n",
      "        [1., 1., 1., 1.]])\n"
     ]
    }
   ],
   "source": [
    "x = torch.ones(4,4)\n",
    "print(x)"
   ]
  },
  {
   "cell_type": "markdown",
   "id": "01e83802",
   "metadata": {},
   "source": [
    "### Group of Images as 4D Pytorch Tensor"
   ]
  },
  {
   "cell_type": "markdown",
   "id": "6d549cc0",
   "metadata": {},
   "source": [
    "- As we will see in a couple of lectures, when we train a model, we feed not a single image but more than one image at at time. \n",
    "- As we discussed in the previous lecture, we identify an \"image\" with 3 parameters \"Channel, Height, Width\". If the image is gray-scale Channel=1, if it is RGB, Channel=3. \n",
    "- If we are to put more than one images into a model, we need a 4D tensor. Pytorch convention for 4D tensors is as follows\n",
    "\n",
    "    **(Batch, Channel, Height, Width)**\n",
    "    \n",
    "\n",
    "- Batch is literally the number of images we feed into the model. Let's see some examples\n",
    "- This idea is called \"Batch Gradient Decent\" "
   ]
  },
  {
   "cell_type": "code",
   "execution_count": null,
   "id": "497cfd98",
   "metadata": {
    "code_folding": []
   },
   "outputs": [],
   "source": [
    "# 2 gray scale image of size 6x6 looks like A.shape = 2x1x6x6"
   ]
  },
  {
   "cell_type": "code",
   "execution_count": 11,
   "id": "3f2451f8",
   "metadata": {},
   "outputs": [
    {
     "name": "stdout",
     "output_type": "stream",
     "text": [
      "tensor([[[[150, 143, 169,  85,  18,   4],\n",
      "          [136, 127,  53,  92, 169,  93],\n",
      "          [158, 182,  17, 239,  93, 189],\n",
      "          [247, 200, 247,  39,  23, 178],\n",
      "          [244, 233,  21,   2, 175,  90],\n",
      "          [152, 215, 139, 155, 171, 137]]],\n",
      "\n",
      "\n",
      "        [[[226,  44, 247,  87,  74,  67],\n",
      "          [  3, 250, 170, 180, 136, 120],\n",
      "          [103, 210,  83,  18,  81, 165],\n",
      "          [ 64, 146, 171,  24, 197, 128],\n",
      "          [204, 159, 215,  27,  62, 101],\n",
      "          [ 46, 123, 209,  50, 147, 103]]]])\n"
     ]
    }
   ],
   "source": [
    "A = torch.randint(0,255,(2,1,6,6))\n",
    "print(A)"
   ]
  },
  {
   "cell_type": "code",
   "execution_count": 12,
   "id": "1eb67d13",
   "metadata": {
    "code_folding": []
   },
   "outputs": [
    {
     "name": "stdout",
     "output_type": "stream",
     "text": [
      "torch.Size([1, 6, 6])\n",
      "tensor([[[150, 143, 169,  85,  18,   4],\n",
      "         [136, 127,  53,  92, 169,  93],\n",
      "         [158, 182,  17, 239,  93, 189],\n",
      "         [247, 200, 247,  39,  23, 178],\n",
      "         [244, 233,  21,   2, 175,  90],\n",
      "         [152, 215, 139, 155, 171, 137]]])\n"
     ]
    }
   ],
   "source": [
    "#let's analyse the first image in the batch. Notice that the A[0] is a 3D tensor.\n",
    "print(A[0].shape)\n",
    "print(A[0])"
   ]
  },
  {
   "cell_type": "code",
   "execution_count": null,
   "id": "c73c48ab",
   "metadata": {},
   "outputs": [],
   "source": []
  },
  {
   "cell_type": "code",
   "execution_count": 16,
   "id": "1e7f3c50",
   "metadata": {
    "code_folding": []
   },
   "outputs": [
    {
     "name": "stdout",
     "output_type": "stream",
     "text": [
      "Image-1 Shape:  torch.Size([6, 6])\n",
      "\n",
      "Image-1 Numpy\n",
      "  [[150 143 169  85  18   4]\n",
      " [136 127  53  92 169  93]\n",
      " [158 182  17 239  93 189]\n",
      " [247 200 247  39  23 178]\n",
      " [244 233  21   2 175  90]\n",
      " [152 215 139 155 171 137]]\n"
     ]
    },
    {
     "data": {
      "image/png": "[encoded data removed]",
      "text/plain": [
       "<Figure size 432x288 with 1 Axes>"
      ]
     },
     "metadata": {
      "needs_background": "light"
     },
     "output_type": "display_data"
    }
   ],
   "source": [
    "#if we want to visualize it, we need to 'squeeze' the first dimension(axis=0) \n",
    "#and then convert to numpy array\n",
    "B0 = A[0].squeeze(dim=0)\n",
    "print('Image-1 Shape: ', B0.shape)\n",
    "B0_np = B0.numpy()\n",
    "print('\\nImage-1 Numpy\\n ',B0_np)\n",
    "plt.imshow(B0_np,cmap = 'gray')\n",
    "plt.title('First Image in the Batch')\n",
    "plt.show()"
   ]
  },
  {
   "cell_type": "code",
   "execution_count": 18,
   "id": "0ff62534",
   "metadata": {
    "code_folding": []
   },
   "outputs": [
    {
     "name": "stdout",
     "output_type": "stream",
     "text": [
      "torch.Size([1, 6, 6])\n",
      "tensor([[[226,  44, 247,  87,  74,  67],\n",
      "         [  3, 250, 170, 180, 136, 120],\n",
      "         [103, 210,  83,  18,  81, 165],\n",
      "         [ 64, 146, 171,  24, 197, 128],\n",
      "         [204, 159, 215,  27,  62, 101],\n",
      "         [ 46, 123, 209,  50, 147, 103]]])\n"
     ]
    }
   ],
   "source": [
    "#let's analyse the second image in the batch. Notice that the A[1] is a 3D tensor.\n",
    "print(A[1].shape)\n",
    "print(A[1])"
   ]
  },
  {
   "cell_type": "code",
   "execution_count": 20,
   "id": "16e5b625",
   "metadata": {
    "code_folding": []
   },
   "outputs": [
    {
     "name": "stdout",
     "output_type": "stream",
     "text": [
      "Image-2 Shape:  torch.Size([6, 6])\n",
      "\n",
      "Image-1 Shape Array\n",
      "  [[226  44 247  87  74  67]\n",
      " [  3 250 170 180 136 120]\n",
      " [103 210  83  18  81 165]\n",
      " [ 64 146 171  24 197 128]\n",
      " [204 159 215  27  62 101]\n",
      " [ 46 123 209  50 147 103]]\n"
     ]
    },
    {
     "data": {
      "image/png": "[encoded data removed]",
      "text/plain": [
       "<Figure size 432x288 with 1 Axes>"
      ]
     },
     "metadata": {
      "needs_background": "light"
     },
     "output_type": "display_data"
    }
   ],
   "source": [
    "#if we want to visualize it, we need to 'squeeze' the first dimension(axis=0) \n",
    "#and then convert to numpy array\n",
    "B1 = A[1].squeeze(dim=0)\n",
    "print('Image-2 Shape: ', B1.shape)\n",
    "B1_np = B1.numpy()\n",
    "print('\\nImage-1 Shape Array\\n ',B1_np)\n",
    "plt.imshow(B1_np,cmap = 'gray')\n",
    "plt.title('Second Image in the Batch')\n",
    "plt.show()"
   ]
  },
  {
   "cell_type": "markdown",
   "id": "ec9a15bc",
   "metadata": {},
   "source": [
    "Let's walk backward from Numpy array to Pytorch tensor. Consider two gray-scale images of size 5x5. \n",
    "- (1) Let's generate them and visualize them first.\n",
    "- (2) Convert to Pytorch tensors\n",
    "- (2) Put them in 3D tensor form Channel x Height x Width with 'unsqueeze' which adds a dimension\n",
    "- (3) Stack them into a 4D tensor of form Batch x Channel x Height x Width"
   ]
  },
  {
   "cell_type": "code",
   "execution_count": 32,
   "id": "3a9f90d3",
   "metadata": {
    "code_folding": []
   },
   "outputs": [
    {
     "data": {
      "image/png": "[encoded data removed]",
      "text/plain": [
       "<Figure size 432x288 with 2 Axes>"
      ]
     },
     "metadata": {
      "needs_background": "light"
     },
     "output_type": "display_data"
    }
   ],
   "source": [
    "#(1) generate 2 gray-scale images and visualize\n",
    "Im1 = np.random.randint(0,255,size = (5,5))\n",
    "Im2 = np.random.randint(0,255,size = (5,5))\n",
    "plt.subplot(1,2,1)\n",
    "plt.imshow(Im1,cmap = 'gray')\n",
    "plt.title('First_Image')\n",
    "plt.subplot(1,2,2)\n",
    "plt.imshow(Im2,cmap = 'gray')\n",
    "plt.title('Second_Image')\n",
    "plt.show()"
   ]
  },
  {
   "cell_type": "code",
   "execution_count": 33,
   "id": "dffdb84c",
   "metadata": {
    "code_folding": []
   },
   "outputs": [
    {
     "name": "stdout",
     "output_type": "stream",
     "text": [
      "torch.LongTensor\n",
      "torch.LongTensor\n"
     ]
    }
   ],
   "source": [
    "#(2) Convert to Pytorch tensors calling 'from_numpy' function\n",
    "Im1_Tensor = torch.from_numpy(Im1)\n",
    "print(Im1_Tensor.type())\n",
    "Im2_Tensor = torch.from_numpy(Im2)\n",
    "print(Im2_Tensor.type())"
   ]
  },
  {
   "cell_type": "code",
   "execution_count": 34,
   "id": "3d48641c",
   "metadata": {
    "code_folding": []
   },
   "outputs": [
    {
     "name": "stdout",
     "output_type": "stream",
     "text": [
      "torch.Size([1, 5, 5])\n",
      "torch.Size([1, 5, 5])\n"
     ]
    }
   ],
   "source": [
    "#(3) Put them in 3D tensor form Channel x Height x Width with 'unsqueeze' \n",
    "Im1_Tensor = Im1_Tensor.unsqueeze(dim=0)\n",
    "print(Im1_Tensor.shape)\n",
    "Im2_Tensor = Im2_Tensor.unsqueeze(dim=0)\n",
    "print(Im2_Tensor.shape)"
   ]
  },
  {
   "cell_type": "code",
   "execution_count": 35,
   "id": "ceddbfa7",
   "metadata": {
    "code_folding": [],
    "run_control": {
     "marked": true
    }
   },
   "outputs": [
    {
     "data": {
      "text/plain": [
       "torch.Size([2, 1, 5, 5])"
      ]
     },
     "execution_count": 35,
     "metadata": {},
     "output_type": "execute_result"
    }
   ],
   "source": [
    "#(4) Stack them into a 4D tensor of form Batch x Channel x Height x Width\n",
    "A = torch.stack((Im1_Tensor,Im2_Tensor))\n",
    "A.shape"
   ]
  },
  {
   "cell_type": "markdown",
   "id": "13169095",
   "metadata": {},
   "source": [
    "## 2. Tensor Operations\n",
    "Pretty much all the Numpy operations work for Pytorch tensors as well"
   ]
  },
  {
   "cell_type": "code",
   "execution_count": 36,
   "id": "e68a0b91",
   "metadata": {},
   "outputs": [],
   "source": [
    "A = torch.tensor([[3,4,7,7],\n",
    "                  [9,5,9,1],\n",
    "                  [-4,-3,5,0],\n",
    "                  [-1,-2,5,1]])"
   ]
  },
  {
   "cell_type": "code",
   "execution_count": 37,
   "id": "603651ac",
   "metadata": {},
   "outputs": [
    {
     "data": {
      "text/plain": [
       "tensor([3, 4, 7, 7])"
      ]
     },
     "execution_count": 37,
     "metadata": {},
     "output_type": "execute_result"
    }
   ],
   "source": [
    "A[0,:]"
   ]
  },
  {
   "cell_type": "code",
   "execution_count": 38,
   "id": "f9bd7225",
   "metadata": {},
   "outputs": [
    {
     "data": {
      "text/plain": [
       "tensor([[4, 7],\n",
       "        [5, 9]])"
      ]
     },
     "execution_count": 38,
     "metadata": {},
     "output_type": "execute_result"
    }
   ],
   "source": [
    "A[0:2,1:3]"
   ]
  },
  {
   "cell_type": "code",
   "execution_count": null,
   "id": "cf0cdc15",
   "metadata": {},
   "outputs": [],
   "source": [
    "B = torch.tensor([[1,1,1,1],\n",
    "                  [2,2,2,2],\n",
    "                  [3,3,3,3]])\n",
    "print(B)"
   ]
  },
  {
   "cell_type": "markdown",
   "id": "e96bf610",
   "metadata": {},
   "source": [
    "Some unexpected results"
   ]
  },
  {
   "cell_type": "code",
   "execution_count": null,
   "id": "2f213ff1",
   "metadata": {
    "scrolled": true
   },
   "outputs": [],
   "source": [
    "#sum over the elements of the first axis, which are the rows in fact.\n",
    "B.sum(dim=0)"
   ]
  },
  {
   "cell_type": "code",
   "execution_count": null,
   "id": "3cd34aae",
   "metadata": {},
   "outputs": [],
   "source": [
    "print(B[0])\n",
    "print(B[1])\n",
    "print(B[2])\n",
    "print('B[0]+B[1]+B[2] = ',B[0]+B[1]+B[2])"
   ]
  },
  {
   "cell_type": "code",
   "execution_count": null,
   "id": "9c41970f",
   "metadata": {},
   "outputs": [],
   "source": [
    "B.sum(dim=1)"
   ]
  },
  {
   "cell_type": "code",
   "execution_count": null,
   "id": "fe380e9a",
   "metadata": {},
   "outputs": [],
   "source": [
    "print(B[0].sum())\n",
    "print(B[1].sum())\n",
    "print(B[2].sum())"
   ]
  },
  {
   "cell_type": "markdown",
   "id": "c3e65fb1",
   "metadata": {},
   "source": [
    "Manipulating tensor with reshape, view, flatten"
   ]
  },
  {
   "cell_type": "code",
   "execution_count": 39,
   "id": "a14f4902",
   "metadata": {},
   "outputs": [
    {
     "name": "stdout",
     "output_type": "stream",
     "text": [
      "Before reshape =:\n",
      " tensor([[1, 0, 0, 0],\n",
      "        [3, 1, 7, 0],\n",
      "        [2, 3, 4, 1]])\n",
      "\n",
      "After reshape:\n",
      " tensor([[1, 0, 0, 0, 3, 1],\n",
      "        [7, 0, 2, 3, 4, 1]])\n"
     ]
    }
   ],
   "source": [
    "B = torch.randint(10,(3,4))\n",
    "print('Before reshape =:\\n',B)\n",
    "C = torch.reshape(B,(2,6))\n",
    "print('\\nAfter reshape:\\n', C)\n"
   ]
  },
  {
   "cell_type": "code",
   "execution_count": 40,
   "id": "5c8c3d44",
   "metadata": {},
   "outputs": [
    {
     "name": "stdout",
     "output_type": "stream",
     "text": [
      "tensor([[1, 0, 0, 0],\n",
      "        [3, 1, 7, 0],\n",
      "        [2, 3, 4, 1]])\n"
     ]
    }
   ],
   "source": [
    "#let the torch handle the other axis\n",
    "C = B.view(-1,4)\n",
    "print(C)"
   ]
  },
  {
   "cell_type": "code",
   "execution_count": 41,
   "id": "cad0f78d",
   "metadata": {},
   "outputs": [
    {
     "data": {
      "text/plain": [
       "tensor([1, 0, 0, 0, 3, 1, 7, 0, 2, 3, 4, 1])"
      ]
     },
     "execution_count": 41,
     "metadata": {},
     "output_type": "execute_result"
    }
   ],
   "source": [
    "B.flatten()"
   ]
  },
  {
   "cell_type": "code",
   "execution_count": 42,
   "id": "86379949",
   "metadata": {},
   "outputs": [
    {
     "data": {
      "text/plain": [
       "tensor([1, 0, 0, 0, 3, 1, 7, 0, 2, 3, 4, 1])"
      ]
     },
     "execution_count": 42,
     "metadata": {},
     "output_type": "execute_result"
    }
   ],
   "source": [
    "B.view(-1)"
   ]
  },
  {
   "cell_type": "code",
   "execution_count": null,
   "id": "017633ca",
   "metadata": {},
   "outputs": [],
   "source": []
  },
  {
   "cell_type": "code",
   "execution_count": null,
   "id": "dc0ba1be",
   "metadata": {},
   "outputs": [],
   "source": []
  },
  {
   "cell_type": "markdown",
   "id": "ede0e117",
   "metadata": {},
   "source": [
    "### Argmax Operation"
   ]
  },
  {
   "cell_type": "markdown",
   "id": "11d07ba4",
   "metadata": {},
   "source": [
    "One important operation includes \"torch.argmax\" and \"torch.eq\" operations. Imagine we are doing image classification with 4 classes \n",
    "\n",
    "$Cat = 0, Dog = 1 ,Bird = 2, Panda = 3$\n",
    "\n",
    "What we do, we feed many images at the same time. Let's say we feed 2-Dogs and 1-Panda. Our label array is\n",
    "\n",
    "$$\\text{label} = [1,1,3]$$\n",
    "\n",
    "When we get the output from the model, it will look like;\n",
    "\n",
    "\n",
    "$$\n",
    "A = \n",
    "\\begin{bmatrix}\n",
    "12.2099 & 7.4075 & 1.9746,& 4.5719 \\\\\n",
    "0.4014 & 19.8903 & 9.4084 & 9.3722 \\\\\n",
    "3.3393 & 5.6968 & 8.2905 & 12.3987\n",
    "\\end{bmatrix}\n",
    "$$\n",
    "\n",
    "First row is the prediction for the first image and so on. Now, in each row, we get the **index of largest entry** and put this in an array using **\"argmax\"** command. This will be our prediction array. In this case, it must be\n",
    "\n",
    "$$ \\text{predictions} = [0,1,3]$$ \n",
    "\n",
    "Then we will count how many of the predictions is right. To do so, we will first Boolen compare labels and predictions using **\"eq\"** then count the True entries using **\"sum\"**. Carefully follow the example below"
   ]
  },
  {
   "cell_type": "code",
   "execution_count": 47,
   "id": "a65c32e2",
   "metadata": {},
   "outputs": [
    {
     "name": "stdout",
     "output_type": "stream",
     "text": [
      "labels: tensor([1, 1, 3])\n",
      "tensor([0, 1, 3])\n",
      "tensor([False,  True,  True])\n",
      "Number of Correct Predictions:  tensor(2)\n"
     ]
    }
   ],
   "source": [
    "label = torch.tensor([1,1,3],dtype = torch.long)\n",
    "print('labels:',label)\n",
    "ouputs = torch.tensor([[12.2,7.4,1.9,4.5],\n",
    "                 [0.4,19.8,9.4,9.3],\n",
    "                  [3.3,5.6,8.2,12.3]])\n",
    "predictions = ouputs.argmax(dim=1)\n",
    "print(predictions)\n",
    "print(predictions.eq(label))\n",
    "print('Number of Correct Predictions: ', sum(predictions.eq(label)))"
   ]
  },
  {
   "cell_type": "markdown",
   "id": "e4f79a90",
   "metadata": {},
   "source": [
    "In general, the operation looks like;"
   ]
  },
  {
   "cell_type": "code",
   "execution_count": 48,
   "id": "0ba78fee",
   "metadata": {},
   "outputs": [
    {
     "data": {
      "text/plain": [
       "tensor([[1, 0, 0, 1, 3, 2, 1, 0, 3, 2, 2, 3, 3, 2, 1, 3, 3, 2, 3, 2]])"
      ]
     },
     "execution_count": 48,
     "metadata": {},
     "output_type": "execute_result"
    }
   ],
   "source": [
    "# correct labels\n",
    "labels = torch.randint(0,4,size=(1,20))\n",
    "labels"
   ]
  },
  {
   "cell_type": "code",
   "execution_count": 51,
   "id": "c4faaaca",
   "metadata": {},
   "outputs": [
    {
     "name": "stdout",
     "output_type": "stream",
     "text": [
      "tensor([[0.1121, 0.0606, 6.4346, 3.4020],\n",
      "        [1.6538, 4.9836, 1.9874, 3.7609],\n",
      "        [8.2753, 2.4633, 6.1641, 4.8444],\n",
      "        [8.2476, 1.2120, 7.8649, 3.4182],\n",
      "        [4.9221, 6.5001, 4.4258, 6.3559],\n",
      "        [8.7869, 0.3426, 7.2336, 2.8140],\n",
      "        [9.5892, 9.4656, 5.3058, 4.4837],\n",
      "        [5.6994, 5.3669, 7.6640, 5.4913],\n",
      "        [4.5842, 9.8467, 5.4943, 8.7420],\n",
      "        [2.5474, 6.8340, 9.9592, 4.1495],\n",
      "        [4.3323, 3.0639, 7.8624, 5.9778],\n",
      "        [9.5666, 3.5837, 8.0645, 8.6291],\n",
      "        [3.3210, 5.7720, 3.7761, 7.4641],\n",
      "        [4.1377, 4.9784, 6.6240, 8.5176],\n",
      "        [1.1522, 5.8596, 5.7860, 8.9133],\n",
      "        [2.4062, 5.2168, 9.4030, 9.0329],\n",
      "        [1.7854, 0.1549, 6.2901, 2.8576],\n",
      "        [5.7590, 2.1607, 4.4988, 2.7868],\n",
      "        [1.3261, 8.7748, 8.1485, 5.7029],\n",
      "        [6.6027, 8.1908, 0.5871, 0.3665]])\n"
     ]
    }
   ],
   "source": [
    "#model ouput\n",
    "outputs = 10*torch.rand(20,4)\n",
    "print(outputs)"
   ]
  },
  {
   "cell_type": "code",
   "execution_count": 52,
   "id": "64bed28f",
   "metadata": {},
   "outputs": [
    {
     "name": "stdout",
     "output_type": "stream",
     "text": [
      "tensor([2, 1, 0, 0, 1, 0, 0, 2, 1, 2, 2, 0, 3, 3, 3, 2, 2, 0, 1, 1])\n"
     ]
    }
   ],
   "source": [
    "#prediction for each image\n",
    "predictions = outputs.argmax(dim=1)\n",
    "print(predictions)"
   ]
  },
  {
   "cell_type": "code",
   "execution_count": 53,
   "id": "7297ef76",
   "metadata": {},
   "outputs": [
    {
     "data": {
      "text/plain": [
       "tensor([[False, False,  True, False, False, False, False, False, False,  True,\n",
       "          True, False,  True, False, False, False, False, False, False, False]])"
      ]
     },
     "execution_count": 53,
     "metadata": {},
     "output_type": "execute_result"
    }
   ],
   "source": [
    "#compare two labels vs predictions\n",
    "predictions.eq(labels)"
   ]
  },
  {
   "cell_type": "code",
   "execution_count": 54,
   "id": "73602059",
   "metadata": {},
   "outputs": [
    {
     "name": "stdout",
     "output_type": "stream",
     "text": [
      "4\n"
     ]
    }
   ],
   "source": [
    "#count the correct(True) ones\n",
    "number_of_correct = torch.sum(predictions.eq(labels))\n",
    "print(number_of_correct.item())"
   ]
  },
  {
   "cell_type": "markdown",
   "id": "de518ddc",
   "metadata": {},
   "source": [
    "## 3. Evaluating Derivatives with Pytorch"
   ]
  },
  {
   "cell_type": "markdown",
   "id": "aebe6288",
   "metadata": {},
   "source": [
    "**Ex-1**\n",
    "\n",
    "Find the derivative of $f(x) = 3x^2$ at $x=1$. Note that the answer is 6."
   ]
  },
  {
   "cell_type": "code",
   "execution_count": 58,
   "id": "79627caa",
   "metadata": {
    "code_folding": []
   },
   "outputs": [
    {
     "name": "stdout",
     "output_type": "stream",
     "text": [
      "tensor(6.)\n"
     ]
    }
   ],
   "source": [
    "x = torch.tensor(1.,requires_grad = True)\n",
    "y = 3*x**2\n",
    "\n",
    "#take the derivative\n",
    "y.backward()\n",
    "\n",
    "#return the derivaitive\n",
    "print(x.grad)"
   ]
  },
  {
   "cell_type": "markdown",
   "id": "ae73605f",
   "metadata": {},
   "source": [
    "**Ex2**\n",
    "\n",
    "Calculate the derivative of $f(x) = \\big(x^2+ 7x + \\cos(x)\\big)^3 $ at $x=0$. Since $f'(x) = 3\\big(x^2+ 7x + \\cos(x)\\big)^2\\big(x+7-\\sin(x)\\big)$, we must have $f'(0)=21$ "
   ]
  },
  {
   "cell_type": "code",
   "execution_count": 60,
   "id": "1cee6d95",
   "metadata": {},
   "outputs": [
    {
     "name": "stdout",
     "output_type": "stream",
     "text": [
      "tensor(21.)\n"
     ]
    }
   ],
   "source": [
    "x = torch.tensor(0.,requires_grad = True)\n",
    "y = (x**2 + 7*x + torch.cos(x))**3\n",
    "y.backward()\n",
    "print(x.grad)"
   ]
  },
  {
   "cell_type": "markdown",
   "id": "7296bb1f",
   "metadata": {},
   "source": [
    "**Ex3**\n",
    "\n",
    "Now, let's evaluate partial derivatives. $f(x,y) = x^2+y^2 + e^{x+y}\\cos(xy)$ at $x=1,y=2$"
   ]
  },
  {
   "cell_type": "code",
   "execution_count": 61,
   "id": "945628fd",
   "metadata": {
    "scrolled": false
   },
   "outputs": [
    {
     "name": "stdout",
     "output_type": "stream",
     "text": [
      "f_x:  tensor(-42.8860)\n",
      "f_y:  tensor(-22.6223)\n"
     ]
    }
   ],
   "source": [
    "x = torch.tensor(1.,requires_grad = True)\n",
    "y = torch.tensor(2.,requires_grad = True)\n",
    "f = x**2 + y**2 + torch.exp(x+y)*torch.cos(x*y)\n",
    "f.backward()\n",
    "print('f_x: ',x.grad)\n",
    "print(\"f_y: \",y.grad)"
   ]
  },
  {
   "cell_type": "markdown",
   "id": "be7f9ee8",
   "metadata": {},
   "source": [
    "## 4. Linear Regression with Pytorch"
   ]
  },
  {
   "cell_type": "markdown",
   "id": "113ab173",
   "metadata": {},
   "source": [
    "Now, let's see how we do gradient decent with Pytorch. Our toy example is a simple linear regression problem. We will find the best line $$y=wx+b$$ to approximate a given set of data points $(x_i,y_i)_{i=1}^{N}$. Idea is to minimize the mean-square cost (MSE) function $$C=\\dfrac{1}{N}\\sum_{i=1}^{N}\\Big(y(x_i)-y_i\\Big)^2$$\n",
    "\n",
    "Using chain rule, we can see that $$\\dfrac{\\partial C}{\\partial w} = \\dfrac{1}{N}\\sum_{i=1}^{N}2\\Big(y(x_i)-y_i\\Big)x_i$$, $$ \\dfrac{\\partial C}{\\partial b} = \\dfrac{1}{N}\\sum_{i=1}^{N}2\\Big(y(x_i)-y_i\\Big)1$$\n",
    "Now we can go ahead and write the gradient decent for this problem. \n",
    "\n",
    "\\begin{align}\n",
    "    \\begin{bmatrix}\n",
    "           w_{n+1} \\\\\n",
    "           b_{n+1} \\\\\n",
    "     \\end{bmatrix} =\n",
    "     \\begin{bmatrix}\n",
    "           w_{n} \\\\\n",
    "           b_{n} \\\\\n",
    "      \\end{bmatrix} -\n",
    "      r\\begin{bmatrix}\n",
    "           \\dfrac{\\partial C}{\\partial w} \\\\\n",
    "          \\dfrac{\\partial C}{\\partial b} \\\\\n",
    "      \\end{bmatrix}\n",
    "\\end{align}\n",
    "\n",
    "We will have two approches;\n",
    "\n",
    "- Implement naive graident decent with Pytorch\n",
    "- Use optimizer provided by Pytorch\n",
    "\n",
    "We can notice that Pytorch's implementation is way better in terms of error. That's why we must use the optimization tools provided in Pytorch"
   ]
  },
  {
   "cell_type": "markdown",
   "id": "cf62b746",
   "metadata": {},
   "source": [
    "### a. Implement Naive Graident Decent with Pytorch"
   ]
  },
  {
   "cell_type": "code",
   "execution_count": 63,
   "id": "c32ef19b",
   "metadata": {
    "code_folding": [
     7
    ]
   },
   "outputs": [],
   "source": [
    "def MSE(y,y_pred):\n",
    "    return ((y-y_pred)**2).mean()\n",
    "\n",
    "def model(w,b,x):\n",
    "    return w*x+b\n",
    "\n",
    "@torch.no_grad()\n",
    "def DisplayResults(w,b,X_test,Y_test):\n",
    "    y_preds = w * X_test + b\n",
    "    plt.figure(figsize=(6,5))\n",
    "    plt.plot(X_test,y_preds,'-b',X_test,Y_test,'ro',markersize = 2)\n",
    "    plt.legend(['predicted','real_values'])\n",
    "    plt.xlabel('x_values')\n",
    "    plt.ylabel('y_values')\n",
    "    plt.title('Linear_Regression_Model')\n",
    "    plt.show()\n",
    "    "
   ]
  },
  {
   "cell_type": "code",
   "execution_count": 64,
   "id": "c27c3ce1",
   "metadata": {},
   "outputs": [],
   "source": [
    "#Pick w = 7 and b = 3 and some noise\n",
    "N = 300\n",
    "X = torch.rand(N)\n",
    "Y = 7*X + 3*torch.ones(N) + torch.rand(N)\n",
    "\n",
    "#train-test split\n",
    "X_train = X[0:math.ceil(N*0.8)]\n",
    "X_test = X[math.ceil(N*0.8):]\n",
    "\n",
    "Y_train = Y[0:math.ceil(N*0.8)]\n",
    "Y_test = Y[math.ceil(N*0.8):]"
   ]
  },
  {
   "cell_type": "code",
   "execution_count": 65,
   "id": "4629d76f",
   "metadata": {
    "scrolled": true
   },
   "outputs": [
    {
     "name": "stdout",
     "output_type": "stream",
     "text": [
      "w: 1.73121 b : -0.05793 loss : 76.35734558\n",
      "w: 6.41163 b : 3.84272 loss : 0.11096727\n",
      "w: 6.84898 b : 3.59857 loss : 0.08083858\n",
      "w: 6.94922 b : 3.54261 loss : 0.07925593\n"
     ]
    }
   ],
   "source": [
    "# initilize weight and bias\n",
    "num_epochs = 400\n",
    "lr = 1e-1\n",
    "w = torch.randn(1,requires_grad=True)\n",
    "b = torch.randn(1,requires_grad=True)\n",
    "for i in range(num_epochs):\n",
    "    #(1)FORWARD PASS\n",
    "    \n",
    "    #compute the predictions\n",
    "    y_pred = model(w,b,X_train)\n",
    "    \n",
    "    #compute the loss\n",
    "    loss = MSE(Y_train,y_pred)\n",
    "    \n",
    "    #(2)BACK-PROPOGATION    \n",
    "    \n",
    "    #compute the gradients\n",
    "    loss.backward()\n",
    "    \n",
    "    #update the weights\n",
    "    with torch.no_grad():\n",
    "        w.data = w.data - lr * w.grad\n",
    "        b.data = b.data - lr * b.grad\n",
    "        w.grad.zero_()\n",
    "        b.grad.zero_()\n",
    "    if i%100==0:\n",
    "        print(f'w: {w.item():0.5f} b : {b.item():0.5f} loss : {loss.item():0.8f}')"
   ]
  },
  {
   "cell_type": "code",
   "execution_count": 66,
   "id": "e8209769",
   "metadata": {},
   "outputs": [
    {
     "data": {
      "image/png": "[encoded data removed]",
      "text/plain": [
       "<Figure size 432x360 with 1 Axes>"
      ]
     },
     "metadata": {
      "needs_background": "light"
     },
     "output_type": "display_data"
    }
   ],
   "source": [
    "DisplayResults(w,b,X_test,Y_test)"
   ]
  },
  {
   "cell_type": "markdown",
   "id": "20b4d8b6",
   "metadata": {},
   "source": [
    "### b. Implement  Graident Decent with Pytorch Optimizer"
   ]
  },
  {
   "cell_type": "code",
   "execution_count": 67,
   "id": "2dd3b010",
   "metadata": {},
   "outputs": [
    {
     "name": "stdout",
     "output_type": "stream",
     "text": [
      "w: 7.07209 b : 3.42984 loss : 0.07917280\n",
      "w: 6.97833 b : 3.52597 loss : 0.07916825\n",
      "w: 6.97903 b : 3.52598 loss : 0.07916818\n",
      "w: 6.97903 b : 3.52597 loss : 0.07916819\n"
     ]
    }
   ],
   "source": [
    "#Better way of doing gradient decent. In fact, this is what we must do!\n",
    "optimizer = torch.optim.Adam([w, b], lr = 0.1)\n",
    "for i in range(num_epochs):\n",
    "    #(1)FORWARD PASS\n",
    "    \n",
    "    #compute the predictions\n",
    "    y_pred = model(w,b,X_train)\n",
    "    \n",
    "    #compute the loss\n",
    "    loss = MSE(Y_train,y_pred)\n",
    "    \n",
    "    #(2)BACK-PROPOGATION    \n",
    "    \n",
    "    #compute the gradients\n",
    "    loss.backward()\n",
    "    \n",
    "    #update the parameters\n",
    "    optimizer.step()\n",
    "    \n",
    "    #detach the gradients\n",
    "    optimizer.zero_grad()\n",
    "    \n",
    "    if i%100==0:\n",
    "        print(f'w: {w.item():0.5f} b : {b.item():0.5f} loss : {loss.item():0.8f}')"
   ]
  },
  {
   "cell_type": "code",
   "execution_count": 68,
   "id": "d32a9d63",
   "metadata": {},
   "outputs": [
    {
     "data": {
      "image/png": "[encoded data removed]",
      "text/plain": [
       "<Figure size 432x360 with 1 Axes>"
      ]
     },
     "metadata": {
      "needs_background": "light"
     },
     "output_type": "display_data"
    }
   ],
   "source": [
    "DisplayResults(w,b,X_test,Y_test)"
   ]
  },
  {
   "cell_type": "code",
   "execution_count": null,
   "id": "37d90d20",
   "metadata": {},
   "outputs": [],
   "source": []
  },
  {
   "cell_type": "code",
   "execution_count": null,
   "id": "a3d06717",
   "metadata": {},
   "outputs": [],
   "source": []
  },
  {
   "cell_type": "code",
   "execution_count": null,
   "id": "a8dc6ad5",
   "metadata": {},
   "outputs": [],
   "source": []
  }
 ],
 "metadata": {
  "kernelspec": {
   "display_name": "Python 3 (ipykernel)",
   "language": "python",
   "name": "python3"
  },
  "language_info": {
   "codemirror_mode": {
    "name": "ipython",
    "version": 3
   },
   "file_extension": ".py",
   "mimetype": "text/x-python",
   "name": "python",
   "nbconvert_exporter": "python",
   "pygments_lexer": "ipython3",
   "version": "3.8.10"
  },
  "latex_envs": {
   "LaTeX_envs_menu_present": true,
   "autoclose": true,
   "autocomplete": true,
   "bibliofile": "biblio.bib",
   "cite_by": "apalike",
   "current_citInitial": 1,
   "eqLabelWithNumbers": true,
   "eqNumInitial": 1,
   "hotkeys": {
    "equation": "Ctrl-E",
    "itemize": "Ctrl-I"
   },
   "labels_anchors": false,
   "latex_user_defs": false,
   "report_style_numbering": false,
   "user_envs_cfg": false
  }
 },
 "nbformat": 4,
 "nbformat_minor": 5
}
